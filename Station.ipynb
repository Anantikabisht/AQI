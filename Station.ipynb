{
 "cells": [
  {
   "cell_type": "markdown",
   "id": "9355e429",
   "metadata": {},
   "source": [
    "#                                                AQI-AIR QUALITY INDEX"
   ]
  },
  {
   "cell_type": "markdown",
   "id": "810c58b3",
   "metadata": {},
   "source": [
    "## 1. Load dataset and read the dataset\n",
    "-> import library\\\n",
    "-> load dataset\\\n",
    "-> reading as per data"
   ]
  },
  {
   "cell_type": "code",
   "execution_count": 1,
   "id": "3a7820cd",
   "metadata": {},
   "outputs": [
    {
     "data": {
      "text/plain": [
       "FutureWarning('ignore')"
      ]
     },
     "execution_count": 1,
     "metadata": {},
     "output_type": "execute_result"
    }
   ],
   "source": [
    "#pip install pandas-profiling\n",
    "from sklearn.experimental import enable_iterative_imputer\n",
    "from sklearn.impute import IterativeImputer\n",
    "from sklearn import preprocessing\n",
    "from sklearn import ensemble\n",
    "from pmdarima import auto_arima\n",
    "from statsmodels.tsa.arima_model import ARIMA\n",
    "from sklearn.preprocessing import LabelEncoder\n",
    "from statsmodels.tsa.stattools import adfuller\n",
    "from sklearn.ensemble import RandomForestRegressor\n",
    "from sklearn.model_selection import train_test_split\n",
    "#from pandas_profiling import ProfileReport\n",
    "import numpy as np\n",
    "import pandas as pd\n",
    "import sklearn as sk\n",
    "import seaborn as sns\n",
    "import matplotlib.pyplot as plt\n",
    "import datetime\n",
    "import warnings\n",
    "warnings.filterwarnings(\"ignore\")\n",
    "DeprecationWarning(\"ignore\")\n",
    "FutureWarning(\"ignore\")"
   ]
  },
  {
   "cell_type": "markdown",
   "id": "b0c46277",
   "metadata": {},
   "source": [
    "Load dataset and visualizing the raw data."
   ]
  },
  {
   "cell_type": "code",
   "execution_count": 2,
   "id": "56fe8e46",
   "metadata": {},
   "outputs": [],
   "source": [
    "da=pd.read_csv(\"station_day.csv\")\n",
    "ds=pd.read_csv(\"stations.csv\")"
   ]
  },
  {
   "cell_type": "code",
   "execution_count": 3,
   "id": "e670dfd8",
   "metadata": {},
   "outputs": [
    {
     "data": {
      "text/html": [
       "<div>\n",
       "<style scoped>\n",
       "    .dataframe tbody tr th:only-of-type {\n",
       "        vertical-align: middle;\n",
       "    }\n",
       "\n",
       "    .dataframe tbody tr th {\n",
       "        vertical-align: top;\n",
       "    }\n",
       "\n",
       "    .dataframe thead th {\n",
       "        text-align: right;\n",
       "    }\n",
       "</style>\n",
       "<table border=\"1\" class=\"dataframe\">\n",
       "  <thead>\n",
       "    <tr style=\"text-align: right;\">\n",
       "      <th></th>\n",
       "      <th>StationId</th>\n",
       "      <th>Date</th>\n",
       "      <th>PM2.5</th>\n",
       "      <th>PM10</th>\n",
       "      <th>NO</th>\n",
       "      <th>NO2</th>\n",
       "      <th>NOx</th>\n",
       "      <th>NH3</th>\n",
       "      <th>CO</th>\n",
       "      <th>SO2</th>\n",
       "      <th>O3</th>\n",
       "      <th>Benzene</th>\n",
       "      <th>Toluene</th>\n",
       "      <th>Xylene</th>\n",
       "      <th>AQI</th>\n",
       "      <th>AQI_Bucket</th>\n",
       "    </tr>\n",
       "  </thead>\n",
       "  <tbody>\n",
       "    <tr>\n",
       "      <th>0</th>\n",
       "      <td>AP001</td>\n",
       "      <td>2017-11-24</td>\n",
       "      <td>71.36</td>\n",
       "      <td>115.75</td>\n",
       "      <td>1.75</td>\n",
       "      <td>20.65</td>\n",
       "      <td>12.40</td>\n",
       "      <td>12.19</td>\n",
       "      <td>0.10</td>\n",
       "      <td>10.76</td>\n",
       "      <td>109.26</td>\n",
       "      <td>0.17</td>\n",
       "      <td>5.92</td>\n",
       "      <td>0.10</td>\n",
       "      <td>NaN</td>\n",
       "      <td>NaN</td>\n",
       "    </tr>\n",
       "    <tr>\n",
       "      <th>1</th>\n",
       "      <td>AP001</td>\n",
       "      <td>2017-11-25</td>\n",
       "      <td>81.40</td>\n",
       "      <td>124.50</td>\n",
       "      <td>1.44</td>\n",
       "      <td>20.50</td>\n",
       "      <td>12.08</td>\n",
       "      <td>10.72</td>\n",
       "      <td>0.12</td>\n",
       "      <td>15.24</td>\n",
       "      <td>127.09</td>\n",
       "      <td>0.20</td>\n",
       "      <td>6.50</td>\n",
       "      <td>0.06</td>\n",
       "      <td>184.0</td>\n",
       "      <td>Moderate</td>\n",
       "    </tr>\n",
       "    <tr>\n",
       "      <th>2</th>\n",
       "      <td>AP001</td>\n",
       "      <td>2017-11-26</td>\n",
       "      <td>78.32</td>\n",
       "      <td>129.06</td>\n",
       "      <td>1.26</td>\n",
       "      <td>26.00</td>\n",
       "      <td>14.85</td>\n",
       "      <td>10.28</td>\n",
       "      <td>0.14</td>\n",
       "      <td>26.96</td>\n",
       "      <td>117.44</td>\n",
       "      <td>0.22</td>\n",
       "      <td>7.95</td>\n",
       "      <td>0.08</td>\n",
       "      <td>197.0</td>\n",
       "      <td>Moderate</td>\n",
       "    </tr>\n",
       "    <tr>\n",
       "      <th>3</th>\n",
       "      <td>AP001</td>\n",
       "      <td>2017-11-27</td>\n",
       "      <td>88.76</td>\n",
       "      <td>135.32</td>\n",
       "      <td>6.60</td>\n",
       "      <td>30.85</td>\n",
       "      <td>21.77</td>\n",
       "      <td>12.91</td>\n",
       "      <td>0.11</td>\n",
       "      <td>33.59</td>\n",
       "      <td>111.81</td>\n",
       "      <td>0.29</td>\n",
       "      <td>7.63</td>\n",
       "      <td>0.12</td>\n",
       "      <td>198.0</td>\n",
       "      <td>Moderate</td>\n",
       "    </tr>\n",
       "    <tr>\n",
       "      <th>4</th>\n",
       "      <td>AP001</td>\n",
       "      <td>2017-11-28</td>\n",
       "      <td>64.18</td>\n",
       "      <td>104.09</td>\n",
       "      <td>2.56</td>\n",
       "      <td>28.07</td>\n",
       "      <td>17.01</td>\n",
       "      <td>11.42</td>\n",
       "      <td>0.09</td>\n",
       "      <td>19.00</td>\n",
       "      <td>138.18</td>\n",
       "      <td>0.17</td>\n",
       "      <td>5.02</td>\n",
       "      <td>0.07</td>\n",
       "      <td>188.0</td>\n",
       "      <td>Moderate</td>\n",
       "    </tr>\n",
       "  </tbody>\n",
       "</table>\n",
       "</div>"
      ],
      "text/plain": [
       "  StationId        Date  PM2.5    PM10    NO    NO2    NOx    NH3    CO  \\\n",
       "0     AP001  2017-11-24  71.36  115.75  1.75  20.65  12.40  12.19  0.10   \n",
       "1     AP001  2017-11-25  81.40  124.50  1.44  20.50  12.08  10.72  0.12   \n",
       "2     AP001  2017-11-26  78.32  129.06  1.26  26.00  14.85  10.28  0.14   \n",
       "3     AP001  2017-11-27  88.76  135.32  6.60  30.85  21.77  12.91  0.11   \n",
       "4     AP001  2017-11-28  64.18  104.09  2.56  28.07  17.01  11.42  0.09   \n",
       "\n",
       "     SO2      O3  Benzene  Toluene  Xylene    AQI AQI_Bucket  \n",
       "0  10.76  109.26     0.17     5.92    0.10    NaN        NaN  \n",
       "1  15.24  127.09     0.20     6.50    0.06  184.0   Moderate  \n",
       "2  26.96  117.44     0.22     7.95    0.08  197.0   Moderate  \n",
       "3  33.59  111.81     0.29     7.63    0.12  198.0   Moderate  \n",
       "4  19.00  138.18     0.17     5.02    0.07  188.0   Moderate  "
      ]
     },
     "execution_count": 3,
     "metadata": {},
     "output_type": "execute_result"
    }
   ],
   "source": [
    "da.head(5)  # station_day"
   ]
  },
  {
   "cell_type": "code",
   "execution_count": 4,
   "id": "ce3c2aa9",
   "metadata": {},
   "outputs": [
    {
     "data": {
      "text/html": [
       "<div>\n",
       "<style scoped>\n",
       "    .dataframe tbody tr th:only-of-type {\n",
       "        vertical-align: middle;\n",
       "    }\n",
       "\n",
       "    .dataframe tbody tr th {\n",
       "        vertical-align: top;\n",
       "    }\n",
       "\n",
       "    .dataframe thead th {\n",
       "        text-align: right;\n",
       "    }\n",
       "</style>\n",
       "<table border=\"1\" class=\"dataframe\">\n",
       "  <thead>\n",
       "    <tr style=\"text-align: right;\">\n",
       "      <th></th>\n",
       "      <th>StationId</th>\n",
       "      <th>StationName</th>\n",
       "      <th>City</th>\n",
       "      <th>State</th>\n",
       "      <th>Status</th>\n",
       "    </tr>\n",
       "  </thead>\n",
       "  <tbody>\n",
       "    <tr>\n",
       "      <th>0</th>\n",
       "      <td>AP001</td>\n",
       "      <td>Secretariat, Amaravati - APPCB</td>\n",
       "      <td>Amaravati</td>\n",
       "      <td>Andhra Pradesh</td>\n",
       "      <td>Active</td>\n",
       "    </tr>\n",
       "    <tr>\n",
       "      <th>1</th>\n",
       "      <td>AP002</td>\n",
       "      <td>Anand Kala Kshetram, Rajamahendravaram - APPCB</td>\n",
       "      <td>Rajamahendravaram</td>\n",
       "      <td>Andhra Pradesh</td>\n",
       "      <td>NaN</td>\n",
       "    </tr>\n",
       "    <tr>\n",
       "      <th>2</th>\n",
       "      <td>AP003</td>\n",
       "      <td>Tirumala, Tirupati - APPCB</td>\n",
       "      <td>Tirupati</td>\n",
       "      <td>Andhra Pradesh</td>\n",
       "      <td>NaN</td>\n",
       "    </tr>\n",
       "    <tr>\n",
       "      <th>3</th>\n",
       "      <td>AP004</td>\n",
       "      <td>PWD Grounds, Vijayawada - APPCB</td>\n",
       "      <td>Vijayawada</td>\n",
       "      <td>Andhra Pradesh</td>\n",
       "      <td>NaN</td>\n",
       "    </tr>\n",
       "    <tr>\n",
       "      <th>4</th>\n",
       "      <td>AP005</td>\n",
       "      <td>GVM Corporation, Visakhapatnam - APPCB</td>\n",
       "      <td>Visakhapatnam</td>\n",
       "      <td>Andhra Pradesh</td>\n",
       "      <td>Active</td>\n",
       "    </tr>\n",
       "  </tbody>\n",
       "</table>\n",
       "</div>"
      ],
      "text/plain": [
       "  StationId                                     StationName  \\\n",
       "0     AP001                  Secretariat, Amaravati - APPCB   \n",
       "1     AP002  Anand Kala Kshetram, Rajamahendravaram - APPCB   \n",
       "2     AP003                      Tirumala, Tirupati - APPCB   \n",
       "3     AP004                 PWD Grounds, Vijayawada - APPCB   \n",
       "4     AP005          GVM Corporation, Visakhapatnam - APPCB   \n",
       "\n",
       "                City           State  Status  \n",
       "0          Amaravati  Andhra Pradesh  Active  \n",
       "1  Rajamahendravaram  Andhra Pradesh     NaN  \n",
       "2           Tirupati  Andhra Pradesh     NaN  \n",
       "3         Vijayawada  Andhra Pradesh     NaN  \n",
       "4      Visakhapatnam  Andhra Pradesh  Active  "
      ]
     },
     "execution_count": 4,
     "metadata": {},
     "output_type": "execute_result"
    }
   ],
   "source": [
    "ds.head(5)  #station"
   ]
  },
  {
   "cell_type": "code",
   "execution_count": 5,
   "id": "e4be76ae",
   "metadata": {},
   "outputs": [],
   "source": [
    "# creating a visualization report of raw data to get a quick view of dataset.\n",
    "#station_day=ProfileReport(da,title=\"station_day\")\n",
    "#station_day.to_file(output_file=\"station_day.html\")"
   ]
  },
  {
   "cell_type": "code",
   "execution_count": 6,
   "id": "dde3563c",
   "metadata": {},
   "outputs": [],
   "source": [
    "# creating a visualization report of raw data to get a quick view of dataset.\n",
    "#stations=ProfileReport(ds,title=\"stations\")\n",
    "#stations.to_file(output_file=\"stations_stat.html\")"
   ]
  },
  {
   "cell_type": "markdown",
   "id": "0d563510",
   "metadata": {},
   "source": [
    "Since, both the dataframes are having similar type of columns,we can join the dataframes and can work further."
   ]
  },
  {
   "cell_type": "code",
   "execution_count": 7,
   "id": "74ab4a6d",
   "metadata": {},
   "outputs": [],
   "source": [
    "df = da.merge(ds, on = \"StationId\")   #join both dataframes on stationId.(since,it is common)"
   ]
  },
  {
   "cell_type": "code",
   "execution_count": 8,
   "id": "2dc5c29f",
   "metadata": {},
   "outputs": [
    {
     "name": "stdout",
     "output_type": "stream",
     "text": [
      "<class 'pandas.core.frame.DataFrame'>\n",
      "Int64Index: 108035 entries, 0 to 108034\n",
      "Data columns (total 20 columns):\n",
      " #   Column       Non-Null Count   Dtype  \n",
      "---  ------       --------------   -----  \n",
      " 0   StationId    108035 non-null  object \n",
      " 1   Date         108035 non-null  object \n",
      " 2   PM2.5        86410 non-null   float64\n",
      " 3   PM10         65329 non-null   float64\n",
      " 4   NO           90929 non-null   float64\n",
      " 5   NO2          91488 non-null   float64\n",
      " 6   NOx          92535 non-null   float64\n",
      " 7   NH3          59930 non-null   float64\n",
      " 8   CO           95037 non-null   float64\n",
      " 9   SO2          82831 non-null   float64\n",
      " 10  O3           82467 non-null   float64\n",
      " 11  Benzene      76580 non-null   float64\n",
      " 12  Toluene      69333 non-null   float64\n",
      " 13  Xylene       22898 non-null   float64\n",
      " 14  AQI          87025 non-null   float64\n",
      " 15  AQI_Bucket   87025 non-null   object \n",
      " 16  StationName  108035 non-null  object \n",
      " 17  City         108035 non-null  object \n",
      " 18  State        108035 non-null  object \n",
      " 19  Status       107711 non-null  object \n",
      "dtypes: float64(13), object(7)\n",
      "memory usage: 17.3+ MB\n"
     ]
    }
   ],
   "source": [
    "df.info()"
   ]
  },
  {
   "cell_type": "code",
   "execution_count": 9,
   "id": "ff497594",
   "metadata": {},
   "outputs": [],
   "source": [
    "# Visualization report of this combined dataset.\n",
    "#Station=ProfileReport(df,title=\"Station\")\n",
    "#Station.to_file(output_file=\"Station.html\")"
   ]
  },
  {
   "cell_type": "markdown",
   "id": "4f8c82c0",
   "metadata": {},
   "source": [
    "## Reading:\n",
    "\n",
    "From the above report, it can be clearly seen the dataset consists of lot of null values, and those variables do have a\n",
    "role in predicting the values."
   ]
  },
  {
   "cell_type": "markdown",
   "id": "3e300240",
   "metadata": {},
   "source": [
    "## 2. Data cleaning and processing\n",
    "-fill the null values by appropriate method.\\\n",
    "-refine the data to perform EDA."
   ]
  },
  {
   "cell_type": "code",
   "execution_count": 10,
   "id": "a24c560b",
   "metadata": {},
   "outputs": [
    {
     "name": "stdout",
     "output_type": "stream",
     "text": [
      "<class 'pandas.core.frame.DataFrame'>\n",
      "Int64Index: 108035 entries, 0 to 108034\n",
      "Data columns (total 20 columns):\n",
      " #   Column       Non-Null Count   Dtype  \n",
      "---  ------       --------------   -----  \n",
      " 0   StationId    108035 non-null  object \n",
      " 1   Date         108035 non-null  object \n",
      " 2   PM2.5        86410 non-null   float64\n",
      " 3   PM10         65329 non-null   float64\n",
      " 4   NO           90929 non-null   float64\n",
      " 5   NO2          91488 non-null   float64\n",
      " 6   NOx          92535 non-null   float64\n",
      " 7   NH3          59930 non-null   float64\n",
      " 8   CO           95037 non-null   float64\n",
      " 9   SO2          82831 non-null   float64\n",
      " 10  O3           82467 non-null   float64\n",
      " 11  Benzene      76580 non-null   float64\n",
      " 12  Toluene      69333 non-null   float64\n",
      " 13  Xylene       22898 non-null   float64\n",
      " 14  AQI          87025 non-null   float64\n",
      " 15  AQI_Bucket   87025 non-null   object \n",
      " 16  StationName  108035 non-null  object \n",
      " 17  City         108035 non-null  object \n",
      " 18  State        108035 non-null  object \n",
      " 19  Status       107711 non-null  object \n",
      "dtypes: float64(13), object(7)\n",
      "memory usage: 17.3+ MB\n"
     ]
    }
   ],
   "source": [
    "df.info()"
   ]
  },
  {
   "cell_type": "code",
   "execution_count": 11,
   "id": "516cabf5",
   "metadata": {},
   "outputs": [
    {
     "data": {
      "text/plain": [
       "StationId          0\n",
       "Date               0\n",
       "PM2.5          21625\n",
       "PM10           42706\n",
       "NO             17106\n",
       "NO2            16547\n",
       "NOx            15500\n",
       "NH3            48105\n",
       "CO             12998\n",
       "SO2            25204\n",
       "O3             25568\n",
       "Benzene        31455\n",
       "Toluene        38702\n",
       "Xylene         85137\n",
       "AQI            21010\n",
       "AQI_Bucket     21010\n",
       "StationName        0\n",
       "City               0\n",
       "State              0\n",
       "Status           324\n",
       "dtype: int64"
      ]
     },
     "execution_count": 11,
     "metadata": {},
     "output_type": "execute_result"
    }
   ],
   "source": [
    "#null values columns in data\n",
    "df.isna().sum()"
   ]
  },
  {
   "cell_type": "markdown",
   "id": "7282052c",
   "metadata": {},
   "source": [
    "Now, whether to drop null values or fill it with other method depends upon the correlation of columns with AQI and in case of categorical data we can create class."
   ]
  },
  {
   "cell_type": "code",
   "execution_count": 12,
   "id": "4aeeeb14",
   "metadata": {},
   "outputs": [],
   "source": [
    "# creating class for the status,instead of filling with mode.\n",
    "sub_class={np.nan:0,\"Active\":1,\"Inactive\":2}\n",
    "df[\"Status\"]=df[\"Status\"].map(sub_class)\n",
    "df[\"Status\"]=df[\"Status\"].astype(\"category\")"
   ]
  },
  {
   "cell_type": "code",
   "execution_count": 13,
   "id": "1aa7ab98",
   "metadata": {},
   "outputs": [],
   "source": [
    "vax = df.select_dtypes(np.float64).columns  # since the datatype of null values column is float"
   ]
  },
  {
   "cell_type": "code",
   "execution_count": 14,
   "id": "526e4296",
   "metadata": {},
   "outputs": [],
   "source": [
    "#defining function to calculate AQI\n",
    "corrl=[]\n",
    "def cor(x):\n",
    "    a=df[\"AQI\"].corr(x)\n",
    "    return corrl.append(a)"
   ]
  },
  {
   "cell_type": "code",
   "execution_count": 15,
   "id": "89dce2dd",
   "metadata": {},
   "outputs": [],
   "source": [
    "cor(df[\"PM2.5\"])\n",
    "cor(df[\"PM10\"])\n",
    "cor(df[\"NO\"])\n",
    "cor(df[\"NO2\"])\n",
    "cor(df[\"NOx\"])\n",
    "cor(df[\"NH3\"])\n",
    "cor(df[\"CO\"])\n",
    "cor(df[\"SO2\"])\n",
    "cor(df[\"O3\"])\n",
    "cor(df[\"Benzene\"])\n",
    "cor(df[\"Toluene\"])\n",
    "cor(df[\"Xylene\"])"
   ]
  },
  {
   "cell_type": "code",
   "execution_count": 16,
   "id": "dac767fc",
   "metadata": {},
   "outputs": [
    {
     "name": "stdout",
     "output_type": "stream",
     "text": [
      "Variable      Correlation\n",
      "----------  -------------\n",
      "PM2.5            0.814845\n",
      "PM10             0.88507\n",
      "NO               0.476714\n",
      "NO2              0.499207\n",
      "NOx              0.498363\n",
      "NH3              0.440643\n",
      "CO               0.448148\n",
      "SO2              0.393349\n",
      "O3               0.175122\n",
      "Benzene          0.116805\n",
      "Toluene          0.309933\n",
      "Xylene           0.129391\n",
      "AQI\n"
     ]
    }
   ],
   "source": [
    "# creating table to show correlation values.\n",
    "from tabulate import tabulate\n",
    "table=[vax,corrl]\n",
    "print(tabulate({\"Variable\":vax,\"Correaltion\":corrl},headers=[\"Variable\",\"Correlation\"]))"
   ]
  },
  {
   "cell_type": "code",
   "execution_count": 17,
   "id": "7254eb5b",
   "metadata": {},
   "outputs": [],
   "source": [
    "# It is better to fill the values through unbiased method(to prevent from making the data bias.)\n",
    "# select the numerical variables to apply Iterative imputer\n",
    "var=[col for col in df.columns if df[col].dtypes !=\"O\"]\n",
    "# we will be removing these,as AQI is calculated on different basis, and status is not having any null values.\n",
    "var.remove(\"AQI\")\n",
    "var.remove(\"Status\") "
   ]
  },
  {
   "cell_type": "code",
   "execution_count": 18,
   "id": "047a7853",
   "metadata": {},
   "outputs": [
    {
     "data": {
      "text/plain": [
       "IterativeImputer(min_value=0)"
      ]
     },
     "execution_count": 18,
     "metadata": {},
     "output_type": "execute_result"
    }
   ],
   "source": [
    "imputer=IterativeImputer(min_value=0)\n",
    "imputer.fit(df[var])"
   ]
  },
  {
   "cell_type": "code",
   "execution_count": 19,
   "id": "826abbf0",
   "metadata": {},
   "outputs": [],
   "source": [
    "ds=pd.DataFrame(imputer.transform(df[var]))"
   ]
  },
  {
   "cell_type": "code",
   "execution_count": 20,
   "id": "c79cf7a4",
   "metadata": {
    "scrolled": true
   },
   "outputs": [
    {
     "data": {
      "text/plain": [
       "0     0\n",
       "1     0\n",
       "2     0\n",
       "3     0\n",
       "4     0\n",
       "5     0\n",
       "6     0\n",
       "7     0\n",
       "8     0\n",
       "9     0\n",
       "10    0\n",
       "11    0\n",
       "dtype: int64"
      ]
     },
     "execution_count": 20,
     "metadata": {},
     "output_type": "execute_result"
    }
   ],
   "source": [
    "ds.isna().sum()"
   ]
  },
  {
   "cell_type": "code",
   "execution_count": 21,
   "id": "4bc36588",
   "metadata": {},
   "outputs": [
    {
     "data": {
      "text/html": [
       "<div>\n",
       "<style scoped>\n",
       "    .dataframe tbody tr th:only-of-type {\n",
       "        vertical-align: middle;\n",
       "    }\n",
       "\n",
       "    .dataframe tbody tr th {\n",
       "        vertical-align: top;\n",
       "    }\n",
       "\n",
       "    .dataframe thead th {\n",
       "        text-align: right;\n",
       "    }\n",
       "</style>\n",
       "<table border=\"1\" class=\"dataframe\">\n",
       "  <thead>\n",
       "    <tr style=\"text-align: right;\">\n",
       "      <th></th>\n",
       "      <th>0</th>\n",
       "      <th>1</th>\n",
       "      <th>2</th>\n",
       "      <th>3</th>\n",
       "      <th>4</th>\n",
       "      <th>5</th>\n",
       "      <th>6</th>\n",
       "      <th>7</th>\n",
       "      <th>8</th>\n",
       "      <th>9</th>\n",
       "      <th>10</th>\n",
       "      <th>11</th>\n",
       "    </tr>\n",
       "  </thead>\n",
       "  <tbody>\n",
       "    <tr>\n",
       "      <th>0</th>\n",
       "      <td>71.36</td>\n",
       "      <td>115.75</td>\n",
       "      <td>1.750000</td>\n",
       "      <td>20.650000</td>\n",
       "      <td>12.400000</td>\n",
       "      <td>12.190000</td>\n",
       "      <td>0.10</td>\n",
       "      <td>10.76</td>\n",
       "      <td>109.26</td>\n",
       "      <td>0.17</td>\n",
       "      <td>5.92</td>\n",
       "      <td>0.100000</td>\n",
       "    </tr>\n",
       "    <tr>\n",
       "      <th>1</th>\n",
       "      <td>81.40</td>\n",
       "      <td>124.50</td>\n",
       "      <td>1.440000</td>\n",
       "      <td>20.500000</td>\n",
       "      <td>12.080000</td>\n",
       "      <td>10.720000</td>\n",
       "      <td>0.12</td>\n",
       "      <td>15.24</td>\n",
       "      <td>127.09</td>\n",
       "      <td>0.20</td>\n",
       "      <td>6.50</td>\n",
       "      <td>0.060000</td>\n",
       "    </tr>\n",
       "    <tr>\n",
       "      <th>2</th>\n",
       "      <td>78.32</td>\n",
       "      <td>129.06</td>\n",
       "      <td>1.260000</td>\n",
       "      <td>26.000000</td>\n",
       "      <td>14.850000</td>\n",
       "      <td>10.280000</td>\n",
       "      <td>0.14</td>\n",
       "      <td>26.96</td>\n",
       "      <td>117.44</td>\n",
       "      <td>0.22</td>\n",
       "      <td>7.95</td>\n",
       "      <td>0.080000</td>\n",
       "    </tr>\n",
       "    <tr>\n",
       "      <th>3</th>\n",
       "      <td>88.76</td>\n",
       "      <td>135.32</td>\n",
       "      <td>6.600000</td>\n",
       "      <td>30.850000</td>\n",
       "      <td>21.770000</td>\n",
       "      <td>12.910000</td>\n",
       "      <td>0.11</td>\n",
       "      <td>33.59</td>\n",
       "      <td>111.81</td>\n",
       "      <td>0.29</td>\n",
       "      <td>7.63</td>\n",
       "      <td>0.120000</td>\n",
       "    </tr>\n",
       "    <tr>\n",
       "      <th>4</th>\n",
       "      <td>64.18</td>\n",
       "      <td>104.09</td>\n",
       "      <td>2.560000</td>\n",
       "      <td>28.070000</td>\n",
       "      <td>17.010000</td>\n",
       "      <td>11.420000</td>\n",
       "      <td>0.09</td>\n",
       "      <td>19.00</td>\n",
       "      <td>138.18</td>\n",
       "      <td>0.17</td>\n",
       "      <td>5.02</td>\n",
       "      <td>0.070000</td>\n",
       "    </tr>\n",
       "    <tr>\n",
       "      <th>...</th>\n",
       "      <td>...</td>\n",
       "      <td>...</td>\n",
       "      <td>...</td>\n",
       "      <td>...</td>\n",
       "      <td>...</td>\n",
       "      <td>...</td>\n",
       "      <td>...</td>\n",
       "      <td>...</td>\n",
       "      <td>...</td>\n",
       "      <td>...</td>\n",
       "      <td>...</td>\n",
       "      <td>...</td>\n",
       "    </tr>\n",
       "    <tr>\n",
       "      <th>108030</th>\n",
       "      <td>8.65</td>\n",
       "      <td>16.46</td>\n",
       "      <td>2.739921</td>\n",
       "      <td>17.286587</td>\n",
       "      <td>14.700694</td>\n",
       "      <td>19.520552</td>\n",
       "      <td>0.69</td>\n",
       "      <td>4.36</td>\n",
       "      <td>30.59</td>\n",
       "      <td>1.32</td>\n",
       "      <td>7.26</td>\n",
       "      <td>0.000000</td>\n",
       "    </tr>\n",
       "    <tr>\n",
       "      <th>108031</th>\n",
       "      <td>11.80</td>\n",
       "      <td>18.47</td>\n",
       "      <td>2.987294</td>\n",
       "      <td>18.623326</td>\n",
       "      <td>15.807085</td>\n",
       "      <td>20.207771</td>\n",
       "      <td>0.68</td>\n",
       "      <td>3.49</td>\n",
       "      <td>38.95</td>\n",
       "      <td>1.42</td>\n",
       "      <td>7.92</td>\n",
       "      <td>0.000000</td>\n",
       "    </tr>\n",
       "    <tr>\n",
       "      <th>108032</th>\n",
       "      <td>18.60</td>\n",
       "      <td>32.26</td>\n",
       "      <td>13.650000</td>\n",
       "      <td>200.870000</td>\n",
       "      <td>214.200000</td>\n",
       "      <td>11.400000</td>\n",
       "      <td>0.78</td>\n",
       "      <td>5.12</td>\n",
       "      <td>38.17</td>\n",
       "      <td>3.52</td>\n",
       "      <td>8.64</td>\n",
       "      <td>1.165432</td>\n",
       "    </tr>\n",
       "    <tr>\n",
       "      <th>108033</th>\n",
       "      <td>16.07</td>\n",
       "      <td>39.30</td>\n",
       "      <td>7.560000</td>\n",
       "      <td>29.130000</td>\n",
       "      <td>36.690000</td>\n",
       "      <td>29.260000</td>\n",
       "      <td>0.69</td>\n",
       "      <td>5.88</td>\n",
       "      <td>29.64</td>\n",
       "      <td>1.86</td>\n",
       "      <td>8.40</td>\n",
       "      <td>0.000000</td>\n",
       "    </tr>\n",
       "    <tr>\n",
       "      <th>108034</th>\n",
       "      <td>10.50</td>\n",
       "      <td>36.50</td>\n",
       "      <td>7.780000</td>\n",
       "      <td>22.500000</td>\n",
       "      <td>30.250000</td>\n",
       "      <td>27.230000</td>\n",
       "      <td>0.58</td>\n",
       "      <td>2.80</td>\n",
       "      <td>13.10</td>\n",
       "      <td>1.31</td>\n",
       "      <td>7.39</td>\n",
       "      <td>0.000000</td>\n",
       "    </tr>\n",
       "  </tbody>\n",
       "</table>\n",
       "<p>108035 rows × 12 columns</p>\n",
       "</div>"
      ],
      "text/plain": [
       "           0       1          2           3           4          5     6   \\\n",
       "0       71.36  115.75   1.750000   20.650000   12.400000  12.190000  0.10   \n",
       "1       81.40  124.50   1.440000   20.500000   12.080000  10.720000  0.12   \n",
       "2       78.32  129.06   1.260000   26.000000   14.850000  10.280000  0.14   \n",
       "3       88.76  135.32   6.600000   30.850000   21.770000  12.910000  0.11   \n",
       "4       64.18  104.09   2.560000   28.070000   17.010000  11.420000  0.09   \n",
       "...       ...     ...        ...         ...         ...        ...   ...   \n",
       "108030   8.65   16.46   2.739921   17.286587   14.700694  19.520552  0.69   \n",
       "108031  11.80   18.47   2.987294   18.623326   15.807085  20.207771  0.68   \n",
       "108032  18.60   32.26  13.650000  200.870000  214.200000  11.400000  0.78   \n",
       "108033  16.07   39.30   7.560000   29.130000   36.690000  29.260000  0.69   \n",
       "108034  10.50   36.50   7.780000   22.500000   30.250000  27.230000  0.58   \n",
       "\n",
       "           7       8     9     10        11  \n",
       "0       10.76  109.26  0.17  5.92  0.100000  \n",
       "1       15.24  127.09  0.20  6.50  0.060000  \n",
       "2       26.96  117.44  0.22  7.95  0.080000  \n",
       "3       33.59  111.81  0.29  7.63  0.120000  \n",
       "4       19.00  138.18  0.17  5.02  0.070000  \n",
       "...       ...     ...   ...   ...       ...  \n",
       "108030   4.36   30.59  1.32  7.26  0.000000  \n",
       "108031   3.49   38.95  1.42  7.92  0.000000  \n",
       "108032   5.12   38.17  3.52  8.64  1.165432  \n",
       "108033   5.88   29.64  1.86  8.40  0.000000  \n",
       "108034   2.80   13.10  1.31  7.39  0.000000  \n",
       "\n",
       "[108035 rows x 12 columns]"
      ]
     },
     "execution_count": 21,
     "metadata": {},
     "output_type": "execute_result"
    }
   ],
   "source": [
    "ds"
   ]
  },
  {
   "cell_type": "markdown",
   "id": "e3e5723b",
   "metadata": {},
   "source": [
    "All these components effects air quality to an extent.So, it is better not to drop any columns."
   ]
  },
  {
   "cell_type": "code",
   "execution_count": 22,
   "id": "ff959870",
   "metadata": {},
   "outputs": [],
   "source": [
    "#setting columns name\n",
    "ds.columns=['PM2.5', 'PM10', 'NO', 'NO2', 'NOx', 'NH3', 'CO', 'SO2', 'O3','Benzene', 'Toluene', 'Xylene']"
   ]
  },
  {
   "cell_type": "code",
   "execution_count": 23,
   "id": "1d770a45",
   "metadata": {},
   "outputs": [
    {
     "data": {
      "text/plain": [
       "Index(['StationId', 'Date', 'PM2.5', 'PM10', 'NO', 'NO2', 'NOx', 'NH3', 'CO',\n",
       "       'SO2', 'O3', 'Benzene', 'Toluene', 'Xylene', 'AQI', 'AQI_Bucket',\n",
       "       'StationName', 'City', 'State', 'Status'],\n",
       "      dtype='object')"
      ]
     },
     "execution_count": 23,
     "metadata": {},
     "output_type": "execute_result"
    }
   ],
   "source": [
    "df.columns"
   ]
  },
  {
   "cell_type": "code",
   "execution_count": 24,
   "id": "100cd4b0",
   "metadata": {},
   "outputs": [],
   "source": [
    "# Now,adding other columns to dataset  \n",
    "ds[\"City\"]=df[\"City\"]\n",
    "ds[\"Date\"]=df[\"Date\"] \n",
    "ds[\"StationId\"]=df[\"StationId\"]\n",
    "ds[\"StationName\"]=df[\"StationName\"]\n",
    "ds[\"State\"]=df[\"State\"]\n",
    "ds[\"Status\"]=df[\"Status\"]"
   ]
  },
  {
   "cell_type": "code",
   "execution_count": 25,
   "id": "4bc2c034",
   "metadata": {},
   "outputs": [],
   "source": [
    "# Re-indexing the columns.\n",
    "column_names=['Date','StationId','State','StationName','City', 'PM2.5', 'PM10', 'NO', 'NO2', 'NOx', 'NH3', 'CO', 'SO2', 'O3',\n",
    "       'Benzene', 'Toluene', 'Xylene','Status']\n",
    "ds=ds.reindex(columns=column_names)"
   ]
  },
  {
   "cell_type": "markdown",
   "id": "6a2a7ac1",
   "metadata": {},
   "source": [
    "### AQI Calculation\n",
    "Since, for calculating AQI (\"The AQI calculation uses 7 measures: PM2.5, PM10, SO2, NOx, NH3, CO and O3.\"),it has been\n",
    "defined by the authorities to calculate the AQI.SO, we will be calculating AQI(with respect to these columns) and \n",
    "filling the AQI bucket."
   ]
  },
  {
   "cell_type": "code",
   "execution_count": 26,
   "id": "dd0e1953",
   "metadata": {},
   "outputs": [],
   "source": [
    "# importing the file created alreday\n",
    "from form import form_aqi"
   ]
  },
  {
   "cell_type": "code",
   "execution_count": 27,
   "id": "7eadd537",
   "metadata": {},
   "outputs": [],
   "source": [
    "calling=form_aqi"
   ]
  },
  {
   "cell_type": "code",
   "execution_count": 28,
   "id": "97d74c47",
   "metadata": {},
   "outputs": [],
   "source": [
    "#calculating AQI\n",
    "ds[\"AQI\"] = round(ds[[\"PM2.5\", \"PM10\", \"SO2\", \"NOx\",\n",
    "                                 \"NH3\", \"CO\", \"O3\"]].max(axis = 1))\n",
    "# setting AQI bucket\n",
    "ds[\"AQI_bucket\"] = ds[\"AQI\"].apply(lambda x: calling.get_AQI_bucket(x))"
   ]
  },
  {
   "cell_type": "code",
   "execution_count": 29,
   "id": "a94c47b4",
   "metadata": {},
   "outputs": [],
   "source": [
    "ds=ds.round(2) #doing round off."
   ]
  },
  {
   "cell_type": "code",
   "execution_count": 30,
   "id": "9176b60c",
   "metadata": {},
   "outputs": [],
   "source": [
    "ds=ds.set_index(ds[\"Date\"]).drop(\"Date\",1)  #setting date as index\n"
   ]
  },
  {
   "cell_type": "code",
   "execution_count": 31,
   "id": "bdb9aedb",
   "metadata": {},
   "outputs": [
    {
     "data": {
      "text/html": [
       "<div>\n",
       "<style scoped>\n",
       "    .dataframe tbody tr th:only-of-type {\n",
       "        vertical-align: middle;\n",
       "    }\n",
       "\n",
       "    .dataframe tbody tr th {\n",
       "        vertical-align: top;\n",
       "    }\n",
       "\n",
       "    .dataframe thead th {\n",
       "        text-align: right;\n",
       "    }\n",
       "</style>\n",
       "<table border=\"1\" class=\"dataframe\">\n",
       "  <thead>\n",
       "    <tr style=\"text-align: right;\">\n",
       "      <th></th>\n",
       "      <th>StationId</th>\n",
       "      <th>State</th>\n",
       "      <th>StationName</th>\n",
       "      <th>City</th>\n",
       "      <th>PM2.5</th>\n",
       "      <th>PM10</th>\n",
       "      <th>NO</th>\n",
       "      <th>NO2</th>\n",
       "      <th>NOx</th>\n",
       "      <th>NH3</th>\n",
       "      <th>CO</th>\n",
       "      <th>SO2</th>\n",
       "      <th>O3</th>\n",
       "      <th>Benzene</th>\n",
       "      <th>Toluene</th>\n",
       "      <th>Xylene</th>\n",
       "      <th>Status</th>\n",
       "      <th>AQI</th>\n",
       "      <th>AQI_bucket</th>\n",
       "    </tr>\n",
       "    <tr>\n",
       "      <th>Date</th>\n",
       "      <th></th>\n",
       "      <th></th>\n",
       "      <th></th>\n",
       "      <th></th>\n",
       "      <th></th>\n",
       "      <th></th>\n",
       "      <th></th>\n",
       "      <th></th>\n",
       "      <th></th>\n",
       "      <th></th>\n",
       "      <th></th>\n",
       "      <th></th>\n",
       "      <th></th>\n",
       "      <th></th>\n",
       "      <th></th>\n",
       "      <th></th>\n",
       "      <th></th>\n",
       "      <th></th>\n",
       "      <th></th>\n",
       "    </tr>\n",
       "  </thead>\n",
       "  <tbody>\n",
       "    <tr>\n",
       "      <th>2017-11-24</th>\n",
       "      <td>AP001</td>\n",
       "      <td>Andhra Pradesh</td>\n",
       "      <td>Secretariat, Amaravati - APPCB</td>\n",
       "      <td>Amaravati</td>\n",
       "      <td>71.36</td>\n",
       "      <td>115.75</td>\n",
       "      <td>1.75</td>\n",
       "      <td>20.65</td>\n",
       "      <td>12.40</td>\n",
       "      <td>12.19</td>\n",
       "      <td>0.10</td>\n",
       "      <td>10.76</td>\n",
       "      <td>109.26</td>\n",
       "      <td>0.17</td>\n",
       "      <td>5.92</td>\n",
       "      <td>0.10</td>\n",
       "      <td>1</td>\n",
       "      <td>116.0</td>\n",
       "      <td>Moderate</td>\n",
       "    </tr>\n",
       "    <tr>\n",
       "      <th>2017-11-25</th>\n",
       "      <td>AP001</td>\n",
       "      <td>Andhra Pradesh</td>\n",
       "      <td>Secretariat, Amaravati - APPCB</td>\n",
       "      <td>Amaravati</td>\n",
       "      <td>81.40</td>\n",
       "      <td>124.50</td>\n",
       "      <td>1.44</td>\n",
       "      <td>20.50</td>\n",
       "      <td>12.08</td>\n",
       "      <td>10.72</td>\n",
       "      <td>0.12</td>\n",
       "      <td>15.24</td>\n",
       "      <td>127.09</td>\n",
       "      <td>0.20</td>\n",
       "      <td>6.50</td>\n",
       "      <td>0.06</td>\n",
       "      <td>1</td>\n",
       "      <td>127.0</td>\n",
       "      <td>Moderate</td>\n",
       "    </tr>\n",
       "    <tr>\n",
       "      <th>2017-11-26</th>\n",
       "      <td>AP001</td>\n",
       "      <td>Andhra Pradesh</td>\n",
       "      <td>Secretariat, Amaravati - APPCB</td>\n",
       "      <td>Amaravati</td>\n",
       "      <td>78.32</td>\n",
       "      <td>129.06</td>\n",
       "      <td>1.26</td>\n",
       "      <td>26.00</td>\n",
       "      <td>14.85</td>\n",
       "      <td>10.28</td>\n",
       "      <td>0.14</td>\n",
       "      <td>26.96</td>\n",
       "      <td>117.44</td>\n",
       "      <td>0.22</td>\n",
       "      <td>7.95</td>\n",
       "      <td>0.08</td>\n",
       "      <td>1</td>\n",
       "      <td>129.0</td>\n",
       "      <td>Moderate</td>\n",
       "    </tr>\n",
       "    <tr>\n",
       "      <th>2017-11-27</th>\n",
       "      <td>AP001</td>\n",
       "      <td>Andhra Pradesh</td>\n",
       "      <td>Secretariat, Amaravati - APPCB</td>\n",
       "      <td>Amaravati</td>\n",
       "      <td>88.76</td>\n",
       "      <td>135.32</td>\n",
       "      <td>6.60</td>\n",
       "      <td>30.85</td>\n",
       "      <td>21.77</td>\n",
       "      <td>12.91</td>\n",
       "      <td>0.11</td>\n",
       "      <td>33.59</td>\n",
       "      <td>111.81</td>\n",
       "      <td>0.29</td>\n",
       "      <td>7.63</td>\n",
       "      <td>0.12</td>\n",
       "      <td>1</td>\n",
       "      <td>135.0</td>\n",
       "      <td>Moderate</td>\n",
       "    </tr>\n",
       "    <tr>\n",
       "      <th>2017-11-28</th>\n",
       "      <td>AP001</td>\n",
       "      <td>Andhra Pradesh</td>\n",
       "      <td>Secretariat, Amaravati - APPCB</td>\n",
       "      <td>Amaravati</td>\n",
       "      <td>64.18</td>\n",
       "      <td>104.09</td>\n",
       "      <td>2.56</td>\n",
       "      <td>28.07</td>\n",
       "      <td>17.01</td>\n",
       "      <td>11.42</td>\n",
       "      <td>0.09</td>\n",
       "      <td>19.00</td>\n",
       "      <td>138.18</td>\n",
       "      <td>0.17</td>\n",
       "      <td>5.02</td>\n",
       "      <td>0.07</td>\n",
       "      <td>1</td>\n",
       "      <td>138.0</td>\n",
       "      <td>Moderate</td>\n",
       "    </tr>\n",
       "    <tr>\n",
       "      <th>...</th>\n",
       "      <td>...</td>\n",
       "      <td>...</td>\n",
       "      <td>...</td>\n",
       "      <td>...</td>\n",
       "      <td>...</td>\n",
       "      <td>...</td>\n",
       "      <td>...</td>\n",
       "      <td>...</td>\n",
       "      <td>...</td>\n",
       "      <td>...</td>\n",
       "      <td>...</td>\n",
       "      <td>...</td>\n",
       "      <td>...</td>\n",
       "      <td>...</td>\n",
       "      <td>...</td>\n",
       "      <td>...</td>\n",
       "      <td>...</td>\n",
       "      <td>...</td>\n",
       "      <td>...</td>\n",
       "    </tr>\n",
       "    <tr>\n",
       "      <th>2020-06-27</th>\n",
       "      <td>WB013</td>\n",
       "      <td>West Bengal</td>\n",
       "      <td>Victoria, Kolkata - WBPCB</td>\n",
       "      <td>Kolkata</td>\n",
       "      <td>8.65</td>\n",
       "      <td>16.46</td>\n",
       "      <td>2.74</td>\n",
       "      <td>17.29</td>\n",
       "      <td>14.70</td>\n",
       "      <td>19.52</td>\n",
       "      <td>0.69</td>\n",
       "      <td>4.36</td>\n",
       "      <td>30.59</td>\n",
       "      <td>1.32</td>\n",
       "      <td>7.26</td>\n",
       "      <td>0.00</td>\n",
       "      <td>1</td>\n",
       "      <td>31.0</td>\n",
       "      <td>Good</td>\n",
       "    </tr>\n",
       "    <tr>\n",
       "      <th>2020-06-28</th>\n",
       "      <td>WB013</td>\n",
       "      <td>West Bengal</td>\n",
       "      <td>Victoria, Kolkata - WBPCB</td>\n",
       "      <td>Kolkata</td>\n",
       "      <td>11.80</td>\n",
       "      <td>18.47</td>\n",
       "      <td>2.99</td>\n",
       "      <td>18.62</td>\n",
       "      <td>15.81</td>\n",
       "      <td>20.21</td>\n",
       "      <td>0.68</td>\n",
       "      <td>3.49</td>\n",
       "      <td>38.95</td>\n",
       "      <td>1.42</td>\n",
       "      <td>7.92</td>\n",
       "      <td>0.00</td>\n",
       "      <td>1</td>\n",
       "      <td>39.0</td>\n",
       "      <td>Good</td>\n",
       "    </tr>\n",
       "    <tr>\n",
       "      <th>2020-06-29</th>\n",
       "      <td>WB013</td>\n",
       "      <td>West Bengal</td>\n",
       "      <td>Victoria, Kolkata - WBPCB</td>\n",
       "      <td>Kolkata</td>\n",
       "      <td>18.60</td>\n",
       "      <td>32.26</td>\n",
       "      <td>13.65</td>\n",
       "      <td>200.87</td>\n",
       "      <td>214.20</td>\n",
       "      <td>11.40</td>\n",
       "      <td>0.78</td>\n",
       "      <td>5.12</td>\n",
       "      <td>38.17</td>\n",
       "      <td>3.52</td>\n",
       "      <td>8.64</td>\n",
       "      <td>1.17</td>\n",
       "      <td>1</td>\n",
       "      <td>214.0</td>\n",
       "      <td>Poor</td>\n",
       "    </tr>\n",
       "    <tr>\n",
       "      <th>2020-06-30</th>\n",
       "      <td>WB013</td>\n",
       "      <td>West Bengal</td>\n",
       "      <td>Victoria, Kolkata - WBPCB</td>\n",
       "      <td>Kolkata</td>\n",
       "      <td>16.07</td>\n",
       "      <td>39.30</td>\n",
       "      <td>7.56</td>\n",
       "      <td>29.13</td>\n",
       "      <td>36.69</td>\n",
       "      <td>29.26</td>\n",
       "      <td>0.69</td>\n",
       "      <td>5.88</td>\n",
       "      <td>29.64</td>\n",
       "      <td>1.86</td>\n",
       "      <td>8.40</td>\n",
       "      <td>0.00</td>\n",
       "      <td>1</td>\n",
       "      <td>39.0</td>\n",
       "      <td>Good</td>\n",
       "    </tr>\n",
       "    <tr>\n",
       "      <th>2020-07-01</th>\n",
       "      <td>WB013</td>\n",
       "      <td>West Bengal</td>\n",
       "      <td>Victoria, Kolkata - WBPCB</td>\n",
       "      <td>Kolkata</td>\n",
       "      <td>10.50</td>\n",
       "      <td>36.50</td>\n",
       "      <td>7.78</td>\n",
       "      <td>22.50</td>\n",
       "      <td>30.25</td>\n",
       "      <td>27.23</td>\n",
       "      <td>0.58</td>\n",
       "      <td>2.80</td>\n",
       "      <td>13.10</td>\n",
       "      <td>1.31</td>\n",
       "      <td>7.39</td>\n",
       "      <td>0.00</td>\n",
       "      <td>1</td>\n",
       "      <td>36.0</td>\n",
       "      <td>Good</td>\n",
       "    </tr>\n",
       "  </tbody>\n",
       "</table>\n",
       "<p>108035 rows × 19 columns</p>\n",
       "</div>"
      ],
      "text/plain": [
       "           StationId           State                     StationName  \\\n",
       "Date                                                                   \n",
       "2017-11-24     AP001  Andhra Pradesh  Secretariat, Amaravati - APPCB   \n",
       "2017-11-25     AP001  Andhra Pradesh  Secretariat, Amaravati - APPCB   \n",
       "2017-11-26     AP001  Andhra Pradesh  Secretariat, Amaravati - APPCB   \n",
       "2017-11-27     AP001  Andhra Pradesh  Secretariat, Amaravati - APPCB   \n",
       "2017-11-28     AP001  Andhra Pradesh  Secretariat, Amaravati - APPCB   \n",
       "...              ...             ...                             ...   \n",
       "2020-06-27     WB013     West Bengal       Victoria, Kolkata - WBPCB   \n",
       "2020-06-28     WB013     West Bengal       Victoria, Kolkata - WBPCB   \n",
       "2020-06-29     WB013     West Bengal       Victoria, Kolkata - WBPCB   \n",
       "2020-06-30     WB013     West Bengal       Victoria, Kolkata - WBPCB   \n",
       "2020-07-01     WB013     West Bengal       Victoria, Kolkata - WBPCB   \n",
       "\n",
       "                 City  PM2.5    PM10     NO     NO2     NOx    NH3    CO  \\\n",
       "Date                                                                       \n",
       "2017-11-24  Amaravati  71.36  115.75   1.75   20.65   12.40  12.19  0.10   \n",
       "2017-11-25  Amaravati  81.40  124.50   1.44   20.50   12.08  10.72  0.12   \n",
       "2017-11-26  Amaravati  78.32  129.06   1.26   26.00   14.85  10.28  0.14   \n",
       "2017-11-27  Amaravati  88.76  135.32   6.60   30.85   21.77  12.91  0.11   \n",
       "2017-11-28  Amaravati  64.18  104.09   2.56   28.07   17.01  11.42  0.09   \n",
       "...               ...    ...     ...    ...     ...     ...    ...   ...   \n",
       "2020-06-27    Kolkata   8.65   16.46   2.74   17.29   14.70  19.52  0.69   \n",
       "2020-06-28    Kolkata  11.80   18.47   2.99   18.62   15.81  20.21  0.68   \n",
       "2020-06-29    Kolkata  18.60   32.26  13.65  200.87  214.20  11.40  0.78   \n",
       "2020-06-30    Kolkata  16.07   39.30   7.56   29.13   36.69  29.26  0.69   \n",
       "2020-07-01    Kolkata  10.50   36.50   7.78   22.50   30.25  27.23  0.58   \n",
       "\n",
       "              SO2      O3  Benzene  Toluene  Xylene Status    AQI AQI_bucket  \n",
       "Date                                                                          \n",
       "2017-11-24  10.76  109.26     0.17     5.92    0.10      1  116.0   Moderate  \n",
       "2017-11-25  15.24  127.09     0.20     6.50    0.06      1  127.0   Moderate  \n",
       "2017-11-26  26.96  117.44     0.22     7.95    0.08      1  129.0   Moderate  \n",
       "2017-11-27  33.59  111.81     0.29     7.63    0.12      1  135.0   Moderate  \n",
       "2017-11-28  19.00  138.18     0.17     5.02    0.07      1  138.0   Moderate  \n",
       "...           ...     ...      ...      ...     ...    ...    ...        ...  \n",
       "2020-06-27   4.36   30.59     1.32     7.26    0.00      1   31.0       Good  \n",
       "2020-06-28   3.49   38.95     1.42     7.92    0.00      1   39.0       Good  \n",
       "2020-06-29   5.12   38.17     3.52     8.64    1.17      1  214.0       Poor  \n",
       "2020-06-30   5.88   29.64     1.86     8.40    0.00      1   39.0       Good  \n",
       "2020-07-01   2.80   13.10     1.31     7.39    0.00      1   36.0       Good  \n",
       "\n",
       "[108035 rows x 19 columns]"
      ]
     },
     "execution_count": 31,
     "metadata": {},
     "output_type": "execute_result"
    }
   ],
   "source": [
    "ds"
   ]
  },
  {
   "cell_type": "code",
   "execution_count": 32,
   "id": "6d8ae597",
   "metadata": {},
   "outputs": [],
   "source": [
    "ds.to_csv(r\"D:\\python_lectures\\Techstack/new_Station.csv\")   # saving the file"
   ]
  },
  {
   "cell_type": "code",
   "execution_count": 33,
   "id": "27a1e1b5",
   "metadata": {},
   "outputs": [],
   "source": [
    "df=pd.read_csv(\"new_Station.csv\")"
   ]
  },
  {
   "cell_type": "code",
   "execution_count": 34,
   "id": "2600fca1",
   "metadata": {},
   "outputs": [
    {
     "data": {
      "text/html": [
       "<div>\n",
       "<style scoped>\n",
       "    .dataframe tbody tr th:only-of-type {\n",
       "        vertical-align: middle;\n",
       "    }\n",
       "\n",
       "    .dataframe tbody tr th {\n",
       "        vertical-align: top;\n",
       "    }\n",
       "\n",
       "    .dataframe thead th {\n",
       "        text-align: right;\n",
       "    }\n",
       "</style>\n",
       "<table border=\"1\" class=\"dataframe\">\n",
       "  <thead>\n",
       "    <tr style=\"text-align: right;\">\n",
       "      <th></th>\n",
       "      <th>Date</th>\n",
       "      <th>StationId</th>\n",
       "      <th>State</th>\n",
       "      <th>StationName</th>\n",
       "      <th>City</th>\n",
       "      <th>PM2.5</th>\n",
       "      <th>PM10</th>\n",
       "      <th>NO</th>\n",
       "      <th>NO2</th>\n",
       "      <th>NOx</th>\n",
       "      <th>NH3</th>\n",
       "      <th>CO</th>\n",
       "      <th>SO2</th>\n",
       "      <th>O3</th>\n",
       "      <th>Benzene</th>\n",
       "      <th>Toluene</th>\n",
       "      <th>Xylene</th>\n",
       "      <th>Status</th>\n",
       "      <th>AQI</th>\n",
       "      <th>AQI_bucket</th>\n",
       "    </tr>\n",
       "  </thead>\n",
       "  <tbody>\n",
       "    <tr>\n",
       "      <th>0</th>\n",
       "      <td>2017-11-24</td>\n",
       "      <td>AP001</td>\n",
       "      <td>Andhra Pradesh</td>\n",
       "      <td>Secretariat, Amaravati - APPCB</td>\n",
       "      <td>Amaravati</td>\n",
       "      <td>71.36</td>\n",
       "      <td>115.75</td>\n",
       "      <td>1.75</td>\n",
       "      <td>20.65</td>\n",
       "      <td>12.40</td>\n",
       "      <td>12.19</td>\n",
       "      <td>0.10</td>\n",
       "      <td>10.76</td>\n",
       "      <td>109.26</td>\n",
       "      <td>0.17</td>\n",
       "      <td>5.92</td>\n",
       "      <td>0.10</td>\n",
       "      <td>1</td>\n",
       "      <td>116.0</td>\n",
       "      <td>Moderate</td>\n",
       "    </tr>\n",
       "    <tr>\n",
       "      <th>1</th>\n",
       "      <td>2017-11-25</td>\n",
       "      <td>AP001</td>\n",
       "      <td>Andhra Pradesh</td>\n",
       "      <td>Secretariat, Amaravati - APPCB</td>\n",
       "      <td>Amaravati</td>\n",
       "      <td>81.40</td>\n",
       "      <td>124.50</td>\n",
       "      <td>1.44</td>\n",
       "      <td>20.50</td>\n",
       "      <td>12.08</td>\n",
       "      <td>10.72</td>\n",
       "      <td>0.12</td>\n",
       "      <td>15.24</td>\n",
       "      <td>127.09</td>\n",
       "      <td>0.20</td>\n",
       "      <td>6.50</td>\n",
       "      <td>0.06</td>\n",
       "      <td>1</td>\n",
       "      <td>127.0</td>\n",
       "      <td>Moderate</td>\n",
       "    </tr>\n",
       "    <tr>\n",
       "      <th>2</th>\n",
       "      <td>2017-11-26</td>\n",
       "      <td>AP001</td>\n",
       "      <td>Andhra Pradesh</td>\n",
       "      <td>Secretariat, Amaravati - APPCB</td>\n",
       "      <td>Amaravati</td>\n",
       "      <td>78.32</td>\n",
       "      <td>129.06</td>\n",
       "      <td>1.26</td>\n",
       "      <td>26.00</td>\n",
       "      <td>14.85</td>\n",
       "      <td>10.28</td>\n",
       "      <td>0.14</td>\n",
       "      <td>26.96</td>\n",
       "      <td>117.44</td>\n",
       "      <td>0.22</td>\n",
       "      <td>7.95</td>\n",
       "      <td>0.08</td>\n",
       "      <td>1</td>\n",
       "      <td>129.0</td>\n",
       "      <td>Moderate</td>\n",
       "    </tr>\n",
       "    <tr>\n",
       "      <th>3</th>\n",
       "      <td>2017-11-27</td>\n",
       "      <td>AP001</td>\n",
       "      <td>Andhra Pradesh</td>\n",
       "      <td>Secretariat, Amaravati - APPCB</td>\n",
       "      <td>Amaravati</td>\n",
       "      <td>88.76</td>\n",
       "      <td>135.32</td>\n",
       "      <td>6.60</td>\n",
       "      <td>30.85</td>\n",
       "      <td>21.77</td>\n",
       "      <td>12.91</td>\n",
       "      <td>0.11</td>\n",
       "      <td>33.59</td>\n",
       "      <td>111.81</td>\n",
       "      <td>0.29</td>\n",
       "      <td>7.63</td>\n",
       "      <td>0.12</td>\n",
       "      <td>1</td>\n",
       "      <td>135.0</td>\n",
       "      <td>Moderate</td>\n",
       "    </tr>\n",
       "    <tr>\n",
       "      <th>4</th>\n",
       "      <td>2017-11-28</td>\n",
       "      <td>AP001</td>\n",
       "      <td>Andhra Pradesh</td>\n",
       "      <td>Secretariat, Amaravati - APPCB</td>\n",
       "      <td>Amaravati</td>\n",
       "      <td>64.18</td>\n",
       "      <td>104.09</td>\n",
       "      <td>2.56</td>\n",
       "      <td>28.07</td>\n",
       "      <td>17.01</td>\n",
       "      <td>11.42</td>\n",
       "      <td>0.09</td>\n",
       "      <td>19.00</td>\n",
       "      <td>138.18</td>\n",
       "      <td>0.17</td>\n",
       "      <td>5.02</td>\n",
       "      <td>0.07</td>\n",
       "      <td>1</td>\n",
       "      <td>138.0</td>\n",
       "      <td>Moderate</td>\n",
       "    </tr>\n",
       "    <tr>\n",
       "      <th>...</th>\n",
       "      <td>...</td>\n",
       "      <td>...</td>\n",
       "      <td>...</td>\n",
       "      <td>...</td>\n",
       "      <td>...</td>\n",
       "      <td>...</td>\n",
       "      <td>...</td>\n",
       "      <td>...</td>\n",
       "      <td>...</td>\n",
       "      <td>...</td>\n",
       "      <td>...</td>\n",
       "      <td>...</td>\n",
       "      <td>...</td>\n",
       "      <td>...</td>\n",
       "      <td>...</td>\n",
       "      <td>...</td>\n",
       "      <td>...</td>\n",
       "      <td>...</td>\n",
       "      <td>...</td>\n",
       "      <td>...</td>\n",
       "    </tr>\n",
       "    <tr>\n",
       "      <th>108030</th>\n",
       "      <td>2020-06-27</td>\n",
       "      <td>WB013</td>\n",
       "      <td>West Bengal</td>\n",
       "      <td>Victoria, Kolkata - WBPCB</td>\n",
       "      <td>Kolkata</td>\n",
       "      <td>8.65</td>\n",
       "      <td>16.46</td>\n",
       "      <td>2.74</td>\n",
       "      <td>17.29</td>\n",
       "      <td>14.70</td>\n",
       "      <td>19.52</td>\n",
       "      <td>0.69</td>\n",
       "      <td>4.36</td>\n",
       "      <td>30.59</td>\n",
       "      <td>1.32</td>\n",
       "      <td>7.26</td>\n",
       "      <td>0.00</td>\n",
       "      <td>1</td>\n",
       "      <td>31.0</td>\n",
       "      <td>Good</td>\n",
       "    </tr>\n",
       "    <tr>\n",
       "      <th>108031</th>\n",
       "      <td>2020-06-28</td>\n",
       "      <td>WB013</td>\n",
       "      <td>West Bengal</td>\n",
       "      <td>Victoria, Kolkata - WBPCB</td>\n",
       "      <td>Kolkata</td>\n",
       "      <td>11.80</td>\n",
       "      <td>18.47</td>\n",
       "      <td>2.99</td>\n",
       "      <td>18.62</td>\n",
       "      <td>15.81</td>\n",
       "      <td>20.21</td>\n",
       "      <td>0.68</td>\n",
       "      <td>3.49</td>\n",
       "      <td>38.95</td>\n",
       "      <td>1.42</td>\n",
       "      <td>7.92</td>\n",
       "      <td>0.00</td>\n",
       "      <td>1</td>\n",
       "      <td>39.0</td>\n",
       "      <td>Good</td>\n",
       "    </tr>\n",
       "    <tr>\n",
       "      <th>108032</th>\n",
       "      <td>2020-06-29</td>\n",
       "      <td>WB013</td>\n",
       "      <td>West Bengal</td>\n",
       "      <td>Victoria, Kolkata - WBPCB</td>\n",
       "      <td>Kolkata</td>\n",
       "      <td>18.60</td>\n",
       "      <td>32.26</td>\n",
       "      <td>13.65</td>\n",
       "      <td>200.87</td>\n",
       "      <td>214.20</td>\n",
       "      <td>11.40</td>\n",
       "      <td>0.78</td>\n",
       "      <td>5.12</td>\n",
       "      <td>38.17</td>\n",
       "      <td>3.52</td>\n",
       "      <td>8.64</td>\n",
       "      <td>1.17</td>\n",
       "      <td>1</td>\n",
       "      <td>214.0</td>\n",
       "      <td>Poor</td>\n",
       "    </tr>\n",
       "    <tr>\n",
       "      <th>108033</th>\n",
       "      <td>2020-06-30</td>\n",
       "      <td>WB013</td>\n",
       "      <td>West Bengal</td>\n",
       "      <td>Victoria, Kolkata - WBPCB</td>\n",
       "      <td>Kolkata</td>\n",
       "      <td>16.07</td>\n",
       "      <td>39.30</td>\n",
       "      <td>7.56</td>\n",
       "      <td>29.13</td>\n",
       "      <td>36.69</td>\n",
       "      <td>29.26</td>\n",
       "      <td>0.69</td>\n",
       "      <td>5.88</td>\n",
       "      <td>29.64</td>\n",
       "      <td>1.86</td>\n",
       "      <td>8.40</td>\n",
       "      <td>0.00</td>\n",
       "      <td>1</td>\n",
       "      <td>39.0</td>\n",
       "      <td>Good</td>\n",
       "    </tr>\n",
       "    <tr>\n",
       "      <th>108034</th>\n",
       "      <td>2020-07-01</td>\n",
       "      <td>WB013</td>\n",
       "      <td>West Bengal</td>\n",
       "      <td>Victoria, Kolkata - WBPCB</td>\n",
       "      <td>Kolkata</td>\n",
       "      <td>10.50</td>\n",
       "      <td>36.50</td>\n",
       "      <td>7.78</td>\n",
       "      <td>22.50</td>\n",
       "      <td>30.25</td>\n",
       "      <td>27.23</td>\n",
       "      <td>0.58</td>\n",
       "      <td>2.80</td>\n",
       "      <td>13.10</td>\n",
       "      <td>1.31</td>\n",
       "      <td>7.39</td>\n",
       "      <td>0.00</td>\n",
       "      <td>1</td>\n",
       "      <td>36.0</td>\n",
       "      <td>Good</td>\n",
       "    </tr>\n",
       "  </tbody>\n",
       "</table>\n",
       "<p>108035 rows × 20 columns</p>\n",
       "</div>"
      ],
      "text/plain": [
       "              Date StationId           State                     StationName  \\\n",
       "0       2017-11-24     AP001  Andhra Pradesh  Secretariat, Amaravati - APPCB   \n",
       "1       2017-11-25     AP001  Andhra Pradesh  Secretariat, Amaravati - APPCB   \n",
       "2       2017-11-26     AP001  Andhra Pradesh  Secretariat, Amaravati - APPCB   \n",
       "3       2017-11-27     AP001  Andhra Pradesh  Secretariat, Amaravati - APPCB   \n",
       "4       2017-11-28     AP001  Andhra Pradesh  Secretariat, Amaravati - APPCB   \n",
       "...            ...       ...             ...                             ...   \n",
       "108030  2020-06-27     WB013     West Bengal       Victoria, Kolkata - WBPCB   \n",
       "108031  2020-06-28     WB013     West Bengal       Victoria, Kolkata - WBPCB   \n",
       "108032  2020-06-29     WB013     West Bengal       Victoria, Kolkata - WBPCB   \n",
       "108033  2020-06-30     WB013     West Bengal       Victoria, Kolkata - WBPCB   \n",
       "108034  2020-07-01     WB013     West Bengal       Victoria, Kolkata - WBPCB   \n",
       "\n",
       "             City  PM2.5    PM10     NO     NO2     NOx    NH3    CO    SO2  \\\n",
       "0       Amaravati  71.36  115.75   1.75   20.65   12.40  12.19  0.10  10.76   \n",
       "1       Amaravati  81.40  124.50   1.44   20.50   12.08  10.72  0.12  15.24   \n",
       "2       Amaravati  78.32  129.06   1.26   26.00   14.85  10.28  0.14  26.96   \n",
       "3       Amaravati  88.76  135.32   6.60   30.85   21.77  12.91  0.11  33.59   \n",
       "4       Amaravati  64.18  104.09   2.56   28.07   17.01  11.42  0.09  19.00   \n",
       "...           ...    ...     ...    ...     ...     ...    ...   ...    ...   \n",
       "108030    Kolkata   8.65   16.46   2.74   17.29   14.70  19.52  0.69   4.36   \n",
       "108031    Kolkata  11.80   18.47   2.99   18.62   15.81  20.21  0.68   3.49   \n",
       "108032    Kolkata  18.60   32.26  13.65  200.87  214.20  11.40  0.78   5.12   \n",
       "108033    Kolkata  16.07   39.30   7.56   29.13   36.69  29.26  0.69   5.88   \n",
       "108034    Kolkata  10.50   36.50   7.78   22.50   30.25  27.23  0.58   2.80   \n",
       "\n",
       "            O3  Benzene  Toluene  Xylene  Status    AQI AQI_bucket  \n",
       "0       109.26     0.17     5.92    0.10       1  116.0   Moderate  \n",
       "1       127.09     0.20     6.50    0.06       1  127.0   Moderate  \n",
       "2       117.44     0.22     7.95    0.08       1  129.0   Moderate  \n",
       "3       111.81     0.29     7.63    0.12       1  135.0   Moderate  \n",
       "4       138.18     0.17     5.02    0.07       1  138.0   Moderate  \n",
       "...        ...      ...      ...     ...     ...    ...        ...  \n",
       "108030   30.59     1.32     7.26    0.00       1   31.0       Good  \n",
       "108031   38.95     1.42     7.92    0.00       1   39.0       Good  \n",
       "108032   38.17     3.52     8.64    1.17       1  214.0       Poor  \n",
       "108033   29.64     1.86     8.40    0.00       1   39.0       Good  \n",
       "108034   13.10     1.31     7.39    0.00       1   36.0       Good  \n",
       "\n",
       "[108035 rows x 20 columns]"
      ]
     },
     "execution_count": 34,
     "metadata": {},
     "output_type": "execute_result"
    }
   ],
   "source": [
    "df"
   ]
  },
  {
   "cell_type": "markdown",
   "id": "0020e56d",
   "metadata": {},
   "source": [
    "## EDA: \n",
    "EDA is one the important step of a model,to get the visualization of the data, we can go through the excel sheet attached with this."
   ]
  },
  {
   "cell_type": "code",
   "execution_count": 35,
   "id": "1a141f8c",
   "metadata": {},
   "outputs": [
    {
     "data": {
      "text/plain": [
       "<AxesSubplot:ylabel='State'>"
      ]
     },
     "execution_count": 35,
     "metadata": {},
     "output_type": "execute_result"
    },
    {
     "data": {
      "image/png": "[encoded data removed]",
      "text/plain": [
       "<Figure size 864x576 with 1 Axes>"
      ]
     },
     "metadata": {
      "needs_background": "light"
     },
     "output_type": "display_data"
    }
   ],
   "source": [
    "# 5- most polluted states \n",
    "df[['AQI', 'State']].groupby(['State']).median().sort_values(\"AQI\", ascending = True).plot.barh(color=\"r\",figsize=(12,8))"
   ]
  },
  {
   "cell_type": "markdown",
   "id": "77c9efc1",
   "metadata": {},
   "source": [
    "Hence, it can be concluded that most (5)polluted states are:\n",
    "1. Delhi\n",
    "2. Bihar\n",
    "3. Haryana ---------|\n",
    "4. Uttar Pradesh----|   \n",
    "5. Gujarat----------|         These are having almost same AQI.\n",
    "6. Jharkhand -------|"
   ]
  },
  {
   "cell_type": "code",
   "execution_count": 36,
   "id": "b6896976",
   "metadata": {},
   "outputs": [
    {
     "data": {
      "text/plain": [
       "<AxesSubplot:ylabel='State'>"
      ]
     },
     "execution_count": 36,
     "metadata": {},
     "output_type": "execute_result"
    },
    {
     "data": {
      "image/png": "[encoded data removed]",
      "text/plain": [
       "<Figure size 864x576 with 1 Axes>"
      ]
     },
     "metadata": {
      "needs_background": "light"
     },
     "output_type": "display_data"
    }
   ],
   "source": [
    "# 5 cleanest City\n",
    "df[['AQI', 'State']].groupby(['State']).median().sort_values(\"AQI\", ascending = False).plot.barh(color=\"g\",figsize=(12,8))\n"
   ]
  },
  {
   "cell_type": "markdown",
   "id": "6737365f",
   "metadata": {},
   "source": [
    "Top 5 Cities with clean air:\n",
    "1. Mizoram\n",
    "2. Meghalaya\n",
    "3. Kerala\n",
    "4. Chandigarh\n",
    "5. Karnataka"
   ]
  },
  {
   "cell_type": "code",
   "execution_count": 37,
   "id": "a5fc77ac",
   "metadata": {},
   "outputs": [],
   "source": [
    "# Pie-chart to see the AQI_Bucket \n",
    "def piechart(d):\n",
    "    p=(d).value_counts()/len(d)\n",
    "    return plt.pie(p.values,labels=p.index,normalize=\"False\")"
   ]
  },
  {
   "cell_type": "code",
   "execution_count": 38,
   "id": "c1c511ae",
   "metadata": {},
   "outputs": [
    {
     "data": {
      "text/plain": [
       "([<matplotlib.patches.Wedge at 0x1e947a15520>,\n",
       "  <matplotlib.patches.Wedge at 0x1e947a15a90>,\n",
       "  <matplotlib.patches.Wedge at 0x1e947a15f70>,\n",
       "  <matplotlib.patches.Wedge at 0x1e947a05490>,\n",
       "  <matplotlib.patches.Wedge at 0x1e947a05970>,\n",
       "  <matplotlib.patches.Wedge at 0x1e947a05e50>],\n",
       " [Text(0.2434853144501309, 1.0727138023010243, 'Moderate'),\n",
       "  Text(-1.0228388793326997, -0.4047229014096279, 'Satisfactory'),\n",
       "  Text(0.0350681897717432, -1.099440867926117, 'Poor'),\n",
       "  Text(0.6886147443501128, -0.8577935263591285, 'Good'),\n",
       "  Text(0.9819916321231229, -0.49567371772181495, 'Very Poor'),\n",
       "  Text(1.089055640302015, -0.15478311382824708, 'Severe')])"
      ]
     },
     "execution_count": 38,
     "metadata": {},
     "output_type": "execute_result"
    },
    {
     "data": {
      "image/png": "[encoded data removed]",
      "text/plain": [
       "<Figure size 432x288 with 1 Axes>"
      ]
     },
     "metadata": {},
     "output_type": "display_data"
    }
   ],
   "source": [
    "piechart(df[\"AQI_bucket\"])"
   ]
  },
  {
   "cell_type": "markdown",
   "id": "9d6f32d1",
   "metadata": {},
   "source": [
    "# conclusion:\n",
    "From EDA, it was observed that during winter there is spike in AQI in delhi most.\n",
    "Few states have active station status:Delhi, U.P \n",
    "Gujarat is most polluted but still air Quality of Delhi is more dangerous,as it contains harmful pollutants like(xylene and all),which are not used while calculating the Value but can create problem and is harmful to health."
   ]
  },
  {
   "cell_type": "markdown",
   "id": "a61029fe",
   "metadata": {},
   "source": [
    "# Model to give AQI_bucket with health impact\n"
   ]
  },
  {
   "cell_type": "code",
   "execution_count": 39,
   "id": "89cf500c",
   "metadata": {},
   "outputs": [],
   "source": [
    "# importing the file created alreday\n",
    "from aqi import AQI"
   ]
  },
  {
   "cell_type": "code",
   "execution_count": 40,
   "id": "d85cf583",
   "metadata": {},
   "outputs": [],
   "source": [
    "output=AQI"
   ]
  },
  {
   "cell_type": "code",
   "execution_count": 42,
   "id": "40577c20",
   "metadata": {},
   "outputs": [
    {
     "name": "stdout",
     "output_type": "stream",
     "text": [
      "Enter AQI: 234\n"
     ]
    },
    {
     "data": {
      "text/plain": [
       "'AQI_bucket=Poor, May cause breathing discomfort to people on prolonged exposure, and discomfort to people with heart disease.Pregnant women are advised to stay at home. '"
      ]
     },
     "execution_count": 42,
     "metadata": {},
     "output_type": "execute_result"
    }
   ],
   "source": [
    "AQI=int(input(\"Enter AQI: \"))\n",
    "output.AQI_bucket(AQI)"
   ]
  },
  {
   "cell_type": "raw",
   "id": "23bd9f5c",
   "metadata": {},
   "source": []
  },
  {
   "cell_type": "markdown",
   "id": "086a4c86",
   "metadata": {},
   "source": [
    "\n",
    "\n",
    "\n",
    "## Model\n",
    "\n",
    "Algorithms are the methods to solve an objective of the datset. Machine learning models are able to evaluate future unknown data and make predictions or future insights. Therefore,which model to deploy depends upon our dataset and objective. \n",
    "\n",
    "1. Time Series(Most appropriate,since it includes date)\n",
    "2. Random Forest Regression"
   ]
  },
  {
   "cell_type": "code",
   "execution_count": 43,
   "id": "40ccb3aa",
   "metadata": {},
   "outputs": [
    {
     "name": "stdout",
     "output_type": "stream",
     "text": [
      "<class 'pandas.core.frame.DataFrame'>\n",
      "RangeIndex: 108035 entries, 0 to 108034\n",
      "Data columns (total 20 columns):\n",
      " #   Column       Non-Null Count   Dtype  \n",
      "---  ------       --------------   -----  \n",
      " 0   Date         108035 non-null  object \n",
      " 1   StationId    108035 non-null  object \n",
      " 2   State        108035 non-null  object \n",
      " 3   StationName  108035 non-null  object \n",
      " 4   City         108035 non-null  object \n",
      " 5   PM2.5        108035 non-null  float64\n",
      " 6   PM10         108035 non-null  float64\n",
      " 7   NO           108035 non-null  float64\n",
      " 8   NO2          108035 non-null  float64\n",
      " 9   NOx          108035 non-null  float64\n",
      " 10  NH3          108035 non-null  float64\n",
      " 11  CO           108035 non-null  float64\n",
      " 12  SO2          108035 non-null  float64\n",
      " 13  O3           108035 non-null  float64\n",
      " 14  Benzene      108035 non-null  float64\n",
      " 15  Toluene      108035 non-null  float64\n",
      " 16  Xylene       108035 non-null  float64\n",
      " 17  Status       108035 non-null  int64  \n",
      " 18  AQI          108035 non-null  float64\n",
      " 19  AQI_bucket   108035 non-null  object \n",
      "dtypes: float64(13), int64(1), object(6)\n",
      "memory usage: 16.5+ MB\n"
     ]
    }
   ],
   "source": [
    "# Random Forest Regression   \n",
    "df.info()"
   ]
  },
  {
   "cell_type": "code",
   "execution_count": 44,
   "id": "e406c945",
   "metadata": {},
   "outputs": [],
   "source": [
    "df=df.drop([\"AQI_bucket\"],axis=1)      #Since, it is determined on behalf of AQI."
   ]
  },
  {
   "cell_type": "code",
   "execution_count": 45,
   "id": "ed75e7f3",
   "metadata": {},
   "outputs": [],
   "source": [
    "encoder=preprocessing.LabelEncoder()\n",
    "for i in df.columns:\n",
    "    if isinstance(df[i][0],str):\n",
    "        df[i]=encoder.fit_transform(df[i])"
   ]
  },
  {
   "cell_type": "code",
   "execution_count": 46,
   "id": "0b97cf19",
   "metadata": {},
   "outputs": [],
   "source": [
    "x=df.drop([\"AQI\"],axis=1)"
   ]
  },
  {
   "cell_type": "code",
   "execution_count": 47,
   "id": "342498db",
   "metadata": {},
   "outputs": [
    {
     "data": {
      "text/plain": [
       "0         116.0\n",
       "1         127.0\n",
       "2         129.0\n",
       "3         135.0\n",
       "4         138.0\n",
       "          ...  \n",
       "108030     31.0\n",
       "108031     39.0\n",
       "108032    214.0\n",
       "108033     39.0\n",
       "108034     36.0\n",
       "Name: AQI, Length: 108035, dtype: float64"
      ]
     },
     "execution_count": 47,
     "metadata": {},
     "output_type": "execute_result"
    }
   ],
   "source": [
    "y=df[\"AQI\"]\n",
    "y"
   ]
  },
  {
   "cell_type": "code",
   "execution_count": 48,
   "id": "97d4a1b5",
   "metadata": {},
   "outputs": [],
   "source": [
    "# Splitting dataset into train and test\n",
    "x_train,x_test,y_train,y_test=train_test_split(x,y,test_size=0.2)"
   ]
  },
  {
   "cell_type": "code",
   "execution_count": 49,
   "id": "90bbf505",
   "metadata": {},
   "outputs": [
    {
     "data": {
      "text/plain": [
       "RandomForestRegressor(max_depth=2, min_samples_split=9, n_estimators=75)"
      ]
     },
     "execution_count": 49,
     "metadata": {},
     "output_type": "execute_result"
    }
   ],
   "source": [
    "regressor = RandomForestRegressor(max_depth=2,min_samples_split=9,n_estimators=75) #hypertuned by fixing leaf nodes: by deafault it is none\n",
    "regressor.fit(x_train, y_train)"
   ]
  },
  {
   "cell_type": "code",
   "execution_count": 50,
   "id": "1415e915",
   "metadata": {},
   "outputs": [],
   "source": [
    "#predicton from the model\n",
    "y_pred=regressor.predict(x_test)"
   ]
  },
  {
   "cell_type": "code",
   "execution_count": 51,
   "id": "7bcb76a3",
   "metadata": {},
   "outputs": [
    {
     "data": {
      "text/plain": [
       "0.86562312097517"
      ]
     },
     "execution_count": 51,
     "metadata": {},
     "output_type": "execute_result"
    }
   ],
   "source": [
    "regressor.score(x_test,y_test) #check th score of the model"
   ]
  },
  {
   "cell_type": "markdown",
   "id": "a24b31a9",
   "metadata": {},
   "source": [
    "# RMSE\n",
    "Calculating the rmse of our data set, to know about our model."
   ]
  },
  {
   "cell_type": "code",
   "execution_count": 52,
   "id": "18b1bf12",
   "metadata": {},
   "outputs": [],
   "source": [
    "from sklearn.metrics import mean_squared_error"
   ]
  },
  {
   "cell_type": "code",
   "execution_count": 53,
   "id": "49257255",
   "metadata": {},
   "outputs": [
    {
     "data": {
      "text/plain": [
       "41.18157623272819"
      ]
     },
     "execution_count": 53,
     "metadata": {},
     "output_type": "execute_result"
    }
   ],
   "source": [
    "np.sqrt(mean_squared_error(y_test,y_pred))"
   ]
  },
  {
   "cell_type": "markdown",
   "id": "7b0cee3a",
   "metadata": {},
   "source": [
    "To know, whether RMSE is good or not, we need to be aware about the range of our test data."
   ]
  },
  {
   "cell_type": "code",
   "execution_count": 54,
   "id": "e6ceb6f6",
   "metadata": {},
   "outputs": [
    {
     "data": {
      "text/plain": [
       "1616.0"
      ]
     },
     "execution_count": 54,
     "metadata": {},
     "output_type": "execute_result"
    }
   ],
   "source": [
    "y.max()"
   ]
  },
  {
   "cell_type": "code",
   "execution_count": 55,
   "id": "ed972066",
   "metadata": {},
   "outputs": [
    {
     "data": {
      "text/plain": [
       "5.0"
      ]
     },
     "execution_count": 55,
     "metadata": {},
     "output_type": "execute_result"
    }
   ],
   "source": [
    "y.min()"
   ]
  },
  {
   "cell_type": "code",
   "execution_count": 56,
   "id": "acf1f4da",
   "metadata": {},
   "outputs": [
    {
     "data": {
      "text/plain": [
       "count    108035.000000\n",
       "mean        159.019420\n",
       "std         112.613196\n",
       "min           5.000000\n",
       "25%          87.000000\n",
       "50%         132.000000\n",
       "75%         191.000000\n",
       "max        1616.000000\n",
       "Name: AQI, dtype: float64"
      ]
     },
     "execution_count": 56,
     "metadata": {},
     "output_type": "execute_result"
    }
   ],
   "source": [
    "y.describe()"
   ]
  },
  {
   "cell_type": "markdown",
   "id": "297c544e",
   "metadata": {},
   "source": [
    "Hence, we can see RMSE is smaller than the range.So, the model is not bad."
   ]
  },
  {
   "cell_type": "markdown",
   "id": "9f0f0d7e",
   "metadata": {},
   "source": [
    "# Time Series "
   ]
  },
  {
   "cell_type": "code",
   "execution_count": 57,
   "id": "4e08e456",
   "metadata": {},
   "outputs": [],
   "source": [
    "# read dataset\n",
    "da=pd.read_csv(\"new_Station.csv\",index_col=\"Date\",parse_dates=True)"
   ]
  },
  {
   "cell_type": "code",
   "execution_count": 58,
   "id": "f68f20a3",
   "metadata": {},
   "outputs": [],
   "source": [
    "da=da.drop(df.iloc[:,1:18],axis = 1)\n",
    "da=da.drop([\"AQI_bucket\"],axis=1)"
   ]
  },
  {
   "cell_type": "code",
   "execution_count": 59,
   "id": "1565524a",
   "metadata": {},
   "outputs": [
    {
     "data": {
      "text/html": [
       "<div>\n",
       "<style scoped>\n",
       "    .dataframe tbody tr th:only-of-type {\n",
       "        vertical-align: middle;\n",
       "    }\n",
       "\n",
       "    .dataframe tbody tr th {\n",
       "        vertical-align: top;\n",
       "    }\n",
       "\n",
       "    .dataframe thead th {\n",
       "        text-align: right;\n",
       "    }\n",
       "</style>\n",
       "<table border=\"1\" class=\"dataframe\">\n",
       "  <thead>\n",
       "    <tr style=\"text-align: right;\">\n",
       "      <th></th>\n",
       "      <th>AQI</th>\n",
       "    </tr>\n",
       "    <tr>\n",
       "      <th>Date</th>\n",
       "      <th></th>\n",
       "    </tr>\n",
       "  </thead>\n",
       "  <tbody>\n",
       "    <tr>\n",
       "      <th>2015-01-01</th>\n",
       "      <td>288.0</td>\n",
       "    </tr>\n",
       "    <tr>\n",
       "      <th>2015-01-01</th>\n",
       "      <td>94.0</td>\n",
       "    </tr>\n",
       "    <tr>\n",
       "      <th>2015-01-01</th>\n",
       "      <td>121.0</td>\n",
       "    </tr>\n",
       "    <tr>\n",
       "      <th>2015-01-01</th>\n",
       "      <td>92.0</td>\n",
       "    </tr>\n",
       "    <tr>\n",
       "      <th>2015-01-01</th>\n",
       "      <td>158.0</td>\n",
       "    </tr>\n",
       "    <tr>\n",
       "      <th>...</th>\n",
       "      <td>...</td>\n",
       "    </tr>\n",
       "    <tr>\n",
       "      <th>2020-07-01</th>\n",
       "      <td>111.0</td>\n",
       "    </tr>\n",
       "    <tr>\n",
       "      <th>2020-07-01</th>\n",
       "      <td>114.0</td>\n",
       "    </tr>\n",
       "    <tr>\n",
       "      <th>2020-07-01</th>\n",
       "      <td>143.0</td>\n",
       "    </tr>\n",
       "    <tr>\n",
       "      <th>2020-07-01</th>\n",
       "      <td>75.0</td>\n",
       "    </tr>\n",
       "    <tr>\n",
       "      <th>2020-07-01</th>\n",
       "      <td>36.0</td>\n",
       "    </tr>\n",
       "  </tbody>\n",
       "</table>\n",
       "<p>108035 rows × 1 columns</p>\n",
       "</div>"
      ],
      "text/plain": [
       "              AQI\n",
       "Date             \n",
       "2015-01-01  288.0\n",
       "2015-01-01   94.0\n",
       "2015-01-01  121.0\n",
       "2015-01-01   92.0\n",
       "2015-01-01  158.0\n",
       "...           ...\n",
       "2020-07-01  111.0\n",
       "2020-07-01  114.0\n",
       "2020-07-01  143.0\n",
       "2020-07-01   75.0\n",
       "2020-07-01   36.0\n",
       "\n",
       "[108035 rows x 1 columns]"
      ]
     },
     "execution_count": 59,
     "metadata": {},
     "output_type": "execute_result"
    }
   ],
   "source": [
    "da=da.sort_index()\n",
    "da"
   ]
  },
  {
   "cell_type": "code",
   "execution_count": 60,
   "id": "9243bf02",
   "metadata": {},
   "outputs": [],
   "source": [
    "df=da.resample(rule=\"MS\").sum()"
   ]
  },
  {
   "cell_type": "code",
   "execution_count": 61,
   "id": "a35f3d29",
   "metadata": {},
   "outputs": [
    {
     "data": {
      "text/plain": [
       "[<matplotlib.lines.Line2D at 0x1e947252430>]"
      ]
     },
     "execution_count": 61,
     "metadata": {},
     "output_type": "execute_result"
    },
    {
     "data": {
      "image/png": "[encoded data removed]",
      "text/plain": [
       "<Figure size 1152x576 with 1 Axes>"
      ]
     },
     "metadata": {
      "needs_background": "light"
     },
     "output_type": "display_data"
    }
   ],
   "source": [
    "plt.figure(figsize=(16,8))\n",
    "plt.plot(df)"
   ]
  },
  {
   "cell_type": "code",
   "execution_count": 62,
   "id": "b81efa0c",
   "metadata": {},
   "outputs": [],
   "source": [
    "# Check for Stationarity\n",
    "\n",
    "from statsmodels.tsa.stattools import adfuller\n",
    "\n",
    "def adf_test(x):\n",
    "    dftest = adfuller(x, autolag='AIC')\n",
    "    dfoutput = pd.Series(dftest[0:4], index=['Test Statistic','p-value','#Lags Used','Number of Observations Used'])\n",
    "    for key,value in dftest[4].items():\n",
    "        dfoutput['Critical Value (%s)'%key] = value\n",
    "    print(dfoutput)\n",
    "    \n",
    "    if dftest[1] <= 0.05:\n",
    "        print(\"We reject the null hypothesis; it is stationary.\")\n",
    "    else:\n",
    "        print(\"We accept the null hypothesis; it is seasonal.\")"
   ]
  },
  {
   "cell_type": "code",
   "execution_count": 63,
   "id": "f3a7f39f",
   "metadata": {},
   "outputs": [
    {
     "name": "stdout",
     "output_type": "stream",
     "text": [
      "Test Statistic                 -1.166384\n",
      "p-value                         0.687887\n",
      "#Lags Used                     11.000000\n",
      "Number of Observations Used    55.000000\n",
      "Critical Value (1%)            -3.555273\n",
      "Critical Value (5%)            -2.915731\n",
      "Critical Value (10%)           -2.595670\n",
      "dtype: float64\n",
      "We accept the null hypothesis; it is seasonal.\n"
     ]
    }
   ],
   "source": [
    "# calling function---> statistical test to check stationarity\n",
    "adf_test(df[\"AQI\"])"
   ]
  },
  {
   "cell_type": "code",
   "execution_count": 70,
   "id": "81e9c019",
   "metadata": {},
   "outputs": [
    {
     "data": {
      "text/html": [
       "<table class=\"simpletable\">\n",
       "<caption>SARIMAX Results</caption>\n",
       "<tr>\n",
       "  <th>Dep. Variable:</th>                  <td>y</td>               <th>  No. Observations:  </th>    <td>67</td>   \n",
       "</tr>\n",
       "<tr>\n",
       "  <th>Model:</th>           <td>SARIMAX(1, 0, 0)x(1, 1, 0, 12)</td> <th>  Log Likelihood     </th> <td>-684.240</td>\n",
       "</tr>\n",
       "<tr>\n",
       "  <th>Date:</th>                   <td>Tue, 04 Jan 2022</td>        <th>  AIC                </th> <td>1374.480</td>\n",
       "</tr>\n",
       "<tr>\n",
       "  <th>Time:</th>                       <td>11:56:28</td>            <th>  BIC                </th> <td>1380.502</td>\n",
       "</tr>\n",
       "<tr>\n",
       "  <th>Sample:</th>                         <td>0</td>               <th>  HQIC               </th> <td>1376.809</td>\n",
       "</tr>\n",
       "<tr>\n",
       "  <th></th>                              <td> - 67</td>             <th>                     </th>     <td> </td>   \n",
       "</tr>\n",
       "<tr>\n",
       "  <th>Covariance Type:</th>               <td>opg</td>              <th>                     </th>     <td> </td>   \n",
       "</tr>\n",
       "</table>\n",
       "<table class=\"simpletable\">\n",
       "<tr>\n",
       "      <td></td>        <th>coef</th>     <th>std err</th>      <th>z</th>      <th>P>|z|</th>  <th>[0.025</th>    <th>0.975]</th>  \n",
       "</tr>\n",
       "<tr>\n",
       "  <th>ar.L1</th>    <td>    0.9254</td> <td>    0.054</td> <td>   17.164</td> <td> 0.000</td> <td>    0.820</td> <td>    1.031</td>\n",
       "</tr>\n",
       "<tr>\n",
       "  <th>ar.S.L12</th> <td>   -0.5349</td> <td>    0.196</td> <td>   -2.729</td> <td> 0.006</td> <td>   -0.919</td> <td>   -0.151</td>\n",
       "</tr>\n",
       "<tr>\n",
       "  <th>sigma2</th>   <td> 4.442e+09</td> <td> 1.01e-11</td> <td>  4.4e+20</td> <td> 0.000</td> <td> 4.44e+09</td> <td> 4.44e+09</td>\n",
       "</tr>\n",
       "</table>\n",
       "<table class=\"simpletable\">\n",
       "<tr>\n",
       "  <th>Ljung-Box (L1) (Q):</th>     <td>1.04</td>  <th>  Jarque-Bera (JB):  </th> <td>23.34</td>\n",
       "</tr>\n",
       "<tr>\n",
       "  <th>Prob(Q):</th>                <td>0.31</td>  <th>  Prob(JB):          </th> <td>0.00</td> \n",
       "</tr>\n",
       "<tr>\n",
       "  <th>Heteroskedasticity (H):</th> <td>10.71</td> <th>  Skew:              </th> <td>-0.27</td>\n",
       "</tr>\n",
       "<tr>\n",
       "  <th>Prob(H) (two-sided):</th>    <td>0.00</td>  <th>  Kurtosis:          </th> <td>6.15</td> \n",
       "</tr>\n",
       "</table><br/><br/>Warnings:<br/>[1] Covariance matrix calculated using the outer product of gradients (complex-step).<br/>[2] Covariance matrix is singular or near-singular, with condition number 6.67e+36. Standard errors may be unstable."
      ],
      "text/plain": [
       "<class 'statsmodels.iolib.summary.Summary'>\n",
       "\"\"\"\n",
       "                                     SARIMAX Results                                      \n",
       "==========================================================================================\n",
       "Dep. Variable:                                  y   No. Observations:                   67\n",
       "Model:             SARIMAX(1, 0, 0)x(1, 1, 0, 12)   Log Likelihood                -684.240\n",
       "Date:                            Tue, 04 Jan 2022   AIC                           1374.480\n",
       "Time:                                    11:56:28   BIC                           1380.502\n",
       "Sample:                                         0   HQIC                          1376.809\n",
       "                                             - 67                                         \n",
       "Covariance Type:                              opg                                         \n",
       "==============================================================================\n",
       "                 coef    std err          z      P>|z|      [0.025      0.975]\n",
       "------------------------------------------------------------------------------\n",
       "ar.L1          0.9254      0.054     17.164      0.000       0.820       1.031\n",
       "ar.S.L12      -0.5349      0.196     -2.729      0.006      -0.919      -0.151\n",
       "sigma2      4.442e+09   1.01e-11    4.4e+20      0.000    4.44e+09    4.44e+09\n",
       "===================================================================================\n",
       "Ljung-Box (L1) (Q):                   1.04   Jarque-Bera (JB):                23.34\n",
       "Prob(Q):                              0.31   Prob(JB):                         0.00\n",
       "Heteroskedasticity (H):              10.71   Skew:                            -0.27\n",
       "Prob(H) (two-sided):                  0.00   Kurtosis:                         6.15\n",
       "===================================================================================\n",
       "\n",
       "Warnings:\n",
       "[1] Covariance matrix calculated using the outer product of gradients (complex-step).\n",
       "[2] Covariance matrix is singular or near-singular, with condition number 6.67e+36. Standard errors may be unstable.\n",
       "\"\"\""
      ]
     },
     "execution_count": 70,
     "metadata": {},
     "output_type": "execute_result"
    }
   ],
   "source": [
    "auto_arima(y=df[\"AQI\"],start_p=1,start_P=1,start_q=1,start_Q=1, seasonal=True, m=12, stepwise=True).summary()\n"
   ]
  },
  {
   "cell_type": "code",
   "execution_count": 71,
   "id": "ea1e7aeb",
   "metadata": {},
   "outputs": [],
   "source": [
    "# split it into train and test data\n",
    "train = df[\"AQI\"][:2018-12]\n",
    "test = df[\"AQI\"][2018-12:]"
   ]
  },
  {
   "cell_type": "code",
   "execution_count": 72,
   "id": "60c50bc1",
   "metadata": {},
   "outputs": [],
   "source": [
    "from statsmodels.tsa.statespace import sarimax"
   ]
  },
  {
   "cell_type": "code",
   "execution_count": 73,
   "id": "183d164f",
   "metadata": {},
   "outputs": [
    {
     "data": {
      "text/html": [
       "<table class=\"simpletable\">\n",
       "<caption>SARIMAX Results</caption>\n",
       "<tr>\n",
       "  <th>Dep. Variable:</th>                 <td>AQI</td>              <th>  No. Observations:  </th>    <td>67</td>   \n",
       "</tr>\n",
       "<tr>\n",
       "  <th>Model:</th>           <td>SARIMAX(0, 1, 0)x(1, 1, 0, 12)</td> <th>  Log Likelihood     </th> <td>-672.554</td>\n",
       "</tr>\n",
       "<tr>\n",
       "  <th>Date:</th>                   <td>Tue, 04 Jan 2022</td>        <th>  AIC                </th> <td>1349.107</td>\n",
       "</tr>\n",
       "<tr>\n",
       "  <th>Time:</th>                       <td>12:00:04</td>            <th>  BIC                </th> <td>1353.085</td>\n",
       "</tr>\n",
       "<tr>\n",
       "  <th>Sample:</th>                    <td>01-01-2015</td>           <th>  HQIC               </th> <td>1350.642</td>\n",
       "</tr>\n",
       "<tr>\n",
       "  <th></th>                          <td>- 07-01-2020</td>          <th>                     </th>     <td> </td>   \n",
       "</tr>\n",
       "<tr>\n",
       "  <th>Covariance Type:</th>               <td>opg</td>              <th>                     </th>     <td> </td>   \n",
       "</tr>\n",
       "</table>\n",
       "<table class=\"simpletable\">\n",
       "<tr>\n",
       "      <td></td>        <th>coef</th>     <th>std err</th>      <th>z</th>      <th>P>|z|</th>  <th>[0.025</th>    <th>0.975]</th>  \n",
       "</tr>\n",
       "<tr>\n",
       "  <th>ar.S.L12</th> <td>   -0.5361</td> <td>    0.197</td> <td>   -2.724</td> <td> 0.006</td> <td>   -0.922</td> <td>   -0.150</td>\n",
       "</tr>\n",
       "<tr>\n",
       "  <th>sigma2</th>   <td> 4.645e+09</td> <td> 1.45e-11</td> <td> 3.21e+20</td> <td> 0.000</td> <td> 4.64e+09</td> <td> 4.64e+09</td>\n",
       "</tr>\n",
       "</table>\n",
       "<table class=\"simpletable\">\n",
       "<tr>\n",
       "  <th>Ljung-Box (L1) (Q):</th>     <td>0.52</td>  <th>  Jarque-Bera (JB):  </th> <td>25.61</td>\n",
       "</tr>\n",
       "<tr>\n",
       "  <th>Prob(Q):</th>                <td>0.47</td>  <th>  Prob(JB):          </th> <td>0.00</td> \n",
       "</tr>\n",
       "<tr>\n",
       "  <th>Heteroskedasticity (H):</th> <td>12.88</td> <th>  Skew:              </th> <td>-0.41</td>\n",
       "</tr>\n",
       "<tr>\n",
       "  <th>Prob(H) (two-sided):</th>    <td>0.00</td>  <th>  Kurtosis:          </th> <td>6.27</td> \n",
       "</tr>\n",
       "</table><br/><br/>Warnings:<br/>[1] Covariance matrix calculated using the outer product of gradients (complex-step).<br/>[2] Covariance matrix is singular or near-singular, with condition number    inf. Standard errors may be unstable."
      ],
      "text/plain": [
       "<class 'statsmodels.iolib.summary.Summary'>\n",
       "\"\"\"\n",
       "                                     SARIMAX Results                                      \n",
       "==========================================================================================\n",
       "Dep. Variable:                                AQI   No. Observations:                   67\n",
       "Model:             SARIMAX(0, 1, 0)x(1, 1, 0, 12)   Log Likelihood                -672.554\n",
       "Date:                            Tue, 04 Jan 2022   AIC                           1349.107\n",
       "Time:                                    12:00:04   BIC                           1353.085\n",
       "Sample:                                01-01-2015   HQIC                          1350.642\n",
       "                                     - 07-01-2020                                         \n",
       "Covariance Type:                              opg                                         \n",
       "==============================================================================\n",
       "                 coef    std err          z      P>|z|      [0.025      0.975]\n",
       "------------------------------------------------------------------------------\n",
       "ar.S.L12      -0.5361      0.197     -2.724      0.006      -0.922      -0.150\n",
       "sigma2      4.645e+09   1.45e-11   3.21e+20      0.000    4.64e+09    4.64e+09\n",
       "===================================================================================\n",
       "Ljung-Box (L1) (Q):                   0.52   Jarque-Bera (JB):                25.61\n",
       "Prob(Q):                              0.47   Prob(JB):                         0.00\n",
       "Heteroskedasticity (H):              12.88   Skew:                            -0.41\n",
       "Prob(H) (two-sided):                  0.00   Kurtosis:                         6.27\n",
       "===================================================================================\n",
       "\n",
       "Warnings:\n",
       "[1] Covariance matrix calculated using the outer product of gradients (complex-step).\n",
       "[2] Covariance matrix is singular or near-singular, with condition number    inf. Standard errors may be unstable.\n",
       "\"\"\""
      ]
     },
     "execution_count": 73,
     "metadata": {},
     "output_type": "execute_result"
    }
   ],
   "source": [
    "model=sarimax.SARIMAX(train,order=(0,1,0),seasonal_order=(1,1,0,12),trend=\"n\")\n",
    "result=model.fit()\n",
    "result.summary()"
   ]
  },
  {
   "cell_type": "code",
   "execution_count": 74,
   "id": "c08a6491",
   "metadata": {},
   "outputs": [
    {
     "data": {
      "text/plain": [
       "<AxesSubplot:xlabel='Date'>"
      ]
     },
     "execution_count": 74,
     "metadata": {},
     "output_type": "execute_result"
    },
    {
     "data": {
      "image/png": "[encoded data removed]",
      "text/plain": [
       "<Figure size 864x576 with 1 Axes>"
      ]
     },
     "metadata": {
      "needs_background": "light"
     },
     "output_type": "display_data"
    }
   ],
   "source": [
    "df[\"forecast\"]=result.predict(start=50,end=100,dynamic=True)\n",
    "df[[\"AQI\",\"forecast\"]].plot(figsize=(12,8))"
   ]
  },
  {
   "cell_type": "code",
   "execution_count": null,
   "id": "9509152c",
   "metadata": {},
   "outputs": [],
   "source": []
  }
 ],
 "metadata": {
  "kernelspec": {
   "display_name": "Python 3 (ipykernel)",
   "language": "python",
   "name": "python3"
  },
  "language_info": {
   "codemirror_mode": {
    "name": "ipython",
    "version": 3
   },
   "file_extension": ".py",
   "mimetype": "text/x-python",
   "name": "python",
   "nbconvert_exporter": "python",
   "pygments_lexer": "ipython3",
   "version": "3.8.5"
  }
 },
 "nbformat": 4,
 "nbformat_minor": 5
}

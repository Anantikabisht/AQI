{
 "cells": [
  {
   "cell_type": "markdown",
   "id": "48631cad",
   "metadata": {},
   "source": [
    "#  AQI -Air Quality Index (as per City)"
   ]
  },
  {
   "cell_type": "markdown",
   "id": "880dbec0",
   "metadata": {},
   "source": [
    "## 1. Load dataset and read the dataset\n",
    "-> import library\\\n",
    "-> load dataset\\\n",
    "-> reading as per data"
   ]
  },
  {
   "cell_type": "code",
   "execution_count": 1,
   "id": "e2e0a3bb",
   "metadata": {},
   "outputs": [
    {
     "data": {
      "text/plain": [
       "FutureWarning('ignore')"
      ]
     },
     "execution_count": 1,
     "metadata": {},
     "output_type": "execute_result"
    }
   ],
   "source": [
    "#pip install pandas-profiling\n",
    "#pip install tabulate\n",
    "from sklearn.impute import KNNImputer\n",
    "from statsmodels.tsa.stattools import adfuller\n",
    "from pmdarima import auto_arima\n",
    "from statsmodels.tsa.arima_model import ARIMA\n",
    "from sklearn import preprocessing\n",
    "from sklearn import ensemble\n",
    "from sklearn.ensemble import RandomForestRegressor\n",
    "from sklearn.model_selection import train_test_split\n",
    "from sklearn.preprocessing import LabelEncoder\n",
    "from sklearn.metrics import mean_squared_error\n",
    "#from pandas_profiling import ProfileReport\n",
    "import pandas as pd\n",
    "import numpy as np\n",
    "import sklearn as sk\n",
    "import seaborn as sns\n",
    "import matplotlib.pyplot as plt\n",
    "import datetime\n",
    "import warnings\n",
    "warnings.filterwarnings(\"ignore\")\n",
    "DeprecationWarning(\"ignore\")\n",
    "FutureWarning(\"ignore\")"
   ]
  },
  {
   "cell_type": "code",
   "execution_count": 2,
   "id": "90a0e096",
   "metadata": {},
   "outputs": [],
   "source": [
    "df=pd.read_csv(\"city_day.csv\")"
   ]
  },
  {
   "cell_type": "code",
   "execution_count": 3,
   "id": "91045087",
   "metadata": {},
   "outputs": [
    {
     "data": {
      "text/html": [
       "<div>\n",
       "<style scoped>\n",
       "    .dataframe tbody tr th:only-of-type {\n",
       "        vertical-align: middle;\n",
       "    }\n",
       "\n",
       "    .dataframe tbody tr th {\n",
       "        vertical-align: top;\n",
       "    }\n",
       "\n",
       "    .dataframe thead th {\n",
       "        text-align: right;\n",
       "    }\n",
       "</style>\n",
       "<table border=\"1\" class=\"dataframe\">\n",
       "  <thead>\n",
       "    <tr style=\"text-align: right;\">\n",
       "      <th></th>\n",
       "      <th>City</th>\n",
       "      <th>Date</th>\n",
       "      <th>PM2.5</th>\n",
       "      <th>PM10</th>\n",
       "      <th>NO</th>\n",
       "      <th>NO2</th>\n",
       "      <th>NOx</th>\n",
       "      <th>NH3</th>\n",
       "      <th>CO</th>\n",
       "      <th>SO2</th>\n",
       "      <th>O3</th>\n",
       "      <th>Benzene</th>\n",
       "      <th>Toluene</th>\n",
       "      <th>Xylene</th>\n",
       "      <th>AQI</th>\n",
       "      <th>AQI_Bucket</th>\n",
       "    </tr>\n",
       "  </thead>\n",
       "  <tbody>\n",
       "    <tr>\n",
       "      <th>0</th>\n",
       "      <td>Ahmedabad</td>\n",
       "      <td>2015-01-01</td>\n",
       "      <td>NaN</td>\n",
       "      <td>NaN</td>\n",
       "      <td>0.92</td>\n",
       "      <td>18.22</td>\n",
       "      <td>17.15</td>\n",
       "      <td>NaN</td>\n",
       "      <td>0.92</td>\n",
       "      <td>27.64</td>\n",
       "      <td>133.36</td>\n",
       "      <td>0.00</td>\n",
       "      <td>0.02</td>\n",
       "      <td>0.00</td>\n",
       "      <td>NaN</td>\n",
       "      <td>NaN</td>\n",
       "    </tr>\n",
       "    <tr>\n",
       "      <th>1</th>\n",
       "      <td>Ahmedabad</td>\n",
       "      <td>2015-01-02</td>\n",
       "      <td>NaN</td>\n",
       "      <td>NaN</td>\n",
       "      <td>0.97</td>\n",
       "      <td>15.69</td>\n",
       "      <td>16.46</td>\n",
       "      <td>NaN</td>\n",
       "      <td>0.97</td>\n",
       "      <td>24.55</td>\n",
       "      <td>34.06</td>\n",
       "      <td>3.68</td>\n",
       "      <td>5.50</td>\n",
       "      <td>3.77</td>\n",
       "      <td>NaN</td>\n",
       "      <td>NaN</td>\n",
       "    </tr>\n",
       "    <tr>\n",
       "      <th>2</th>\n",
       "      <td>Ahmedabad</td>\n",
       "      <td>2015-01-03</td>\n",
       "      <td>NaN</td>\n",
       "      <td>NaN</td>\n",
       "      <td>17.40</td>\n",
       "      <td>19.30</td>\n",
       "      <td>29.70</td>\n",
       "      <td>NaN</td>\n",
       "      <td>17.40</td>\n",
       "      <td>29.07</td>\n",
       "      <td>30.70</td>\n",
       "      <td>6.80</td>\n",
       "      <td>16.40</td>\n",
       "      <td>2.25</td>\n",
       "      <td>NaN</td>\n",
       "      <td>NaN</td>\n",
       "    </tr>\n",
       "    <tr>\n",
       "      <th>3</th>\n",
       "      <td>Ahmedabad</td>\n",
       "      <td>2015-01-04</td>\n",
       "      <td>NaN</td>\n",
       "      <td>NaN</td>\n",
       "      <td>1.70</td>\n",
       "      <td>18.48</td>\n",
       "      <td>17.97</td>\n",
       "      <td>NaN</td>\n",
       "      <td>1.70</td>\n",
       "      <td>18.59</td>\n",
       "      <td>36.08</td>\n",
       "      <td>4.43</td>\n",
       "      <td>10.14</td>\n",
       "      <td>1.00</td>\n",
       "      <td>NaN</td>\n",
       "      <td>NaN</td>\n",
       "    </tr>\n",
       "    <tr>\n",
       "      <th>4</th>\n",
       "      <td>Ahmedabad</td>\n",
       "      <td>2015-01-05</td>\n",
       "      <td>NaN</td>\n",
       "      <td>NaN</td>\n",
       "      <td>22.10</td>\n",
       "      <td>21.42</td>\n",
       "      <td>37.76</td>\n",
       "      <td>NaN</td>\n",
       "      <td>22.10</td>\n",
       "      <td>39.33</td>\n",
       "      <td>39.31</td>\n",
       "      <td>7.01</td>\n",
       "      <td>18.89</td>\n",
       "      <td>2.78</td>\n",
       "      <td>NaN</td>\n",
       "      <td>NaN</td>\n",
       "    </tr>\n",
       "    <tr>\n",
       "      <th>5</th>\n",
       "      <td>Ahmedabad</td>\n",
       "      <td>2015-01-06</td>\n",
       "      <td>NaN</td>\n",
       "      <td>NaN</td>\n",
       "      <td>45.41</td>\n",
       "      <td>38.48</td>\n",
       "      <td>81.50</td>\n",
       "      <td>NaN</td>\n",
       "      <td>45.41</td>\n",
       "      <td>45.76</td>\n",
       "      <td>46.51</td>\n",
       "      <td>5.42</td>\n",
       "      <td>10.83</td>\n",
       "      <td>1.93</td>\n",
       "      <td>NaN</td>\n",
       "      <td>NaN</td>\n",
       "    </tr>\n",
       "    <tr>\n",
       "      <th>6</th>\n",
       "      <td>Ahmedabad</td>\n",
       "      <td>2015-01-07</td>\n",
       "      <td>NaN</td>\n",
       "      <td>NaN</td>\n",
       "      <td>112.16</td>\n",
       "      <td>40.62</td>\n",
       "      <td>130.77</td>\n",
       "      <td>NaN</td>\n",
       "      <td>112.16</td>\n",
       "      <td>32.28</td>\n",
       "      <td>33.47</td>\n",
       "      <td>0.00</td>\n",
       "      <td>0.00</td>\n",
       "      <td>0.00</td>\n",
       "      <td>NaN</td>\n",
       "      <td>NaN</td>\n",
       "    </tr>\n",
       "    <tr>\n",
       "      <th>7</th>\n",
       "      <td>Ahmedabad</td>\n",
       "      <td>2015-01-08</td>\n",
       "      <td>NaN</td>\n",
       "      <td>NaN</td>\n",
       "      <td>80.87</td>\n",
       "      <td>36.74</td>\n",
       "      <td>96.75</td>\n",
       "      <td>NaN</td>\n",
       "      <td>80.87</td>\n",
       "      <td>38.54</td>\n",
       "      <td>31.89</td>\n",
       "      <td>0.00</td>\n",
       "      <td>0.00</td>\n",
       "      <td>0.00</td>\n",
       "      <td>NaN</td>\n",
       "      <td>NaN</td>\n",
       "    </tr>\n",
       "    <tr>\n",
       "      <th>8</th>\n",
       "      <td>Ahmedabad</td>\n",
       "      <td>2015-01-09</td>\n",
       "      <td>NaN</td>\n",
       "      <td>NaN</td>\n",
       "      <td>29.16</td>\n",
       "      <td>31.00</td>\n",
       "      <td>48.00</td>\n",
       "      <td>NaN</td>\n",
       "      <td>29.16</td>\n",
       "      <td>58.68</td>\n",
       "      <td>25.75</td>\n",
       "      <td>0.00</td>\n",
       "      <td>0.00</td>\n",
       "      <td>0.00</td>\n",
       "      <td>NaN</td>\n",
       "      <td>NaN</td>\n",
       "    </tr>\n",
       "    <tr>\n",
       "      <th>9</th>\n",
       "      <td>Ahmedabad</td>\n",
       "      <td>2015-01-10</td>\n",
       "      <td>NaN</td>\n",
       "      <td>NaN</td>\n",
       "      <td>NaN</td>\n",
       "      <td>7.04</td>\n",
       "      <td>0.00</td>\n",
       "      <td>NaN</td>\n",
       "      <td>NaN</td>\n",
       "      <td>8.29</td>\n",
       "      <td>4.55</td>\n",
       "      <td>0.00</td>\n",
       "      <td>0.00</td>\n",
       "      <td>0.00</td>\n",
       "      <td>NaN</td>\n",
       "      <td>NaN</td>\n",
       "    </tr>\n",
       "  </tbody>\n",
       "</table>\n",
       "</div>"
      ],
      "text/plain": [
       "        City        Date  PM2.5  PM10      NO    NO2     NOx  NH3      CO  \\\n",
       "0  Ahmedabad  2015-01-01    NaN   NaN    0.92  18.22   17.15  NaN    0.92   \n",
       "1  Ahmedabad  2015-01-02    NaN   NaN    0.97  15.69   16.46  NaN    0.97   \n",
       "2  Ahmedabad  2015-01-03    NaN   NaN   17.40  19.30   29.70  NaN   17.40   \n",
       "3  Ahmedabad  2015-01-04    NaN   NaN    1.70  18.48   17.97  NaN    1.70   \n",
       "4  Ahmedabad  2015-01-05    NaN   NaN   22.10  21.42   37.76  NaN   22.10   \n",
       "5  Ahmedabad  2015-01-06    NaN   NaN   45.41  38.48   81.50  NaN   45.41   \n",
       "6  Ahmedabad  2015-01-07    NaN   NaN  112.16  40.62  130.77  NaN  112.16   \n",
       "7  Ahmedabad  2015-01-08    NaN   NaN   80.87  36.74   96.75  NaN   80.87   \n",
       "8  Ahmedabad  2015-01-09    NaN   NaN   29.16  31.00   48.00  NaN   29.16   \n",
       "9  Ahmedabad  2015-01-10    NaN   NaN     NaN   7.04    0.00  NaN     NaN   \n",
       "\n",
       "     SO2      O3  Benzene  Toluene  Xylene  AQI AQI_Bucket  \n",
       "0  27.64  133.36     0.00     0.02    0.00  NaN        NaN  \n",
       "1  24.55   34.06     3.68     5.50    3.77  NaN        NaN  \n",
       "2  29.07   30.70     6.80    16.40    2.25  NaN        NaN  \n",
       "3  18.59   36.08     4.43    10.14    1.00  NaN        NaN  \n",
       "4  39.33   39.31     7.01    18.89    2.78  NaN        NaN  \n",
       "5  45.76   46.51     5.42    10.83    1.93  NaN        NaN  \n",
       "6  32.28   33.47     0.00     0.00    0.00  NaN        NaN  \n",
       "7  38.54   31.89     0.00     0.00    0.00  NaN        NaN  \n",
       "8  58.68   25.75     0.00     0.00    0.00  NaN        NaN  \n",
       "9   8.29    4.55     0.00     0.00    0.00  NaN        NaN  "
      ]
     },
     "execution_count": 3,
     "metadata": {},
     "output_type": "execute_result"
    }
   ],
   "source": [
    "df.head(10)"
   ]
  },
  {
   "cell_type": "code",
   "execution_count": 4,
   "id": "afdfb2c0",
   "metadata": {},
   "outputs": [],
   "source": [
    "# creating a visualization report of raw data to get a quick view of dataset.\n",
    "#city_day=ProfileReport(df,title=\"city_day\")\n",
    "#city_day.to_file(output_file=\"city_day.html\")"
   ]
  },
  {
   "cell_type": "markdown",
   "id": "1f123a53",
   "metadata": {},
   "source": [
    "## Reading:\n",
    "\n",
    "City_day data is having lots of null values ranging somewhere around 18.7% missing cells along with the majority of continuous variables with high correlation with AQI.It has no duplicate rows.\n",
    "\n",
    "\n",
    "\n",
    "\n",
    "\n",
    "\n",
    "\n"
   ]
  },
  {
   "cell_type": "markdown",
   "id": "4697b192",
   "metadata": {},
   "source": [
    "## 2. Data cleaning and processing\n",
    "\n",
    "-fill the null values by appropriate method.\\\n",
    "-refine the data to perform EDA.\n",
    "\n"
   ]
  },
  {
   "cell_type": "code",
   "execution_count": 5,
   "id": "ddaaac48",
   "metadata": {},
   "outputs": [
    {
     "name": "stdout",
     "output_type": "stream",
     "text": [
      "<class 'pandas.core.frame.DataFrame'>\n",
      "RangeIndex: 29531 entries, 0 to 29530\n",
      "Data columns (total 16 columns):\n",
      " #   Column      Non-Null Count  Dtype  \n",
      "---  ------      --------------  -----  \n",
      " 0   City        29531 non-null  object \n",
      " 1   Date        29531 non-null  object \n",
      " 2   PM2.5       24933 non-null  float64\n",
      " 3   PM10        18391 non-null  float64\n",
      " 4   NO          25949 non-null  float64\n",
      " 5   NO2         25946 non-null  float64\n",
      " 6   NOx         25346 non-null  float64\n",
      " 7   NH3         19203 non-null  float64\n",
      " 8   CO          27472 non-null  float64\n",
      " 9   SO2         25677 non-null  float64\n",
      " 10  O3          25509 non-null  float64\n",
      " 11  Benzene     23908 non-null  float64\n",
      " 12  Toluene     21490 non-null  float64\n",
      " 13  Xylene      11422 non-null  float64\n",
      " 14  AQI         24850 non-null  float64\n",
      " 15  AQI_Bucket  24850 non-null  object \n",
      "dtypes: float64(13), object(3)\n",
      "memory usage: 3.6+ MB\n"
     ]
    }
   ],
   "source": [
    "df.info()"
   ]
  },
  {
   "cell_type": "code",
   "execution_count": 6,
   "id": "b2af8294",
   "metadata": {},
   "outputs": [
    {
     "data": {
      "text/plain": [
       "City              0\n",
       "Date              0\n",
       "PM2.5          4598\n",
       "PM10          11140\n",
       "NO             3582\n",
       "NO2            3585\n",
       "NOx            4185\n",
       "NH3           10328\n",
       "CO             2059\n",
       "SO2            3854\n",
       "O3             4022\n",
       "Benzene        5623\n",
       "Toluene        8041\n",
       "Xylene        18109\n",
       "AQI            4681\n",
       "AQI_Bucket     4681\n",
       "dtype: int64"
      ]
     },
     "execution_count": 6,
     "metadata": {},
     "output_type": "execute_result"
    }
   ],
   "source": [
    "#null values columns in data\n",
    "df.isna().sum()"
   ]
  },
  {
   "cell_type": "markdown",
   "id": "43d7deb8",
   "metadata": {},
   "source": [
    " To fill the null values.(calculate the correlation of null values with AQI first)"
   ]
  },
  {
   "cell_type": "code",
   "execution_count": 7,
   "id": "2395cd4a",
   "metadata": {},
   "outputs": [],
   "source": [
    "var = df.select_dtypes(np.float64).columns  # since the datatype of null values column is float"
   ]
  },
  {
   "cell_type": "code",
   "execution_count": 8,
   "id": "4cfc78c4",
   "metadata": {},
   "outputs": [],
   "source": [
    "#defining function to calculate AQI\n",
    "corrl=[]\n",
    "def cor(x):\n",
    "    a=df[\"AQI\"].corr(x)\n",
    "    return corrl.append(a)"
   ]
  },
  {
   "cell_type": "code",
   "execution_count": 9,
   "id": "a08c8605",
   "metadata": {},
   "outputs": [],
   "source": [
    "cor(df[\"PM2.5\"])\n",
    "cor(df[\"PM10\"])\n",
    "cor(df[\"NO\"])\n",
    "cor(df[\"NO2\"])\n",
    "cor(df[\"NOx\"])\n",
    "cor(df[\"NH3\"])\n",
    "cor(df[\"CO\"])\n",
    "cor(df[\"SO2\"])\n",
    "cor(df[\"O3\"])\n",
    "cor(df[\"Benzene\"])\n",
    "cor(df[\"Toluene\"])\n",
    "cor(df[\"Xylene\"])"
   ]
  },
  {
   "cell_type": "code",
   "execution_count": 10,
   "id": "fa3a3288",
   "metadata": {},
   "outputs": [
    {
     "name": "stdout",
     "output_type": "stream",
     "text": [
      "Variable      Correlation\n",
      "----------  -------------\n",
      "PM2.5           0.659181\n",
      "PM10            0.803313\n",
      "NO              0.452191\n",
      "NO2             0.537071\n",
      "NOx             0.48645\n",
      "NH3             0.252019\n",
      "CO              0.683346\n",
      "SO2             0.490586\n",
      "O3              0.198991\n",
      "Benzene         0.0444067\n",
      "Toluene         0.279992\n",
      "Xylene          0.165532\n",
      "AQI\n"
     ]
    }
   ],
   "source": [
    "# create table to show values clearly.\n",
    "from tabulate import tabulate\n",
    "table=[var,corrl]\n",
    "print(tabulate({\"Variable\":var,\"Correaltion\":corrl},headers=[\"Variable\",\"Correlation\"]))"
   ]
  },
  {
   "cell_type": "markdown",
   "id": "30cf7112",
   "metadata": {},
   "source": [
    "Since, most of the vaiable is having good correlation,so drpoing the value is not a good option."
   ]
  },
  {
   "cell_type": "code",
   "execution_count": 11,
   "id": "d0b73589",
   "metadata": {},
   "outputs": [
    {
     "data": {
      "text/plain": [
       "['PM2.5',\n",
       " 'PM10',\n",
       " 'NO',\n",
       " 'NO2',\n",
       " 'NOx',\n",
       " 'NH3',\n",
       " 'CO',\n",
       " 'SO2',\n",
       " 'O3',\n",
       " 'Benzene',\n",
       " 'Toluene',\n",
       " 'Xylene',\n",
       " 'AQI']"
      ]
     },
     "execution_count": 11,
     "metadata": {},
     "output_type": "execute_result"
    }
   ],
   "source": [
    "# It is better to fill the values through unbiased method(to prevent from making the data bias.)\n",
    "# select the numerical variables to apply KNN.\n",
    "var=[col for col in df.columns if df[col].dtypes !=\"O\"]\n",
    "var"
   ]
  },
  {
   "cell_type": "code",
   "execution_count": 12,
   "id": "28dbc685",
   "metadata": {},
   "outputs": [
    {
     "data": {
      "text/plain": [
       "KNNImputer(weights='distance')"
      ]
     },
     "execution_count": 12,
     "metadata": {},
     "output_type": "execute_result"
    }
   ],
   "source": [
    "imputer=KNNImputer(n_neighbors=5,weights=\"distance\")    # imputing knn by setting weights as distance instaed of uniform.\n",
    "imputer.fit(df[var])"
   ]
  },
  {
   "cell_type": "code",
   "execution_count": 13,
   "id": "9144db93",
   "metadata": {},
   "outputs": [],
   "source": [
    "dc=pd.DataFrame(imputer.transform(df[var]))"
   ]
  },
  {
   "cell_type": "code",
   "execution_count": 14,
   "id": "c64a8f94",
   "metadata": {
    "scrolled": true
   },
   "outputs": [
    {
     "data": {
      "text/plain": [
       "0     0\n",
       "1     0\n",
       "2     0\n",
       "3     0\n",
       "4     0\n",
       "5     0\n",
       "6     0\n",
       "7     0\n",
       "8     0\n",
       "9     0\n",
       "10    0\n",
       "11    0\n",
       "12    0\n",
       "dtype: int64"
      ]
     },
     "execution_count": 14,
     "metadata": {},
     "output_type": "execute_result"
    }
   ],
   "source": [
    "dc.isna().sum()"
   ]
  },
  {
   "cell_type": "code",
   "execution_count": 15,
   "id": "ada4b138",
   "metadata": {},
   "outputs": [],
   "source": [
    "#setting columns name\n",
    "dc.columns=['PM2.5', 'PM10', 'NO', 'NO2', 'NOx', 'NH3', 'CO', 'SO2', 'O3','Benzene', 'Toluene', 'Xylene','AQI']"
   ]
  },
  {
   "cell_type": "code",
   "execution_count": 16,
   "id": "219d4cf2",
   "metadata": {},
   "outputs": [],
   "source": [
    "# Now,adding other columns to dataset  \n",
    "dc[\"City\"]=df[\"City\"]\n",
    "dc[\"Date\"]=df[\"Date\"]"
   ]
  },
  {
   "cell_type": "code",
   "execution_count": 17,
   "id": "7d375b4c",
   "metadata": {},
   "outputs": [],
   "source": [
    "# Re-indexing the columns.\n",
    "column_names=['Date','City', 'PM2.5', 'PM10', 'NO', 'NO2', 'NOx', 'NH3', 'CO', 'SO2', 'O3',\n",
    "       'Benzene', 'Toluene', 'Xylene',\"AQI\"]\n",
    "dc=dc.reindex(columns=column_names)"
   ]
  },
  {
   "cell_type": "code",
   "execution_count": 18,
   "id": "c39b54e8",
   "metadata": {},
   "outputs": [
    {
     "data": {
      "text/html": [
       "<div>\n",
       "<style scoped>\n",
       "    .dataframe tbody tr th:only-of-type {\n",
       "        vertical-align: middle;\n",
       "    }\n",
       "\n",
       "    .dataframe tbody tr th {\n",
       "        vertical-align: top;\n",
       "    }\n",
       "\n",
       "    .dataframe thead th {\n",
       "        text-align: right;\n",
       "    }\n",
       "</style>\n",
       "<table border=\"1\" class=\"dataframe\">\n",
       "  <thead>\n",
       "    <tr style=\"text-align: right;\">\n",
       "      <th></th>\n",
       "      <th>Date</th>\n",
       "      <th>City</th>\n",
       "      <th>PM2.5</th>\n",
       "      <th>PM10</th>\n",
       "      <th>NO</th>\n",
       "      <th>NO2</th>\n",
       "      <th>NOx</th>\n",
       "      <th>NH3</th>\n",
       "      <th>CO</th>\n",
       "      <th>SO2</th>\n",
       "      <th>O3</th>\n",
       "      <th>Benzene</th>\n",
       "      <th>Toluene</th>\n",
       "      <th>Xylene</th>\n",
       "      <th>AQI</th>\n",
       "    </tr>\n",
       "  </thead>\n",
       "  <tbody>\n",
       "    <tr>\n",
       "      <th>0</th>\n",
       "      <td>2015-01-01</td>\n",
       "      <td>Ahmedabad</td>\n",
       "      <td>25.338390</td>\n",
       "      <td>137.843241</td>\n",
       "      <td>0.92</td>\n",
       "      <td>18.22</td>\n",
       "      <td>17.15</td>\n",
       "      <td>10.058427</td>\n",
       "      <td>0.92</td>\n",
       "      <td>27.64</td>\n",
       "      <td>133.36</td>\n",
       "      <td>0.00</td>\n",
       "      <td>0.02</td>\n",
       "      <td>0.00</td>\n",
       "      <td>120.025927</td>\n",
       "    </tr>\n",
       "    <tr>\n",
       "      <th>1</th>\n",
       "      <td>2015-01-02</td>\n",
       "      <td>Ahmedabad</td>\n",
       "      <td>25.568675</td>\n",
       "      <td>144.263876</td>\n",
       "      <td>0.97</td>\n",
       "      <td>15.69</td>\n",
       "      <td>16.46</td>\n",
       "      <td>9.723427</td>\n",
       "      <td>0.97</td>\n",
       "      <td>24.55</td>\n",
       "      <td>34.06</td>\n",
       "      <td>3.68</td>\n",
       "      <td>5.50</td>\n",
       "      <td>3.77</td>\n",
       "      <td>130.791651</td>\n",
       "    </tr>\n",
       "    <tr>\n",
       "      <th>2</th>\n",
       "      <td>2015-01-03</td>\n",
       "      <td>Ahmedabad</td>\n",
       "      <td>115.057620</td>\n",
       "      <td>165.891366</td>\n",
       "      <td>17.40</td>\n",
       "      <td>19.30</td>\n",
       "      <td>29.70</td>\n",
       "      <td>8.948120</td>\n",
       "      <td>17.40</td>\n",
       "      <td>29.07</td>\n",
       "      <td>30.70</td>\n",
       "      <td>6.80</td>\n",
       "      <td>16.40</td>\n",
       "      <td>2.25</td>\n",
       "      <td>344.272735</td>\n",
       "    </tr>\n",
       "    <tr>\n",
       "      <th>3</th>\n",
       "      <td>2015-01-04</td>\n",
       "      <td>Ahmedabad</td>\n",
       "      <td>39.372665</td>\n",
       "      <td>184.350858</td>\n",
       "      <td>1.70</td>\n",
       "      <td>18.48</td>\n",
       "      <td>17.97</td>\n",
       "      <td>11.393357</td>\n",
       "      <td>1.70</td>\n",
       "      <td>18.59</td>\n",
       "      <td>36.08</td>\n",
       "      <td>4.43</td>\n",
       "      <td>10.14</td>\n",
       "      <td>1.00</td>\n",
       "      <td>146.963405</td>\n",
       "    </tr>\n",
       "    <tr>\n",
       "      <th>4</th>\n",
       "      <td>2015-01-05</td>\n",
       "      <td>Ahmedabad</td>\n",
       "      <td>158.694621</td>\n",
       "      <td>216.522624</td>\n",
       "      <td>22.10</td>\n",
       "      <td>21.42</td>\n",
       "      <td>37.76</td>\n",
       "      <td>9.030260</td>\n",
       "      <td>22.10</td>\n",
       "      <td>39.33</td>\n",
       "      <td>39.31</td>\n",
       "      <td>7.01</td>\n",
       "      <td>18.89</td>\n",
       "      <td>2.78</td>\n",
       "      <td>390.145889</td>\n",
       "    </tr>\n",
       "    <tr>\n",
       "      <th>...</th>\n",
       "      <td>...</td>\n",
       "      <td>...</td>\n",
       "      <td>...</td>\n",
       "      <td>...</td>\n",
       "      <td>...</td>\n",
       "      <td>...</td>\n",
       "      <td>...</td>\n",
       "      <td>...</td>\n",
       "      <td>...</td>\n",
       "      <td>...</td>\n",
       "      <td>...</td>\n",
       "      <td>...</td>\n",
       "      <td>...</td>\n",
       "      <td>...</td>\n",
       "      <td>...</td>\n",
       "    </tr>\n",
       "    <tr>\n",
       "      <th>29526</th>\n",
       "      <td>2020-06-27</td>\n",
       "      <td>Visakhapatnam</td>\n",
       "      <td>15.020000</td>\n",
       "      <td>50.940000</td>\n",
       "      <td>7.68</td>\n",
       "      <td>25.06</td>\n",
       "      <td>19.54</td>\n",
       "      <td>12.470000</td>\n",
       "      <td>0.47</td>\n",
       "      <td>8.55</td>\n",
       "      <td>23.30</td>\n",
       "      <td>2.24</td>\n",
       "      <td>12.07</td>\n",
       "      <td>0.73</td>\n",
       "      <td>41.000000</td>\n",
       "    </tr>\n",
       "    <tr>\n",
       "      <th>29527</th>\n",
       "      <td>2020-06-28</td>\n",
       "      <td>Visakhapatnam</td>\n",
       "      <td>24.380000</td>\n",
       "      <td>74.090000</td>\n",
       "      <td>3.42</td>\n",
       "      <td>26.06</td>\n",
       "      <td>16.53</td>\n",
       "      <td>11.990000</td>\n",
       "      <td>0.52</td>\n",
       "      <td>12.72</td>\n",
       "      <td>30.14</td>\n",
       "      <td>0.74</td>\n",
       "      <td>2.21</td>\n",
       "      <td>0.38</td>\n",
       "      <td>70.000000</td>\n",
       "    </tr>\n",
       "    <tr>\n",
       "      <th>29528</th>\n",
       "      <td>2020-06-29</td>\n",
       "      <td>Visakhapatnam</td>\n",
       "      <td>22.910000</td>\n",
       "      <td>65.730000</td>\n",
       "      <td>3.45</td>\n",
       "      <td>29.53</td>\n",
       "      <td>18.33</td>\n",
       "      <td>10.710000</td>\n",
       "      <td>0.48</td>\n",
       "      <td>8.42</td>\n",
       "      <td>30.96</td>\n",
       "      <td>0.01</td>\n",
       "      <td>0.01</td>\n",
       "      <td>0.00</td>\n",
       "      <td>68.000000</td>\n",
       "    </tr>\n",
       "    <tr>\n",
       "      <th>29529</th>\n",
       "      <td>2020-06-30</td>\n",
       "      <td>Visakhapatnam</td>\n",
       "      <td>16.640000</td>\n",
       "      <td>49.970000</td>\n",
       "      <td>4.05</td>\n",
       "      <td>29.26</td>\n",
       "      <td>18.80</td>\n",
       "      <td>10.030000</td>\n",
       "      <td>0.52</td>\n",
       "      <td>9.84</td>\n",
       "      <td>28.30</td>\n",
       "      <td>0.00</td>\n",
       "      <td>0.00</td>\n",
       "      <td>0.00</td>\n",
       "      <td>54.000000</td>\n",
       "    </tr>\n",
       "    <tr>\n",
       "      <th>29530</th>\n",
       "      <td>2020-07-01</td>\n",
       "      <td>Visakhapatnam</td>\n",
       "      <td>15.000000</td>\n",
       "      <td>66.000000</td>\n",
       "      <td>0.40</td>\n",
       "      <td>26.85</td>\n",
       "      <td>14.05</td>\n",
       "      <td>5.200000</td>\n",
       "      <td>0.59</td>\n",
       "      <td>2.10</td>\n",
       "      <td>17.05</td>\n",
       "      <td>0.00</td>\n",
       "      <td>0.00</td>\n",
       "      <td>0.00</td>\n",
       "      <td>50.000000</td>\n",
       "    </tr>\n",
       "  </tbody>\n",
       "</table>\n",
       "<p>29531 rows × 15 columns</p>\n",
       "</div>"
      ],
      "text/plain": [
       "             Date           City       PM2.5        PM10     NO    NO2    NOx  \\\n",
       "0      2015-01-01      Ahmedabad   25.338390  137.843241   0.92  18.22  17.15   \n",
       "1      2015-01-02      Ahmedabad   25.568675  144.263876   0.97  15.69  16.46   \n",
       "2      2015-01-03      Ahmedabad  115.057620  165.891366  17.40  19.30  29.70   \n",
       "3      2015-01-04      Ahmedabad   39.372665  184.350858   1.70  18.48  17.97   \n",
       "4      2015-01-05      Ahmedabad  158.694621  216.522624  22.10  21.42  37.76   \n",
       "...           ...            ...         ...         ...    ...    ...    ...   \n",
       "29526  2020-06-27  Visakhapatnam   15.020000   50.940000   7.68  25.06  19.54   \n",
       "29527  2020-06-28  Visakhapatnam   24.380000   74.090000   3.42  26.06  16.53   \n",
       "29528  2020-06-29  Visakhapatnam   22.910000   65.730000   3.45  29.53  18.33   \n",
       "29529  2020-06-30  Visakhapatnam   16.640000   49.970000   4.05  29.26  18.80   \n",
       "29530  2020-07-01  Visakhapatnam   15.000000   66.000000   0.40  26.85  14.05   \n",
       "\n",
       "             NH3     CO    SO2      O3  Benzene  Toluene  Xylene         AQI  \n",
       "0      10.058427   0.92  27.64  133.36     0.00     0.02    0.00  120.025927  \n",
       "1       9.723427   0.97  24.55   34.06     3.68     5.50    3.77  130.791651  \n",
       "2       8.948120  17.40  29.07   30.70     6.80    16.40    2.25  344.272735  \n",
       "3      11.393357   1.70  18.59   36.08     4.43    10.14    1.00  146.963405  \n",
       "4       9.030260  22.10  39.33   39.31     7.01    18.89    2.78  390.145889  \n",
       "...          ...    ...    ...     ...      ...      ...     ...         ...  \n",
       "29526  12.470000   0.47   8.55   23.30     2.24    12.07    0.73   41.000000  \n",
       "29527  11.990000   0.52  12.72   30.14     0.74     2.21    0.38   70.000000  \n",
       "29528  10.710000   0.48   8.42   30.96     0.01     0.01    0.00   68.000000  \n",
       "29529  10.030000   0.52   9.84   28.30     0.00     0.00    0.00   54.000000  \n",
       "29530   5.200000   0.59   2.10   17.05     0.00     0.00    0.00   50.000000  \n",
       "\n",
       "[29531 rows x 15 columns]"
      ]
     },
     "execution_count": 18,
     "metadata": {},
     "output_type": "execute_result"
    }
   ],
   "source": [
    "dc"
   ]
  },
  {
   "cell_type": "markdown",
   "id": "d6a01bd6",
   "metadata": {},
   "source": [
    "### AQI Calculation\n",
    "Since, for calculating AQI (\"The AQI calculation uses 7 measures: PM2.5, PM10, SO2, NOx, NH3, CO and O3.\"),it has been\n",
    "defined by the authorities to calculate the AQI.SO, we will be calculating AQI(with respect to these columns) and \n",
    "filling the AQI bucket."
   ]
  },
  {
   "cell_type": "code",
   "execution_count": 142,
   "id": "457ce13f",
   "metadata": {},
   "outputs": [],
   "source": [
    "# importing the file created alreday\n",
    "from form import form_aqi"
   ]
  },
  {
   "cell_type": "code",
   "execution_count": 145,
   "id": "1c9ef4a7",
   "metadata": {},
   "outputs": [],
   "source": [
    "calling=form_aqi()"
   ]
  },
  {
   "cell_type": "code",
   "execution_count": 146,
   "id": "632cc1fe",
   "metadata": {},
   "outputs": [
    {
     "ename": "KeyError",
     "evalue": "\"None of [Index(['PM2.5', 'PM10', 'SO2', 'NOx', 'NH3', 'CO', 'O3'], dtype='object')] are in the [columns]\"",
     "output_type": "error",
     "traceback": [
      "\u001b[1;31m---------------------------------------------------------------------------\u001b[0m",
      "\u001b[1;31mKeyError\u001b[0m                                  Traceback (most recent call last)",
      "\u001b[1;32m~\\AppData\\Local\\Temp/ipykernel_18936/3119425603.py\u001b[0m in \u001b[0;36m<module>\u001b[1;34m\u001b[0m\n\u001b[0;32m      1\u001b[0m \u001b[1;31m#calculating AQI\u001b[0m\u001b[1;33m\u001b[0m\u001b[1;33m\u001b[0m\u001b[1;33m\u001b[0m\u001b[0m\n\u001b[1;32m----> 2\u001b[1;33m dc[\"AQI_calculated\"] = round(dc[[\"PM2.5\", \"PM10\", \"SO2\", \"NOx\",\n\u001b[0m\u001b[0;32m      3\u001b[0m                                  \"NH3\", \"CO\", \"O3\"]].max(axis = 1))\n\u001b[0;32m      4\u001b[0m \u001b[1;31m# setting AQI bucket\u001b[0m\u001b[1;33m\u001b[0m\u001b[1;33m\u001b[0m\u001b[1;33m\u001b[0m\u001b[0m\n\u001b[0;32m      5\u001b[0m \u001b[0mdc\u001b[0m\u001b[1;33m[\u001b[0m\u001b[1;34m\"AQI_bucket\"\u001b[0m\u001b[1;33m]\u001b[0m \u001b[1;33m=\u001b[0m \u001b[0mdc\u001b[0m\u001b[1;33m[\u001b[0m\u001b[1;34m\"AQI_calculated\"\u001b[0m\u001b[1;33m]\u001b[0m\u001b[1;33m.\u001b[0m\u001b[0mapply\u001b[0m\u001b[1;33m(\u001b[0m\u001b[1;32mlambda\u001b[0m \u001b[0mx\u001b[0m\u001b[1;33m:\u001b[0m \u001b[0mcalling\u001b[0m\u001b[1;33m.\u001b[0m\u001b[0mget_AQI_bucket\u001b[0m\u001b[1;33m(\u001b[0m\u001b[0mx\u001b[0m\u001b[1;33m)\u001b[0m\u001b[1;33m)\u001b[0m\u001b[1;33m\u001b[0m\u001b[1;33m\u001b[0m\u001b[0m\n",
      "\u001b[1;32m~\\AppData\\Local\\Programs\\Python\\Python38\\lib\\site-packages\\pandas\\core\\frame.py\u001b[0m in \u001b[0;36m__getitem__\u001b[1;34m(self, key)\u001b[0m\n\u001b[0;32m   3028\u001b[0m             \u001b[1;32mif\u001b[0m \u001b[0mis_iterator\u001b[0m\u001b[1;33m(\u001b[0m\u001b[0mkey\u001b[0m\u001b[1;33m)\u001b[0m\u001b[1;33m:\u001b[0m\u001b[1;33m\u001b[0m\u001b[1;33m\u001b[0m\u001b[0m\n\u001b[0;32m   3029\u001b[0m                 \u001b[0mkey\u001b[0m \u001b[1;33m=\u001b[0m \u001b[0mlist\u001b[0m\u001b[1;33m(\u001b[0m\u001b[0mkey\u001b[0m\u001b[1;33m)\u001b[0m\u001b[1;33m\u001b[0m\u001b[1;33m\u001b[0m\u001b[0m\n\u001b[1;32m-> 3030\u001b[1;33m             \u001b[0mindexer\u001b[0m \u001b[1;33m=\u001b[0m \u001b[0mself\u001b[0m\u001b[1;33m.\u001b[0m\u001b[0mloc\u001b[0m\u001b[1;33m.\u001b[0m\u001b[0m_get_listlike_indexer\u001b[0m\u001b[1;33m(\u001b[0m\u001b[0mkey\u001b[0m\u001b[1;33m,\u001b[0m \u001b[0maxis\u001b[0m\u001b[1;33m=\u001b[0m\u001b[1;36m1\u001b[0m\u001b[1;33m,\u001b[0m \u001b[0mraise_missing\u001b[0m\u001b[1;33m=\u001b[0m\u001b[1;32mTrue\u001b[0m\u001b[1;33m)\u001b[0m\u001b[1;33m[\u001b[0m\u001b[1;36m1\u001b[0m\u001b[1;33m]\u001b[0m\u001b[1;33m\u001b[0m\u001b[1;33m\u001b[0m\u001b[0m\n\u001b[0m\u001b[0;32m   3031\u001b[0m \u001b[1;33m\u001b[0m\u001b[0m\n\u001b[0;32m   3032\u001b[0m         \u001b[1;31m# take() does not accept boolean indexers\u001b[0m\u001b[1;33m\u001b[0m\u001b[1;33m\u001b[0m\u001b[1;33m\u001b[0m\u001b[0m\n",
      "\u001b[1;32m~\\AppData\\Local\\Programs\\Python\\Python38\\lib\\site-packages\\pandas\\core\\indexing.py\u001b[0m in \u001b[0;36m_get_listlike_indexer\u001b[1;34m(self, key, axis, raise_missing)\u001b[0m\n\u001b[0;32m   1264\u001b[0m             \u001b[0mkeyarr\u001b[0m\u001b[1;33m,\u001b[0m \u001b[0mindexer\u001b[0m\u001b[1;33m,\u001b[0m \u001b[0mnew_indexer\u001b[0m \u001b[1;33m=\u001b[0m \u001b[0max\u001b[0m\u001b[1;33m.\u001b[0m\u001b[0m_reindex_non_unique\u001b[0m\u001b[1;33m(\u001b[0m\u001b[0mkeyarr\u001b[0m\u001b[1;33m)\u001b[0m\u001b[1;33m\u001b[0m\u001b[1;33m\u001b[0m\u001b[0m\n\u001b[0;32m   1265\u001b[0m \u001b[1;33m\u001b[0m\u001b[0m\n\u001b[1;32m-> 1266\u001b[1;33m         \u001b[0mself\u001b[0m\u001b[1;33m.\u001b[0m\u001b[0m_validate_read_indexer\u001b[0m\u001b[1;33m(\u001b[0m\u001b[0mkeyarr\u001b[0m\u001b[1;33m,\u001b[0m \u001b[0mindexer\u001b[0m\u001b[1;33m,\u001b[0m \u001b[0maxis\u001b[0m\u001b[1;33m,\u001b[0m \u001b[0mraise_missing\u001b[0m\u001b[1;33m=\u001b[0m\u001b[0mraise_missing\u001b[0m\u001b[1;33m)\u001b[0m\u001b[1;33m\u001b[0m\u001b[1;33m\u001b[0m\u001b[0m\n\u001b[0m\u001b[0;32m   1267\u001b[0m         \u001b[1;32mreturn\u001b[0m \u001b[0mkeyarr\u001b[0m\u001b[1;33m,\u001b[0m \u001b[0mindexer\u001b[0m\u001b[1;33m\u001b[0m\u001b[1;33m\u001b[0m\u001b[0m\n\u001b[0;32m   1268\u001b[0m \u001b[1;33m\u001b[0m\u001b[0m\n",
      "\u001b[1;32m~\\AppData\\Local\\Programs\\Python\\Python38\\lib\\site-packages\\pandas\\core\\indexing.py\u001b[0m in \u001b[0;36m_validate_read_indexer\u001b[1;34m(self, key, indexer, axis, raise_missing)\u001b[0m\n\u001b[0;32m   1306\u001b[0m             \u001b[1;32mif\u001b[0m \u001b[0mmissing\u001b[0m \u001b[1;33m==\u001b[0m \u001b[0mlen\u001b[0m\u001b[1;33m(\u001b[0m\u001b[0mindexer\u001b[0m\u001b[1;33m)\u001b[0m\u001b[1;33m:\u001b[0m\u001b[1;33m\u001b[0m\u001b[1;33m\u001b[0m\u001b[0m\n\u001b[0;32m   1307\u001b[0m                 \u001b[0maxis_name\u001b[0m \u001b[1;33m=\u001b[0m \u001b[0mself\u001b[0m\u001b[1;33m.\u001b[0m\u001b[0mobj\u001b[0m\u001b[1;33m.\u001b[0m\u001b[0m_get_axis_name\u001b[0m\u001b[1;33m(\u001b[0m\u001b[0maxis\u001b[0m\u001b[1;33m)\u001b[0m\u001b[1;33m\u001b[0m\u001b[1;33m\u001b[0m\u001b[0m\n\u001b[1;32m-> 1308\u001b[1;33m                 \u001b[1;32mraise\u001b[0m \u001b[0mKeyError\u001b[0m\u001b[1;33m(\u001b[0m\u001b[1;34mf\"None of [{key}] are in the [{axis_name}]\"\u001b[0m\u001b[1;33m)\u001b[0m\u001b[1;33m\u001b[0m\u001b[1;33m\u001b[0m\u001b[0m\n\u001b[0m\u001b[0;32m   1309\u001b[0m \u001b[1;33m\u001b[0m\u001b[0m\n\u001b[0;32m   1310\u001b[0m             \u001b[0max\u001b[0m \u001b[1;33m=\u001b[0m \u001b[0mself\u001b[0m\u001b[1;33m.\u001b[0m\u001b[0mobj\u001b[0m\u001b[1;33m.\u001b[0m\u001b[0m_get_axis\u001b[0m\u001b[1;33m(\u001b[0m\u001b[0maxis\u001b[0m\u001b[1;33m)\u001b[0m\u001b[1;33m\u001b[0m\u001b[1;33m\u001b[0m\u001b[0m\n",
      "\u001b[1;31mKeyError\u001b[0m: \"None of [Index(['PM2.5', 'PM10', 'SO2', 'NOx', 'NH3', 'CO', 'O3'], dtype='object')] are in the [columns]\""
     ]
    }
   ],
   "source": [
    "#calculating AQI\n",
    "dc[\"AQI_calculated\"] = round(dc[[\"PM2.5\", \"PM10\", \"SO2\", \"NOx\",\n",
    "                                 \"NH3\", \"CO\", \"O3\"]].max(axis = 1))\n",
    "# setting AQI bucket\n",
    "dc[\"AQI_bucket\"] = dc[\"AQI_calculated\"].apply(lambda x: calling.get_AQI_bucket(x))"
   ]
  },
  {
   "cell_type": "code",
   "execution_count": 22,
   "id": "40b07c77",
   "metadata": {},
   "outputs": [
    {
     "data": {
      "text/html": [
       "<div>\n",
       "<style scoped>\n",
       "    .dataframe tbody tr th:only-of-type {\n",
       "        vertical-align: middle;\n",
       "    }\n",
       "\n",
       "    .dataframe tbody tr th {\n",
       "        vertical-align: top;\n",
       "    }\n",
       "\n",
       "    .dataframe thead th {\n",
       "        text-align: right;\n",
       "    }\n",
       "</style>\n",
       "<table border=\"1\" class=\"dataframe\">\n",
       "  <thead>\n",
       "    <tr style=\"text-align: right;\">\n",
       "      <th></th>\n",
       "      <th>Date</th>\n",
       "      <th>City</th>\n",
       "      <th>PM2.5</th>\n",
       "      <th>PM10</th>\n",
       "      <th>NO</th>\n",
       "      <th>NO2</th>\n",
       "      <th>NOx</th>\n",
       "      <th>NH3</th>\n",
       "      <th>CO</th>\n",
       "      <th>SO2</th>\n",
       "      <th>O3</th>\n",
       "      <th>Benzene</th>\n",
       "      <th>Toluene</th>\n",
       "      <th>Xylene</th>\n",
       "      <th>AQI</th>\n",
       "      <th>AQI_calculated</th>\n",
       "      <th>AQI_bucket</th>\n",
       "    </tr>\n",
       "  </thead>\n",
       "  <tbody>\n",
       "    <tr>\n",
       "      <th>0</th>\n",
       "      <td>2015-01-01</td>\n",
       "      <td>Ahmedabad</td>\n",
       "      <td>25.338390</td>\n",
       "      <td>137.843241</td>\n",
       "      <td>0.92</td>\n",
       "      <td>18.22</td>\n",
       "      <td>17.15</td>\n",
       "      <td>10.058427</td>\n",
       "      <td>0.92</td>\n",
       "      <td>27.64</td>\n",
       "      <td>133.36</td>\n",
       "      <td>0.00</td>\n",
       "      <td>0.02</td>\n",
       "      <td>0.00</td>\n",
       "      <td>120.025927</td>\n",
       "      <td>138.0</td>\n",
       "      <td>Moderate</td>\n",
       "    </tr>\n",
       "    <tr>\n",
       "      <th>1</th>\n",
       "      <td>2015-01-02</td>\n",
       "      <td>Ahmedabad</td>\n",
       "      <td>25.568675</td>\n",
       "      <td>144.263876</td>\n",
       "      <td>0.97</td>\n",
       "      <td>15.69</td>\n",
       "      <td>16.46</td>\n",
       "      <td>9.723427</td>\n",
       "      <td>0.97</td>\n",
       "      <td>24.55</td>\n",
       "      <td>34.06</td>\n",
       "      <td>3.68</td>\n",
       "      <td>5.50</td>\n",
       "      <td>3.77</td>\n",
       "      <td>130.791651</td>\n",
       "      <td>144.0</td>\n",
       "      <td>Moderate</td>\n",
       "    </tr>\n",
       "    <tr>\n",
       "      <th>2</th>\n",
       "      <td>2015-01-03</td>\n",
       "      <td>Ahmedabad</td>\n",
       "      <td>115.057620</td>\n",
       "      <td>165.891366</td>\n",
       "      <td>17.40</td>\n",
       "      <td>19.30</td>\n",
       "      <td>29.70</td>\n",
       "      <td>8.948120</td>\n",
       "      <td>17.40</td>\n",
       "      <td>29.07</td>\n",
       "      <td>30.70</td>\n",
       "      <td>6.80</td>\n",
       "      <td>16.40</td>\n",
       "      <td>2.25</td>\n",
       "      <td>344.272735</td>\n",
       "      <td>166.0</td>\n",
       "      <td>Moderate</td>\n",
       "    </tr>\n",
       "    <tr>\n",
       "      <th>3</th>\n",
       "      <td>2015-01-04</td>\n",
       "      <td>Ahmedabad</td>\n",
       "      <td>39.372665</td>\n",
       "      <td>184.350858</td>\n",
       "      <td>1.70</td>\n",
       "      <td>18.48</td>\n",
       "      <td>17.97</td>\n",
       "      <td>11.393357</td>\n",
       "      <td>1.70</td>\n",
       "      <td>18.59</td>\n",
       "      <td>36.08</td>\n",
       "      <td>4.43</td>\n",
       "      <td>10.14</td>\n",
       "      <td>1.00</td>\n",
       "      <td>146.963405</td>\n",
       "      <td>184.0</td>\n",
       "      <td>Moderate</td>\n",
       "    </tr>\n",
       "    <tr>\n",
       "      <th>4</th>\n",
       "      <td>2015-01-05</td>\n",
       "      <td>Ahmedabad</td>\n",
       "      <td>158.694621</td>\n",
       "      <td>216.522624</td>\n",
       "      <td>22.10</td>\n",
       "      <td>21.42</td>\n",
       "      <td>37.76</td>\n",
       "      <td>9.030260</td>\n",
       "      <td>22.10</td>\n",
       "      <td>39.33</td>\n",
       "      <td>39.31</td>\n",
       "      <td>7.01</td>\n",
       "      <td>18.89</td>\n",
       "      <td>2.78</td>\n",
       "      <td>390.145889</td>\n",
       "      <td>217.0</td>\n",
       "      <td>Poor</td>\n",
       "    </tr>\n",
       "    <tr>\n",
       "      <th>...</th>\n",
       "      <td>...</td>\n",
       "      <td>...</td>\n",
       "      <td>...</td>\n",
       "      <td>...</td>\n",
       "      <td>...</td>\n",
       "      <td>...</td>\n",
       "      <td>...</td>\n",
       "      <td>...</td>\n",
       "      <td>...</td>\n",
       "      <td>...</td>\n",
       "      <td>...</td>\n",
       "      <td>...</td>\n",
       "      <td>...</td>\n",
       "      <td>...</td>\n",
       "      <td>...</td>\n",
       "      <td>...</td>\n",
       "      <td>...</td>\n",
       "    </tr>\n",
       "    <tr>\n",
       "      <th>29526</th>\n",
       "      <td>2020-06-27</td>\n",
       "      <td>Visakhapatnam</td>\n",
       "      <td>15.020000</td>\n",
       "      <td>50.940000</td>\n",
       "      <td>7.68</td>\n",
       "      <td>25.06</td>\n",
       "      <td>19.54</td>\n",
       "      <td>12.470000</td>\n",
       "      <td>0.47</td>\n",
       "      <td>8.55</td>\n",
       "      <td>23.30</td>\n",
       "      <td>2.24</td>\n",
       "      <td>12.07</td>\n",
       "      <td>0.73</td>\n",
       "      <td>41.000000</td>\n",
       "      <td>51.0</td>\n",
       "      <td>Satisfactory</td>\n",
       "    </tr>\n",
       "    <tr>\n",
       "      <th>29527</th>\n",
       "      <td>2020-06-28</td>\n",
       "      <td>Visakhapatnam</td>\n",
       "      <td>24.380000</td>\n",
       "      <td>74.090000</td>\n",
       "      <td>3.42</td>\n",
       "      <td>26.06</td>\n",
       "      <td>16.53</td>\n",
       "      <td>11.990000</td>\n",
       "      <td>0.52</td>\n",
       "      <td>12.72</td>\n",
       "      <td>30.14</td>\n",
       "      <td>0.74</td>\n",
       "      <td>2.21</td>\n",
       "      <td>0.38</td>\n",
       "      <td>70.000000</td>\n",
       "      <td>74.0</td>\n",
       "      <td>Satisfactory</td>\n",
       "    </tr>\n",
       "    <tr>\n",
       "      <th>29528</th>\n",
       "      <td>2020-06-29</td>\n",
       "      <td>Visakhapatnam</td>\n",
       "      <td>22.910000</td>\n",
       "      <td>65.730000</td>\n",
       "      <td>3.45</td>\n",
       "      <td>29.53</td>\n",
       "      <td>18.33</td>\n",
       "      <td>10.710000</td>\n",
       "      <td>0.48</td>\n",
       "      <td>8.42</td>\n",
       "      <td>30.96</td>\n",
       "      <td>0.01</td>\n",
       "      <td>0.01</td>\n",
       "      <td>0.00</td>\n",
       "      <td>68.000000</td>\n",
       "      <td>66.0</td>\n",
       "      <td>Satisfactory</td>\n",
       "    </tr>\n",
       "    <tr>\n",
       "      <th>29529</th>\n",
       "      <td>2020-06-30</td>\n",
       "      <td>Visakhapatnam</td>\n",
       "      <td>16.640000</td>\n",
       "      <td>49.970000</td>\n",
       "      <td>4.05</td>\n",
       "      <td>29.26</td>\n",
       "      <td>18.80</td>\n",
       "      <td>10.030000</td>\n",
       "      <td>0.52</td>\n",
       "      <td>9.84</td>\n",
       "      <td>28.30</td>\n",
       "      <td>0.00</td>\n",
       "      <td>0.00</td>\n",
       "      <td>0.00</td>\n",
       "      <td>54.000000</td>\n",
       "      <td>50.0</td>\n",
       "      <td>Good</td>\n",
       "    </tr>\n",
       "    <tr>\n",
       "      <th>29530</th>\n",
       "      <td>2020-07-01</td>\n",
       "      <td>Visakhapatnam</td>\n",
       "      <td>15.000000</td>\n",
       "      <td>66.000000</td>\n",
       "      <td>0.40</td>\n",
       "      <td>26.85</td>\n",
       "      <td>14.05</td>\n",
       "      <td>5.200000</td>\n",
       "      <td>0.59</td>\n",
       "      <td>2.10</td>\n",
       "      <td>17.05</td>\n",
       "      <td>0.00</td>\n",
       "      <td>0.00</td>\n",
       "      <td>0.00</td>\n",
       "      <td>50.000000</td>\n",
       "      <td>66.0</td>\n",
       "      <td>Satisfactory</td>\n",
       "    </tr>\n",
       "  </tbody>\n",
       "</table>\n",
       "<p>29531 rows × 17 columns</p>\n",
       "</div>"
      ],
      "text/plain": [
       "             Date           City       PM2.5        PM10     NO    NO2    NOx  \\\n",
       "0      2015-01-01      Ahmedabad   25.338390  137.843241   0.92  18.22  17.15   \n",
       "1      2015-01-02      Ahmedabad   25.568675  144.263876   0.97  15.69  16.46   \n",
       "2      2015-01-03      Ahmedabad  115.057620  165.891366  17.40  19.30  29.70   \n",
       "3      2015-01-04      Ahmedabad   39.372665  184.350858   1.70  18.48  17.97   \n",
       "4      2015-01-05      Ahmedabad  158.694621  216.522624  22.10  21.42  37.76   \n",
       "...           ...            ...         ...         ...    ...    ...    ...   \n",
       "29526  2020-06-27  Visakhapatnam   15.020000   50.940000   7.68  25.06  19.54   \n",
       "29527  2020-06-28  Visakhapatnam   24.380000   74.090000   3.42  26.06  16.53   \n",
       "29528  2020-06-29  Visakhapatnam   22.910000   65.730000   3.45  29.53  18.33   \n",
       "29529  2020-06-30  Visakhapatnam   16.640000   49.970000   4.05  29.26  18.80   \n",
       "29530  2020-07-01  Visakhapatnam   15.000000   66.000000   0.40  26.85  14.05   \n",
       "\n",
       "             NH3     CO    SO2      O3  Benzene  Toluene  Xylene         AQI  \\\n",
       "0      10.058427   0.92  27.64  133.36     0.00     0.02    0.00  120.025927   \n",
       "1       9.723427   0.97  24.55   34.06     3.68     5.50    3.77  130.791651   \n",
       "2       8.948120  17.40  29.07   30.70     6.80    16.40    2.25  344.272735   \n",
       "3      11.393357   1.70  18.59   36.08     4.43    10.14    1.00  146.963405   \n",
       "4       9.030260  22.10  39.33   39.31     7.01    18.89    2.78  390.145889   \n",
       "...          ...    ...    ...     ...      ...      ...     ...         ...   \n",
       "29526  12.470000   0.47   8.55   23.30     2.24    12.07    0.73   41.000000   \n",
       "29527  11.990000   0.52  12.72   30.14     0.74     2.21    0.38   70.000000   \n",
       "29528  10.710000   0.48   8.42   30.96     0.01     0.01    0.00   68.000000   \n",
       "29529  10.030000   0.52   9.84   28.30     0.00     0.00    0.00   54.000000   \n",
       "29530   5.200000   0.59   2.10   17.05     0.00     0.00    0.00   50.000000   \n",
       "\n",
       "       AQI_calculated    AQI_bucket  \n",
       "0               138.0      Moderate  \n",
       "1               144.0      Moderate  \n",
       "2               166.0      Moderate  \n",
       "3               184.0      Moderate  \n",
       "4               217.0          Poor  \n",
       "...               ...           ...  \n",
       "29526            51.0  Satisfactory  \n",
       "29527            74.0  Satisfactory  \n",
       "29528            66.0  Satisfactory  \n",
       "29529            50.0          Good  \n",
       "29530            66.0  Satisfactory  \n",
       "\n",
       "[29531 rows x 17 columns]"
      ]
     },
     "execution_count": 22,
     "metadata": {},
     "output_type": "execute_result"
    }
   ],
   "source": [
    "dc"
   ]
  },
  {
   "cell_type": "code",
   "execution_count": 23,
   "id": "eda54f97",
   "metadata": {
    "scrolled": true
   },
   "outputs": [],
   "source": [
    "dc.drop([\"AQI\"],axis=1,inplace=True) #drop old AQI,since 2 columns are there.\n"
   ]
  },
  {
   "cell_type": "code",
   "execution_count": 24,
   "id": "deb6bfa9",
   "metadata": {},
   "outputs": [],
   "source": [
    "dc.rename(columns = {'AQI_calculated':'AQI'}, inplace = True) #renaming name\n",
    "dc=dc.round(2) #doing round off."
   ]
  },
  {
   "cell_type": "code",
   "execution_count": 25,
   "id": "ece1b175",
   "metadata": {},
   "outputs": [],
   "source": [
    "dc=dc.set_index(dc[\"Date\"]).drop(\"Date\",1)  #setting date as index\n"
   ]
  },
  {
   "cell_type": "code",
   "execution_count": 26,
   "id": "482b61e5",
   "metadata": {},
   "outputs": [
    {
     "data": {
      "text/html": [
       "<div>\n",
       "<style scoped>\n",
       "    .dataframe tbody tr th:only-of-type {\n",
       "        vertical-align: middle;\n",
       "    }\n",
       "\n",
       "    .dataframe tbody tr th {\n",
       "        vertical-align: top;\n",
       "    }\n",
       "\n",
       "    .dataframe thead th {\n",
       "        text-align: right;\n",
       "    }\n",
       "</style>\n",
       "<table border=\"1\" class=\"dataframe\">\n",
       "  <thead>\n",
       "    <tr style=\"text-align: right;\">\n",
       "      <th></th>\n",
       "      <th>City</th>\n",
       "      <th>PM2.5</th>\n",
       "      <th>PM10</th>\n",
       "      <th>NO</th>\n",
       "      <th>NO2</th>\n",
       "      <th>NOx</th>\n",
       "      <th>NH3</th>\n",
       "      <th>CO</th>\n",
       "      <th>SO2</th>\n",
       "      <th>O3</th>\n",
       "      <th>Benzene</th>\n",
       "      <th>Toluene</th>\n",
       "      <th>Xylene</th>\n",
       "      <th>AQI</th>\n",
       "      <th>AQI_bucket</th>\n",
       "    </tr>\n",
       "    <tr>\n",
       "      <th>Date</th>\n",
       "      <th></th>\n",
       "      <th></th>\n",
       "      <th></th>\n",
       "      <th></th>\n",
       "      <th></th>\n",
       "      <th></th>\n",
       "      <th></th>\n",
       "      <th></th>\n",
       "      <th></th>\n",
       "      <th></th>\n",
       "      <th></th>\n",
       "      <th></th>\n",
       "      <th></th>\n",
       "      <th></th>\n",
       "      <th></th>\n",
       "    </tr>\n",
       "  </thead>\n",
       "  <tbody>\n",
       "    <tr>\n",
       "      <th>2015-01-01</th>\n",
       "      <td>Ahmedabad</td>\n",
       "      <td>25.34</td>\n",
       "      <td>137.84</td>\n",
       "      <td>0.92</td>\n",
       "      <td>18.22</td>\n",
       "      <td>17.15</td>\n",
       "      <td>10.06</td>\n",
       "      <td>0.92</td>\n",
       "      <td>27.64</td>\n",
       "      <td>133.36</td>\n",
       "      <td>0.00</td>\n",
       "      <td>0.02</td>\n",
       "      <td>0.00</td>\n",
       "      <td>138.0</td>\n",
       "      <td>Moderate</td>\n",
       "    </tr>\n",
       "    <tr>\n",
       "      <th>2015-01-02</th>\n",
       "      <td>Ahmedabad</td>\n",
       "      <td>25.57</td>\n",
       "      <td>144.26</td>\n",
       "      <td>0.97</td>\n",
       "      <td>15.69</td>\n",
       "      <td>16.46</td>\n",
       "      <td>9.72</td>\n",
       "      <td>0.97</td>\n",
       "      <td>24.55</td>\n",
       "      <td>34.06</td>\n",
       "      <td>3.68</td>\n",
       "      <td>5.50</td>\n",
       "      <td>3.77</td>\n",
       "      <td>144.0</td>\n",
       "      <td>Moderate</td>\n",
       "    </tr>\n",
       "    <tr>\n",
       "      <th>2015-01-03</th>\n",
       "      <td>Ahmedabad</td>\n",
       "      <td>115.06</td>\n",
       "      <td>165.89</td>\n",
       "      <td>17.40</td>\n",
       "      <td>19.30</td>\n",
       "      <td>29.70</td>\n",
       "      <td>8.95</td>\n",
       "      <td>17.40</td>\n",
       "      <td>29.07</td>\n",
       "      <td>30.70</td>\n",
       "      <td>6.80</td>\n",
       "      <td>16.40</td>\n",
       "      <td>2.25</td>\n",
       "      <td>166.0</td>\n",
       "      <td>Moderate</td>\n",
       "    </tr>\n",
       "    <tr>\n",
       "      <th>2015-01-04</th>\n",
       "      <td>Ahmedabad</td>\n",
       "      <td>39.37</td>\n",
       "      <td>184.35</td>\n",
       "      <td>1.70</td>\n",
       "      <td>18.48</td>\n",
       "      <td>17.97</td>\n",
       "      <td>11.39</td>\n",
       "      <td>1.70</td>\n",
       "      <td>18.59</td>\n",
       "      <td>36.08</td>\n",
       "      <td>4.43</td>\n",
       "      <td>10.14</td>\n",
       "      <td>1.00</td>\n",
       "      <td>184.0</td>\n",
       "      <td>Moderate</td>\n",
       "    </tr>\n",
       "    <tr>\n",
       "      <th>2015-01-05</th>\n",
       "      <td>Ahmedabad</td>\n",
       "      <td>158.69</td>\n",
       "      <td>216.52</td>\n",
       "      <td>22.10</td>\n",
       "      <td>21.42</td>\n",
       "      <td>37.76</td>\n",
       "      <td>9.03</td>\n",
       "      <td>22.10</td>\n",
       "      <td>39.33</td>\n",
       "      <td>39.31</td>\n",
       "      <td>7.01</td>\n",
       "      <td>18.89</td>\n",
       "      <td>2.78</td>\n",
       "      <td>217.0</td>\n",
       "      <td>Poor</td>\n",
       "    </tr>\n",
       "    <tr>\n",
       "      <th>...</th>\n",
       "      <td>...</td>\n",
       "      <td>...</td>\n",
       "      <td>...</td>\n",
       "      <td>...</td>\n",
       "      <td>...</td>\n",
       "      <td>...</td>\n",
       "      <td>...</td>\n",
       "      <td>...</td>\n",
       "      <td>...</td>\n",
       "      <td>...</td>\n",
       "      <td>...</td>\n",
       "      <td>...</td>\n",
       "      <td>...</td>\n",
       "      <td>...</td>\n",
       "      <td>...</td>\n",
       "    </tr>\n",
       "    <tr>\n",
       "      <th>2020-06-27</th>\n",
       "      <td>Visakhapatnam</td>\n",
       "      <td>15.02</td>\n",
       "      <td>50.94</td>\n",
       "      <td>7.68</td>\n",
       "      <td>25.06</td>\n",
       "      <td>19.54</td>\n",
       "      <td>12.47</td>\n",
       "      <td>0.47</td>\n",
       "      <td>8.55</td>\n",
       "      <td>23.30</td>\n",
       "      <td>2.24</td>\n",
       "      <td>12.07</td>\n",
       "      <td>0.73</td>\n",
       "      <td>51.0</td>\n",
       "      <td>Satisfactory</td>\n",
       "    </tr>\n",
       "    <tr>\n",
       "      <th>2020-06-28</th>\n",
       "      <td>Visakhapatnam</td>\n",
       "      <td>24.38</td>\n",
       "      <td>74.09</td>\n",
       "      <td>3.42</td>\n",
       "      <td>26.06</td>\n",
       "      <td>16.53</td>\n",
       "      <td>11.99</td>\n",
       "      <td>0.52</td>\n",
       "      <td>12.72</td>\n",
       "      <td>30.14</td>\n",
       "      <td>0.74</td>\n",
       "      <td>2.21</td>\n",
       "      <td>0.38</td>\n",
       "      <td>74.0</td>\n",
       "      <td>Satisfactory</td>\n",
       "    </tr>\n",
       "    <tr>\n",
       "      <th>2020-06-29</th>\n",
       "      <td>Visakhapatnam</td>\n",
       "      <td>22.91</td>\n",
       "      <td>65.73</td>\n",
       "      <td>3.45</td>\n",
       "      <td>29.53</td>\n",
       "      <td>18.33</td>\n",
       "      <td>10.71</td>\n",
       "      <td>0.48</td>\n",
       "      <td>8.42</td>\n",
       "      <td>30.96</td>\n",
       "      <td>0.01</td>\n",
       "      <td>0.01</td>\n",
       "      <td>0.00</td>\n",
       "      <td>66.0</td>\n",
       "      <td>Satisfactory</td>\n",
       "    </tr>\n",
       "    <tr>\n",
       "      <th>2020-06-30</th>\n",
       "      <td>Visakhapatnam</td>\n",
       "      <td>16.64</td>\n",
       "      <td>49.97</td>\n",
       "      <td>4.05</td>\n",
       "      <td>29.26</td>\n",
       "      <td>18.80</td>\n",
       "      <td>10.03</td>\n",
       "      <td>0.52</td>\n",
       "      <td>9.84</td>\n",
       "      <td>28.30</td>\n",
       "      <td>0.00</td>\n",
       "      <td>0.00</td>\n",
       "      <td>0.00</td>\n",
       "      <td>50.0</td>\n",
       "      <td>Good</td>\n",
       "    </tr>\n",
       "    <tr>\n",
       "      <th>2020-07-01</th>\n",
       "      <td>Visakhapatnam</td>\n",
       "      <td>15.00</td>\n",
       "      <td>66.00</td>\n",
       "      <td>0.40</td>\n",
       "      <td>26.85</td>\n",
       "      <td>14.05</td>\n",
       "      <td>5.20</td>\n",
       "      <td>0.59</td>\n",
       "      <td>2.10</td>\n",
       "      <td>17.05</td>\n",
       "      <td>0.00</td>\n",
       "      <td>0.00</td>\n",
       "      <td>0.00</td>\n",
       "      <td>66.0</td>\n",
       "      <td>Satisfactory</td>\n",
       "    </tr>\n",
       "  </tbody>\n",
       "</table>\n",
       "<p>29531 rows × 15 columns</p>\n",
       "</div>"
      ],
      "text/plain": [
       "                     City   PM2.5    PM10     NO    NO2    NOx    NH3     CO  \\\n",
       "Date                                                                           \n",
       "2015-01-01      Ahmedabad   25.34  137.84   0.92  18.22  17.15  10.06   0.92   \n",
       "2015-01-02      Ahmedabad   25.57  144.26   0.97  15.69  16.46   9.72   0.97   \n",
       "2015-01-03      Ahmedabad  115.06  165.89  17.40  19.30  29.70   8.95  17.40   \n",
       "2015-01-04      Ahmedabad   39.37  184.35   1.70  18.48  17.97  11.39   1.70   \n",
       "2015-01-05      Ahmedabad  158.69  216.52  22.10  21.42  37.76   9.03  22.10   \n",
       "...                   ...     ...     ...    ...    ...    ...    ...    ...   \n",
       "2020-06-27  Visakhapatnam   15.02   50.94   7.68  25.06  19.54  12.47   0.47   \n",
       "2020-06-28  Visakhapatnam   24.38   74.09   3.42  26.06  16.53  11.99   0.52   \n",
       "2020-06-29  Visakhapatnam   22.91   65.73   3.45  29.53  18.33  10.71   0.48   \n",
       "2020-06-30  Visakhapatnam   16.64   49.97   4.05  29.26  18.80  10.03   0.52   \n",
       "2020-07-01  Visakhapatnam   15.00   66.00   0.40  26.85  14.05   5.20   0.59   \n",
       "\n",
       "              SO2      O3  Benzene  Toluene  Xylene    AQI    AQI_bucket  \n",
       "Date                                                                      \n",
       "2015-01-01  27.64  133.36     0.00     0.02    0.00  138.0      Moderate  \n",
       "2015-01-02  24.55   34.06     3.68     5.50    3.77  144.0      Moderate  \n",
       "2015-01-03  29.07   30.70     6.80    16.40    2.25  166.0      Moderate  \n",
       "2015-01-04  18.59   36.08     4.43    10.14    1.00  184.0      Moderate  \n",
       "2015-01-05  39.33   39.31     7.01    18.89    2.78  217.0          Poor  \n",
       "...           ...     ...      ...      ...     ...    ...           ...  \n",
       "2020-06-27   8.55   23.30     2.24    12.07    0.73   51.0  Satisfactory  \n",
       "2020-06-28  12.72   30.14     0.74     2.21    0.38   74.0  Satisfactory  \n",
       "2020-06-29   8.42   30.96     0.01     0.01    0.00   66.0  Satisfactory  \n",
       "2020-06-30   9.84   28.30     0.00     0.00    0.00   50.0          Good  \n",
       "2020-07-01   2.10   17.05     0.00     0.00    0.00   66.0  Satisfactory  \n",
       "\n",
       "[29531 rows x 15 columns]"
      ]
     },
     "execution_count": 26,
     "metadata": {},
     "output_type": "execute_result"
    }
   ],
   "source": [
    "dc"
   ]
  },
  {
   "cell_type": "code",
   "execution_count": 27,
   "id": "ec66639a",
   "metadata": {},
   "outputs": [],
   "source": [
    "dc.to_csv(r\"D:\\python_lectures\\Techstack/City.csv\")   #saving clean data as new data"
   ]
  },
  {
   "cell_type": "code",
   "execution_count": 28,
   "id": "8f700f46",
   "metadata": {},
   "outputs": [],
   "source": [
    "df=pd.read_csv(\"City.csv\",index_col=\"Date\",parse_dates=True).sort_values(by = ['Date', 'City']) #reading new data"
   ]
  },
  {
   "cell_type": "code",
   "execution_count": 29,
   "id": "63022884",
   "metadata": {},
   "outputs": [
    {
     "data": {
      "text/html": [
       "<div>\n",
       "<style scoped>\n",
       "    .dataframe tbody tr th:only-of-type {\n",
       "        vertical-align: middle;\n",
       "    }\n",
       "\n",
       "    .dataframe tbody tr th {\n",
       "        vertical-align: top;\n",
       "    }\n",
       "\n",
       "    .dataframe thead th {\n",
       "        text-align: right;\n",
       "    }\n",
       "</style>\n",
       "<table border=\"1\" class=\"dataframe\">\n",
       "  <thead>\n",
       "    <tr style=\"text-align: right;\">\n",
       "      <th></th>\n",
       "      <th>City</th>\n",
       "      <th>PM2.5</th>\n",
       "      <th>PM10</th>\n",
       "      <th>NO</th>\n",
       "      <th>NO2</th>\n",
       "      <th>NOx</th>\n",
       "      <th>NH3</th>\n",
       "      <th>CO</th>\n",
       "      <th>SO2</th>\n",
       "      <th>O3</th>\n",
       "      <th>Benzene</th>\n",
       "      <th>Toluene</th>\n",
       "      <th>Xylene</th>\n",
       "      <th>AQI</th>\n",
       "      <th>AQI_bucket</th>\n",
       "    </tr>\n",
       "    <tr>\n",
       "      <th>Date</th>\n",
       "      <th></th>\n",
       "      <th></th>\n",
       "      <th></th>\n",
       "      <th></th>\n",
       "      <th></th>\n",
       "      <th></th>\n",
       "      <th></th>\n",
       "      <th></th>\n",
       "      <th></th>\n",
       "      <th></th>\n",
       "      <th></th>\n",
       "      <th></th>\n",
       "      <th></th>\n",
       "      <th></th>\n",
       "      <th></th>\n",
       "    </tr>\n",
       "  </thead>\n",
       "  <tbody>\n",
       "    <tr>\n",
       "      <th>2015-01-01</th>\n",
       "      <td>Ahmedabad</td>\n",
       "      <td>25.34</td>\n",
       "      <td>137.84</td>\n",
       "      <td>0.92</td>\n",
       "      <td>18.22</td>\n",
       "      <td>17.15</td>\n",
       "      <td>10.06</td>\n",
       "      <td>0.92</td>\n",
       "      <td>27.64</td>\n",
       "      <td>133.36</td>\n",
       "      <td>0.00</td>\n",
       "      <td>0.02</td>\n",
       "      <td>0.00</td>\n",
       "      <td>138.0</td>\n",
       "      <td>Moderate</td>\n",
       "    </tr>\n",
       "    <tr>\n",
       "      <th>2015-01-01</th>\n",
       "      <td>Bengaluru</td>\n",
       "      <td>33.95</td>\n",
       "      <td>37.71</td>\n",
       "      <td>3.26</td>\n",
       "      <td>17.33</td>\n",
       "      <td>10.88</td>\n",
       "      <td>20.36</td>\n",
       "      <td>0.33</td>\n",
       "      <td>3.54</td>\n",
       "      <td>10.73</td>\n",
       "      <td>0.56</td>\n",
       "      <td>4.64</td>\n",
       "      <td>0.07</td>\n",
       "      <td>38.0</td>\n",
       "      <td>Good</td>\n",
       "    </tr>\n",
       "    <tr>\n",
       "      <th>2015-01-01</th>\n",
       "      <td>Chennai</td>\n",
       "      <td>34.20</td>\n",
       "      <td>58.70</td>\n",
       "      <td>16.30</td>\n",
       "      <td>15.39</td>\n",
       "      <td>22.68</td>\n",
       "      <td>4.59</td>\n",
       "      <td>1.17</td>\n",
       "      <td>9.20</td>\n",
       "      <td>11.35</td>\n",
       "      <td>0.17</td>\n",
       "      <td>0.00</td>\n",
       "      <td>0.00</td>\n",
       "      <td>59.0</td>\n",
       "      <td>Satisfactory</td>\n",
       "    </tr>\n",
       "    <tr>\n",
       "      <th>2015-01-01</th>\n",
       "      <td>Delhi</td>\n",
       "      <td>313.22</td>\n",
       "      <td>607.98</td>\n",
       "      <td>69.16</td>\n",
       "      <td>36.39</td>\n",
       "      <td>110.59</td>\n",
       "      <td>33.85</td>\n",
       "      <td>15.20</td>\n",
       "      <td>9.25</td>\n",
       "      <td>41.68</td>\n",
       "      <td>14.36</td>\n",
       "      <td>24.86</td>\n",
       "      <td>9.84</td>\n",
       "      <td>608.0</td>\n",
       "      <td>Severe</td>\n",
       "    </tr>\n",
       "    <tr>\n",
       "      <th>2015-01-01</th>\n",
       "      <td>Lucknow</td>\n",
       "      <td>58.73</td>\n",
       "      <td>63.99</td>\n",
       "      <td>2.11</td>\n",
       "      <td>13.46</td>\n",
       "      <td>4.57</td>\n",
       "      <td>9.49</td>\n",
       "      <td>12.15</td>\n",
       "      <td>169.57</td>\n",
       "      <td>25.92</td>\n",
       "      <td>1.35</td>\n",
       "      <td>3.93</td>\n",
       "      <td>0.00</td>\n",
       "      <td>170.0</td>\n",
       "      <td>Moderate</td>\n",
       "    </tr>\n",
       "    <tr>\n",
       "      <th>...</th>\n",
       "      <td>...</td>\n",
       "      <td>...</td>\n",
       "      <td>...</td>\n",
       "      <td>...</td>\n",
       "      <td>...</td>\n",
       "      <td>...</td>\n",
       "      <td>...</td>\n",
       "      <td>...</td>\n",
       "      <td>...</td>\n",
       "      <td>...</td>\n",
       "      <td>...</td>\n",
       "      <td>...</td>\n",
       "      <td>...</td>\n",
       "      <td>...</td>\n",
       "      <td>...</td>\n",
       "    </tr>\n",
       "    <tr>\n",
       "      <th>2020-07-01</th>\n",
       "      <td>Patna</td>\n",
       "      <td>35.42</td>\n",
       "      <td>57.82</td>\n",
       "      <td>44.50</td>\n",
       "      <td>31.15</td>\n",
       "      <td>57.72</td>\n",
       "      <td>1.14</td>\n",
       "      <td>0.82</td>\n",
       "      <td>3.99</td>\n",
       "      <td>25.76</td>\n",
       "      <td>1.73</td>\n",
       "      <td>5.50</td>\n",
       "      <td>2.14</td>\n",
       "      <td>58.0</td>\n",
       "      <td>Satisfactory</td>\n",
       "    </tr>\n",
       "    <tr>\n",
       "      <th>2020-07-01</th>\n",
       "      <td>Shillong</td>\n",
       "      <td>16.70</td>\n",
       "      <td>29.40</td>\n",
       "      <td>0.97</td>\n",
       "      <td>2.70</td>\n",
       "      <td>1.04</td>\n",
       "      <td>2.66</td>\n",
       "      <td>0.10</td>\n",
       "      <td>4.29</td>\n",
       "      <td>17.71</td>\n",
       "      <td>0.00</td>\n",
       "      <td>0.02</td>\n",
       "      <td>0.00</td>\n",
       "      <td>29.0</td>\n",
       "      <td>Good</td>\n",
       "    </tr>\n",
       "    <tr>\n",
       "      <th>2020-07-01</th>\n",
       "      <td>Talcher</td>\n",
       "      <td>24.85</td>\n",
       "      <td>31.06</td>\n",
       "      <td>27.73</td>\n",
       "      <td>29.36</td>\n",
       "      <td>57.09</td>\n",
       "      <td>1.37</td>\n",
       "      <td>1.52</td>\n",
       "      <td>14.42</td>\n",
       "      <td>14.90</td>\n",
       "      <td>0.00</td>\n",
       "      <td>0.00</td>\n",
       "      <td>0.00</td>\n",
       "      <td>57.0</td>\n",
       "      <td>Satisfactory</td>\n",
       "    </tr>\n",
       "    <tr>\n",
       "      <th>2020-07-01</th>\n",
       "      <td>Thiruvananthapuram</td>\n",
       "      <td>2.00</td>\n",
       "      <td>35.00</td>\n",
       "      <td>1.68</td>\n",
       "      <td>2.30</td>\n",
       "      <td>2.58</td>\n",
       "      <td>5.62</td>\n",
       "      <td>0.42</td>\n",
       "      <td>6.15</td>\n",
       "      <td>22.10</td>\n",
       "      <td>0.00</td>\n",
       "      <td>0.00</td>\n",
       "      <td>0.00</td>\n",
       "      <td>35.0</td>\n",
       "      <td>Good</td>\n",
       "    </tr>\n",
       "    <tr>\n",
       "      <th>2020-07-01</th>\n",
       "      <td>Visakhapatnam</td>\n",
       "      <td>15.00</td>\n",
       "      <td>66.00</td>\n",
       "      <td>0.40</td>\n",
       "      <td>26.85</td>\n",
       "      <td>14.05</td>\n",
       "      <td>5.20</td>\n",
       "      <td>0.59</td>\n",
       "      <td>2.10</td>\n",
       "      <td>17.05</td>\n",
       "      <td>0.00</td>\n",
       "      <td>0.00</td>\n",
       "      <td>0.00</td>\n",
       "      <td>66.0</td>\n",
       "      <td>Satisfactory</td>\n",
       "    </tr>\n",
       "  </tbody>\n",
       "</table>\n",
       "<p>29531 rows × 15 columns</p>\n",
       "</div>"
      ],
      "text/plain": [
       "                          City   PM2.5    PM10     NO    NO2     NOx    NH3  \\\n",
       "Date                                                                          \n",
       "2015-01-01           Ahmedabad   25.34  137.84   0.92  18.22   17.15  10.06   \n",
       "2015-01-01           Bengaluru   33.95   37.71   3.26  17.33   10.88  20.36   \n",
       "2015-01-01             Chennai   34.20   58.70  16.30  15.39   22.68   4.59   \n",
       "2015-01-01               Delhi  313.22  607.98  69.16  36.39  110.59  33.85   \n",
       "2015-01-01             Lucknow   58.73   63.99   2.11  13.46    4.57   9.49   \n",
       "...                        ...     ...     ...    ...    ...     ...    ...   \n",
       "2020-07-01               Patna   35.42   57.82  44.50  31.15   57.72   1.14   \n",
       "2020-07-01            Shillong   16.70   29.40   0.97   2.70    1.04   2.66   \n",
       "2020-07-01             Talcher   24.85   31.06  27.73  29.36   57.09   1.37   \n",
       "2020-07-01  Thiruvananthapuram    2.00   35.00   1.68   2.30    2.58   5.62   \n",
       "2020-07-01       Visakhapatnam   15.00   66.00   0.40  26.85   14.05   5.20   \n",
       "\n",
       "               CO     SO2      O3  Benzene  Toluene  Xylene    AQI  \\\n",
       "Date                                                                 \n",
       "2015-01-01   0.92   27.64  133.36     0.00     0.02    0.00  138.0   \n",
       "2015-01-01   0.33    3.54   10.73     0.56     4.64    0.07   38.0   \n",
       "2015-01-01   1.17    9.20   11.35     0.17     0.00    0.00   59.0   \n",
       "2015-01-01  15.20    9.25   41.68    14.36    24.86    9.84  608.0   \n",
       "2015-01-01  12.15  169.57   25.92     1.35     3.93    0.00  170.0   \n",
       "...           ...     ...     ...      ...      ...     ...    ...   \n",
       "2020-07-01   0.82    3.99   25.76     1.73     5.50    2.14   58.0   \n",
       "2020-07-01   0.10    4.29   17.71     0.00     0.02    0.00   29.0   \n",
       "2020-07-01   1.52   14.42   14.90     0.00     0.00    0.00   57.0   \n",
       "2020-07-01   0.42    6.15   22.10     0.00     0.00    0.00   35.0   \n",
       "2020-07-01   0.59    2.10   17.05     0.00     0.00    0.00   66.0   \n",
       "\n",
       "              AQI_bucket  \n",
       "Date                      \n",
       "2015-01-01      Moderate  \n",
       "2015-01-01          Good  \n",
       "2015-01-01  Satisfactory  \n",
       "2015-01-01        Severe  \n",
       "2015-01-01      Moderate  \n",
       "...                  ...  \n",
       "2020-07-01  Satisfactory  \n",
       "2020-07-01          Good  \n",
       "2020-07-01  Satisfactory  \n",
       "2020-07-01          Good  \n",
       "2020-07-01  Satisfactory  \n",
       "\n",
       "[29531 rows x 15 columns]"
      ]
     },
     "execution_count": 29,
     "metadata": {},
     "output_type": "execute_result"
    }
   ],
   "source": [
    "df"
   ]
  },
  {
   "cell_type": "markdown",
   "id": "57ae869f",
   "metadata": {},
   "source": [
    "Now, our data is clean and feature engineering ends here."
   ]
  },
  {
   "cell_type": "markdown",
   "id": "b5d1488a",
   "metadata": {},
   "source": [
    "## EDA: \n",
    "EDA is one of the important step of a model,to get the visualization of the data, we can go through the dasboard attached with this."
   ]
  },
  {
   "cell_type": "markdown",
   "id": "0ef89187",
   "metadata": {},
   "source": [
    "## Analysis"
   ]
  },
  {
   "cell_type": "markdown",
   "id": "31a14c56",
   "metadata": {},
   "source": [
    "After the whole process, we can answer some of the questions from the above dataset.\n",
    "Let's answer the question drawn from the above datasets."
   ]
  },
  {
   "cell_type": "code",
   "execution_count": 30,
   "id": "85d72999",
   "metadata": {},
   "outputs": [
    {
     "data": {
      "text/plain": [
       "<AxesSubplot:ylabel='City'>"
      ]
     },
     "execution_count": 30,
     "metadata": {},
     "output_type": "execute_result"
    },
    {
     "data": {
      "image/png": "[encoded data removed]",
      "text/plain": [
       "<Figure size 864x576 with 1 Axes>"
      ]
     },
     "metadata": {
      "needs_background": "light"
     },
     "output_type": "display_data"
    }
   ],
   "source": [
    "# 5- most polluted states\n",
    "df[['AQI', 'City']].groupby(['City']).median().sort_values(\"AQI\", ascending = True).plot.barh(color=\"r\",figsize=(12,8))\n"
   ]
  },
  {
   "cell_type": "markdown",
   "id": "b05eab87",
   "metadata": {},
   "source": [
    "Hence, it can be concluded that most (5)polluted states are:\n",
    "1. Delhi\n",
    "2. Gurugram\n",
    "3. Mumbai\n",
    "4. Patna\n",
    "5. Lucknow"
   ]
  },
  {
   "cell_type": "code",
   "execution_count": 31,
   "id": "74d4ce4b",
   "metadata": {
    "scrolled": true
   },
   "outputs": [
    {
     "data": {
      "text/plain": [
       "<AxesSubplot:ylabel='City'>"
      ]
     },
     "execution_count": 31,
     "metadata": {},
     "output_type": "execute_result"
    },
    {
     "data": {
      "image/png": "[encoded data removed]",
      "text/plain": [
       "<Figure size 864x576 with 1 Axes>"
      ]
     },
     "metadata": {
      "needs_background": "light"
     },
     "output_type": "display_data"
    }
   ],
   "source": [
    "# 5 cleanest City\n",
    "df[['AQI', 'City']].groupby(['City']).median().sort_values(\"AQI\", ascending = False).plot.barh(color=\"g\",figsize=(12,8))\n"
   ]
  },
  {
   "cell_type": "markdown",
   "id": "030436a3",
   "metadata": {},
   "source": [
    "Top 5 Cities with clean air:\n",
    "1. Aizwal\n",
    "2. Shillong\n",
    "3. Coimbatore\n",
    "4. Ernakulam\n",
    "5. Thiruvanthapuram"
   ]
  },
  {
   "cell_type": "code",
   "execution_count": 32,
   "id": "4d9178fb",
   "metadata": {},
   "outputs": [
    {
     "data": {
      "text/plain": [
       "<AxesSubplot:xlabel='City'>"
      ]
     },
     "execution_count": 32,
     "metadata": {},
     "output_type": "execute_result"
    },
    {
     "data": {
      "image/png": "[encoded data removed]",
      "text/plain": [
       "<Figure size 432x288 with 1 Axes>"
      ]
     },
     "metadata": {
      "needs_background": "light"
     },
     "output_type": "display_data"
    },
    {
     "data": {
      "image/png": "[encoded data removed]",
      "text/plain": [
       "<Figure size 432x288 with 1 Axes>"
      ]
     },
     "metadata": {
      "needs_background": "light"
     },
     "output_type": "display_data"
    },
    {
     "data": {
      "image/png": "[encoded data removed]",
      "text/plain": [
       "<Figure size 432x288 with 1 Axes>"
      ]
     },
     "metadata": {
      "needs_background": "light"
     },
     "output_type": "display_data"
    },
    {
     "data": {
      "image/png": "[encoded data removed]",
      "text/plain": [
       "<Figure size 432x288 with 1 Axes>"
      ]
     },
     "metadata": {
      "needs_background": "light"
     },
     "output_type": "display_data"
    },
    {
     "data": {
      "image/png": "[encoded data removed]",
      "text/plain": [
       "<Figure size 432x288 with 1 Axes>"
      ]
     },
     "metadata": {
      "needs_background": "light"
     },
     "output_type": "display_data"
    }
   ],
   "source": [
    " # Considering the pollutant not used during AQI calculation\n",
    "df[['NO', 'City']].groupby(['City']).median().sort_values(\"NO\", ascending = False).plot.bar(color='brown')\n",
    "df[['NO2', 'City']].groupby(['City']).median().sort_values(\"NO2\", ascending = False).plot.bar(color='purple')\n",
    "df[['Xylene', 'City']].groupby(['City']).median().sort_values(\"Xylene\", ascending = False).plot.bar(color='y')\n",
    "df[['Toluene', 'City']].groupby(['City']).median().sort_values(\"Toluene\", ascending = False).plot.bar(color='r')\n",
    "df[['Benzene', 'City']].groupby(['City']).median().sort_values(\"Benzene\", ascending = False).plot.bar(color='teal')"
   ]
  },
  {
   "cell_type": "markdown",
   "id": "08766c8f",
   "metadata": {},
   "source": [
    "# conclusion:\n",
    "From the above graph, it can be clearly seen that these factors were not used to calculate AQI but still this is affecting the cities to a great extent and the metropolitian capital city are more polluted as compare to other cities."
   ]
  },
  {
   "cell_type": "markdown",
   "id": "94e3d7f4",
   "metadata": {},
   "source": [
    "# Model to give AQI_bucket with health impact"
   ]
  },
  {
   "cell_type": "code",
   "execution_count": 148,
   "id": "5e033997",
   "metadata": {},
   "outputs": [],
   "source": [
    "# importing the file created alreday\n",
    "from aqi import AQI"
   ]
  },
  {
   "cell_type": "code",
   "execution_count": 149,
   "id": "af57ee8b",
   "metadata": {},
   "outputs": [],
   "source": [
    "output=AQI"
   ]
  },
  {
   "cell_type": "code",
   "execution_count": 151,
   "id": "bed2b609",
   "metadata": {},
   "outputs": [
    {
     "name": "stdout",
     "output_type": "stream",
     "text": [
      "Enter AQI: 120\n"
     ]
    },
    {
     "data": {
      "text/plain": [
       "'AQI_bucket=Moderate, May cause breathing discomfort to people with lung disease such as asthma, and discomfort to people with heart disease, children and older adults. It is advised to wear mask for the sensitive people.'"
      ]
     },
     "execution_count": 151,
     "metadata": {},
     "output_type": "execute_result"
    }
   ],
   "source": [
    "AQI=int(input(\"Enter AQI: \"))\n",
    "output.AQI_bucket(AQI)"
   ]
  },
  {
   "cell_type": "markdown",
   "id": "05338978",
   "metadata": {},
   "source": [
    "# Machine Learning Model"
   ]
  },
  {
   "cell_type": "markdown",
   "id": "cc3c52b7",
   "metadata": {},
   "source": [
    "Algorithms are the methods to solve an objective of the datset. Machine learning models are able to evaluate future unknown data and make predictions or future insights. Therefore,which model to deploy depends upon our dataset and objective. "
   ]
  },
  {
   "cell_type": "markdown",
   "id": "f8be501f",
   "metadata": {},
   "source": [
    "We can apply few types of algorithm to get the result:\n",
    "1. Time Series(Most appropriate,since it includes date)\n",
    "2. Random Forest Regression."
   ]
  },
  {
   "cell_type": "markdown",
   "id": "e599ba65",
   "metadata": {},
   "source": [
    "## Random Forest\n",
    "-Prepare your dataset"
   ]
  },
  {
   "cell_type": "code",
   "execution_count": 33,
   "id": "82155dd7",
   "metadata": {},
   "outputs": [],
   "source": [
    "# encoding the whole dateset into numerical form\n",
    "encoder=preprocessing.LabelEncoder()\n",
    "for i in df.columns:\n",
    "    if isinstance(df[i][0],str):\n",
    "        df[i]=encoder.fit_transform(df[i])"
   ]
  },
  {
   "cell_type": "code",
   "execution_count": 34,
   "id": "7be0686d",
   "metadata": {},
   "outputs": [
    {
     "data": {
      "text/html": [
       "<div>\n",
       "<style scoped>\n",
       "    .dataframe tbody tr th:only-of-type {\n",
       "        vertical-align: middle;\n",
       "    }\n",
       "\n",
       "    .dataframe tbody tr th {\n",
       "        vertical-align: top;\n",
       "    }\n",
       "\n",
       "    .dataframe thead th {\n",
       "        text-align: right;\n",
       "    }\n",
       "</style>\n",
       "<table border=\"1\" class=\"dataframe\">\n",
       "  <thead>\n",
       "    <tr style=\"text-align: right;\">\n",
       "      <th></th>\n",
       "      <th>City</th>\n",
       "      <th>PM2.5</th>\n",
       "      <th>PM10</th>\n",
       "      <th>NO</th>\n",
       "      <th>NO2</th>\n",
       "      <th>NOx</th>\n",
       "      <th>NH3</th>\n",
       "      <th>CO</th>\n",
       "      <th>SO2</th>\n",
       "      <th>O3</th>\n",
       "      <th>Benzene</th>\n",
       "      <th>Toluene</th>\n",
       "      <th>Xylene</th>\n",
       "    </tr>\n",
       "    <tr>\n",
       "      <th>Date</th>\n",
       "      <th></th>\n",
       "      <th></th>\n",
       "      <th></th>\n",
       "      <th></th>\n",
       "      <th></th>\n",
       "      <th></th>\n",
       "      <th></th>\n",
       "      <th></th>\n",
       "      <th></th>\n",
       "      <th></th>\n",
       "      <th></th>\n",
       "      <th></th>\n",
       "      <th></th>\n",
       "    </tr>\n",
       "  </thead>\n",
       "  <tbody>\n",
       "    <tr>\n",
       "      <th>2015-01-01</th>\n",
       "      <td>0</td>\n",
       "      <td>25.34</td>\n",
       "      <td>137.84</td>\n",
       "      <td>0.92</td>\n",
       "      <td>18.22</td>\n",
       "      <td>17.15</td>\n",
       "      <td>10.06</td>\n",
       "      <td>0.92</td>\n",
       "      <td>27.64</td>\n",
       "      <td>133.36</td>\n",
       "      <td>0.00</td>\n",
       "      <td>0.02</td>\n",
       "      <td>0.00</td>\n",
       "    </tr>\n",
       "    <tr>\n",
       "      <th>2015-01-01</th>\n",
       "      <td>4</td>\n",
       "      <td>33.95</td>\n",
       "      <td>37.71</td>\n",
       "      <td>3.26</td>\n",
       "      <td>17.33</td>\n",
       "      <td>10.88</td>\n",
       "      <td>20.36</td>\n",
       "      <td>0.33</td>\n",
       "      <td>3.54</td>\n",
       "      <td>10.73</td>\n",
       "      <td>0.56</td>\n",
       "      <td>4.64</td>\n",
       "      <td>0.07</td>\n",
       "    </tr>\n",
       "    <tr>\n",
       "      <th>2015-01-01</th>\n",
       "      <td>8</td>\n",
       "      <td>34.20</td>\n",
       "      <td>58.70</td>\n",
       "      <td>16.30</td>\n",
       "      <td>15.39</td>\n",
       "      <td>22.68</td>\n",
       "      <td>4.59</td>\n",
       "      <td>1.17</td>\n",
       "      <td>9.20</td>\n",
       "      <td>11.35</td>\n",
       "      <td>0.17</td>\n",
       "      <td>0.00</td>\n",
       "      <td>0.00</td>\n",
       "    </tr>\n",
       "    <tr>\n",
       "      <th>2015-01-01</th>\n",
       "      <td>10</td>\n",
       "      <td>313.22</td>\n",
       "      <td>607.98</td>\n",
       "      <td>69.16</td>\n",
       "      <td>36.39</td>\n",
       "      <td>110.59</td>\n",
       "      <td>33.85</td>\n",
       "      <td>15.20</td>\n",
       "      <td>9.25</td>\n",
       "      <td>41.68</td>\n",
       "      <td>14.36</td>\n",
       "      <td>24.86</td>\n",
       "      <td>9.84</td>\n",
       "    </tr>\n",
       "    <tr>\n",
       "      <th>2015-01-01</th>\n",
       "      <td>19</td>\n",
       "      <td>58.73</td>\n",
       "      <td>63.99</td>\n",
       "      <td>2.11</td>\n",
       "      <td>13.46</td>\n",
       "      <td>4.57</td>\n",
       "      <td>9.49</td>\n",
       "      <td>12.15</td>\n",
       "      <td>169.57</td>\n",
       "      <td>25.92</td>\n",
       "      <td>1.35</td>\n",
       "      <td>3.93</td>\n",
       "      <td>0.00</td>\n",
       "    </tr>\n",
       "    <tr>\n",
       "      <th>...</th>\n",
       "      <td>...</td>\n",
       "      <td>...</td>\n",
       "      <td>...</td>\n",
       "      <td>...</td>\n",
       "      <td>...</td>\n",
       "      <td>...</td>\n",
       "      <td>...</td>\n",
       "      <td>...</td>\n",
       "      <td>...</td>\n",
       "      <td>...</td>\n",
       "      <td>...</td>\n",
       "      <td>...</td>\n",
       "      <td>...</td>\n",
       "    </tr>\n",
       "    <tr>\n",
       "      <th>2020-07-01</th>\n",
       "      <td>21</td>\n",
       "      <td>35.42</td>\n",
       "      <td>57.82</td>\n",
       "      <td>44.50</td>\n",
       "      <td>31.15</td>\n",
       "      <td>57.72</td>\n",
       "      <td>1.14</td>\n",
       "      <td>0.82</td>\n",
       "      <td>3.99</td>\n",
       "      <td>25.76</td>\n",
       "      <td>1.73</td>\n",
       "      <td>5.50</td>\n",
       "      <td>2.14</td>\n",
       "    </tr>\n",
       "    <tr>\n",
       "      <th>2020-07-01</th>\n",
       "      <td>22</td>\n",
       "      <td>16.70</td>\n",
       "      <td>29.40</td>\n",
       "      <td>0.97</td>\n",
       "      <td>2.70</td>\n",
       "      <td>1.04</td>\n",
       "      <td>2.66</td>\n",
       "      <td>0.10</td>\n",
       "      <td>4.29</td>\n",
       "      <td>17.71</td>\n",
       "      <td>0.00</td>\n",
       "      <td>0.02</td>\n",
       "      <td>0.00</td>\n",
       "    </tr>\n",
       "    <tr>\n",
       "      <th>2020-07-01</th>\n",
       "      <td>23</td>\n",
       "      <td>24.85</td>\n",
       "      <td>31.06</td>\n",
       "      <td>27.73</td>\n",
       "      <td>29.36</td>\n",
       "      <td>57.09</td>\n",
       "      <td>1.37</td>\n",
       "      <td>1.52</td>\n",
       "      <td>14.42</td>\n",
       "      <td>14.90</td>\n",
       "      <td>0.00</td>\n",
       "      <td>0.00</td>\n",
       "      <td>0.00</td>\n",
       "    </tr>\n",
       "    <tr>\n",
       "      <th>2020-07-01</th>\n",
       "      <td>24</td>\n",
       "      <td>2.00</td>\n",
       "      <td>35.00</td>\n",
       "      <td>1.68</td>\n",
       "      <td>2.30</td>\n",
       "      <td>2.58</td>\n",
       "      <td>5.62</td>\n",
       "      <td>0.42</td>\n",
       "      <td>6.15</td>\n",
       "      <td>22.10</td>\n",
       "      <td>0.00</td>\n",
       "      <td>0.00</td>\n",
       "      <td>0.00</td>\n",
       "    </tr>\n",
       "    <tr>\n",
       "      <th>2020-07-01</th>\n",
       "      <td>25</td>\n",
       "      <td>15.00</td>\n",
       "      <td>66.00</td>\n",
       "      <td>0.40</td>\n",
       "      <td>26.85</td>\n",
       "      <td>14.05</td>\n",
       "      <td>5.20</td>\n",
       "      <td>0.59</td>\n",
       "      <td>2.10</td>\n",
       "      <td>17.05</td>\n",
       "      <td>0.00</td>\n",
       "      <td>0.00</td>\n",
       "      <td>0.00</td>\n",
       "    </tr>\n",
       "  </tbody>\n",
       "</table>\n",
       "<p>29531 rows × 13 columns</p>\n",
       "</div>"
      ],
      "text/plain": [
       "            City   PM2.5    PM10     NO    NO2     NOx    NH3     CO     SO2  \\\n",
       "Date                                                                           \n",
       "2015-01-01     0   25.34  137.84   0.92  18.22   17.15  10.06   0.92   27.64   \n",
       "2015-01-01     4   33.95   37.71   3.26  17.33   10.88  20.36   0.33    3.54   \n",
       "2015-01-01     8   34.20   58.70  16.30  15.39   22.68   4.59   1.17    9.20   \n",
       "2015-01-01    10  313.22  607.98  69.16  36.39  110.59  33.85  15.20    9.25   \n",
       "2015-01-01    19   58.73   63.99   2.11  13.46    4.57   9.49  12.15  169.57   \n",
       "...          ...     ...     ...    ...    ...     ...    ...    ...     ...   \n",
       "2020-07-01    21   35.42   57.82  44.50  31.15   57.72   1.14   0.82    3.99   \n",
       "2020-07-01    22   16.70   29.40   0.97   2.70    1.04   2.66   0.10    4.29   \n",
       "2020-07-01    23   24.85   31.06  27.73  29.36   57.09   1.37   1.52   14.42   \n",
       "2020-07-01    24    2.00   35.00   1.68   2.30    2.58   5.62   0.42    6.15   \n",
       "2020-07-01    25   15.00   66.00   0.40  26.85   14.05   5.20   0.59    2.10   \n",
       "\n",
       "                O3  Benzene  Toluene  Xylene  \n",
       "Date                                          \n",
       "2015-01-01  133.36     0.00     0.02    0.00  \n",
       "2015-01-01   10.73     0.56     4.64    0.07  \n",
       "2015-01-01   11.35     0.17     0.00    0.00  \n",
       "2015-01-01   41.68    14.36    24.86    9.84  \n",
       "2015-01-01   25.92     1.35     3.93    0.00  \n",
       "...            ...      ...      ...     ...  \n",
       "2020-07-01   25.76     1.73     5.50    2.14  \n",
       "2020-07-01   17.71     0.00     0.02    0.00  \n",
       "2020-07-01   14.90     0.00     0.00    0.00  \n",
       "2020-07-01   22.10     0.00     0.00    0.00  \n",
       "2020-07-01   17.05     0.00     0.00    0.00  \n",
       "\n",
       "[29531 rows x 13 columns]"
      ]
     },
     "execution_count": 34,
     "metadata": {},
     "output_type": "execute_result"
    }
   ],
   "source": [
    "df=df.drop([\"AQI_bucket\"],axis=1)   #since,this is dependent upon AQI\n",
    "x=df.drop([\"AQI\"],axis=1)   #preparing independent variables\n",
    "x"
   ]
  },
  {
   "cell_type": "code",
   "execution_count": 35,
   "id": "dce67062",
   "metadata": {},
   "outputs": [],
   "source": [
    "y=df[\"AQI\"]       # dependent variable"
   ]
  },
  {
   "cell_type": "code",
   "execution_count": 36,
   "id": "1117a4d0",
   "metadata": {},
   "outputs": [],
   "source": [
    "# Splitting dataset into train and test\n",
    "x_train,x_test,y_train,y_test=train_test_split(x,y,test_size=0.2)"
   ]
  },
  {
   "cell_type": "code",
   "execution_count": 37,
   "id": "a4058e2b",
   "metadata": {},
   "outputs": [
    {
     "data": {
      "text/plain": [
       "RandomForestRegressor(max_depth=3, max_leaf_nodes=6, min_samples_split=5,\n",
       "                      n_estimators=70)"
      ]
     },
     "execution_count": 37,
     "metadata": {},
     "output_type": "execute_result"
    }
   ],
   "source": [
    "# Fitting algorithm\n",
    "regressor = RandomForestRegressor(max_depth=3,min_samples_split=5,n_estimators=70,max_leaf_nodes=6)   #hypertuned by fixing leaf nodes: by deafault it is none\n",
    "regressor.fit(x_train, y_train)"
   ]
  },
  {
   "cell_type": "code",
   "execution_count": 38,
   "id": "db0a960a",
   "metadata": {},
   "outputs": [],
   "source": [
    "#predicton from the model\n",
    "y_pred=regressor.predict(x_test)"
   ]
  },
  {
   "cell_type": "code",
   "execution_count": 39,
   "id": "2741959f",
   "metadata": {},
   "outputs": [
    {
     "data": {
      "text/plain": [
       "0.8496433031724827"
      ]
     },
     "execution_count": 39,
     "metadata": {},
     "output_type": "execute_result"
    }
   ],
   "source": [
    "regressor.score(x_test,y_test) #check th score of the model"
   ]
  },
  {
   "cell_type": "markdown",
   "id": "ee84e929",
   "metadata": {},
   "source": [
    "# RMSE\n",
    "Calculating the rmse of our data set, to know about our model."
   ]
  },
  {
   "cell_type": "code",
   "execution_count": 40,
   "id": "1daf2f12",
   "metadata": {},
   "outputs": [],
   "source": [
    "from sklearn.metrics import mean_squared_error"
   ]
  },
  {
   "cell_type": "code",
   "execution_count": 41,
   "id": "e0f67fcd",
   "metadata": {},
   "outputs": [
    {
     "data": {
      "text/plain": [
       "34.611538863036195"
      ]
     },
     "execution_count": 41,
     "metadata": {},
     "output_type": "execute_result"
    }
   ],
   "source": [
    "np.sqrt(mean_squared_error(y_test,y_pred))"
   ]
  },
  {
   "cell_type": "markdown",
   "id": "29fe1c0f",
   "metadata": {},
   "source": [
    "To know, whether RMSE is good or not, we need to be aware about the range of our test data."
   ]
  },
  {
   "cell_type": "code",
   "execution_count": 42,
   "id": "a82dabca",
   "metadata": {},
   "outputs": [
    {
     "data": {
      "text/plain": [
       "1000.0"
      ]
     },
     "execution_count": 42,
     "metadata": {},
     "output_type": "execute_result"
    }
   ],
   "source": [
    "y.max()"
   ]
  },
  {
   "cell_type": "code",
   "execution_count": 43,
   "id": "ccbe291a",
   "metadata": {},
   "outputs": [
    {
     "data": {
      "text/plain": [
       "8.0"
      ]
     },
     "execution_count": 43,
     "metadata": {},
     "output_type": "execute_result"
    }
   ],
   "source": [
    "y.min()"
   ]
  },
  {
   "cell_type": "code",
   "execution_count": 44,
   "id": "ff31da20",
   "metadata": {},
   "outputs": [
    {
     "data": {
      "text/plain": [
       "count    29531.000000\n",
       "mean       130.099048\n",
       "std         86.522079\n",
       "min          8.000000\n",
       "25%         71.000000\n",
       "50%        113.000000\n",
       "75%        161.000000\n",
       "max       1000.000000\n",
       "Name: AQI, dtype: float64"
      ]
     },
     "execution_count": 44,
     "metadata": {},
     "output_type": "execute_result"
    }
   ],
   "source": [
    "y.describe()"
   ]
  },
  {
   "cell_type": "markdown",
   "id": "95ba592c",
   "metadata": {},
   "source": [
    "Hence, we can see RMSE is smaller than the range.So, the model is not bad."
   ]
  },
  {
   "cell_type": "markdown",
   "id": "dc5883aa",
   "metadata": {},
   "source": [
    "# Time Series"
   ]
  },
  {
   "cell_type": "code",
   "execution_count": 45,
   "id": "dc694550",
   "metadata": {},
   "outputs": [
    {
     "data": {
      "text/html": [
       "<div>\n",
       "<style scoped>\n",
       "    .dataframe tbody tr th:only-of-type {\n",
       "        vertical-align: middle;\n",
       "    }\n",
       "\n",
       "    .dataframe tbody tr th {\n",
       "        vertical-align: top;\n",
       "    }\n",
       "\n",
       "    .dataframe thead th {\n",
       "        text-align: right;\n",
       "    }\n",
       "</style>\n",
       "<table border=\"1\" class=\"dataframe\">\n",
       "  <thead>\n",
       "    <tr style=\"text-align: right;\">\n",
       "      <th></th>\n",
       "      <th>City</th>\n",
       "      <th>PM2.5</th>\n",
       "      <th>PM10</th>\n",
       "      <th>NO</th>\n",
       "      <th>NO2</th>\n",
       "      <th>NOx</th>\n",
       "      <th>NH3</th>\n",
       "      <th>CO</th>\n",
       "      <th>SO2</th>\n",
       "      <th>O3</th>\n",
       "      <th>Benzene</th>\n",
       "      <th>Toluene</th>\n",
       "      <th>Xylene</th>\n",
       "      <th>AQI</th>\n",
       "    </tr>\n",
       "    <tr>\n",
       "      <th>Date</th>\n",
       "      <th></th>\n",
       "      <th></th>\n",
       "      <th></th>\n",
       "      <th></th>\n",
       "      <th></th>\n",
       "      <th></th>\n",
       "      <th></th>\n",
       "      <th></th>\n",
       "      <th></th>\n",
       "      <th></th>\n",
       "      <th></th>\n",
       "      <th></th>\n",
       "      <th></th>\n",
       "      <th></th>\n",
       "    </tr>\n",
       "  </thead>\n",
       "  <tbody>\n",
       "    <tr>\n",
       "      <th>2015-01-01</th>\n",
       "      <td>0</td>\n",
       "      <td>25.34</td>\n",
       "      <td>137.84</td>\n",
       "      <td>0.92</td>\n",
       "      <td>18.22</td>\n",
       "      <td>17.15</td>\n",
       "      <td>10.06</td>\n",
       "      <td>0.92</td>\n",
       "      <td>27.64</td>\n",
       "      <td>133.36</td>\n",
       "      <td>0.00</td>\n",
       "      <td>0.02</td>\n",
       "      <td>0.00</td>\n",
       "      <td>138.0</td>\n",
       "    </tr>\n",
       "    <tr>\n",
       "      <th>2015-01-01</th>\n",
       "      <td>4</td>\n",
       "      <td>33.95</td>\n",
       "      <td>37.71</td>\n",
       "      <td>3.26</td>\n",
       "      <td>17.33</td>\n",
       "      <td>10.88</td>\n",
       "      <td>20.36</td>\n",
       "      <td>0.33</td>\n",
       "      <td>3.54</td>\n",
       "      <td>10.73</td>\n",
       "      <td>0.56</td>\n",
       "      <td>4.64</td>\n",
       "      <td>0.07</td>\n",
       "      <td>38.0</td>\n",
       "    </tr>\n",
       "    <tr>\n",
       "      <th>2015-01-01</th>\n",
       "      <td>8</td>\n",
       "      <td>34.20</td>\n",
       "      <td>58.70</td>\n",
       "      <td>16.30</td>\n",
       "      <td>15.39</td>\n",
       "      <td>22.68</td>\n",
       "      <td>4.59</td>\n",
       "      <td>1.17</td>\n",
       "      <td>9.20</td>\n",
       "      <td>11.35</td>\n",
       "      <td>0.17</td>\n",
       "      <td>0.00</td>\n",
       "      <td>0.00</td>\n",
       "      <td>59.0</td>\n",
       "    </tr>\n",
       "    <tr>\n",
       "      <th>2015-01-01</th>\n",
       "      <td>10</td>\n",
       "      <td>313.22</td>\n",
       "      <td>607.98</td>\n",
       "      <td>69.16</td>\n",
       "      <td>36.39</td>\n",
       "      <td>110.59</td>\n",
       "      <td>33.85</td>\n",
       "      <td>15.20</td>\n",
       "      <td>9.25</td>\n",
       "      <td>41.68</td>\n",
       "      <td>14.36</td>\n",
       "      <td>24.86</td>\n",
       "      <td>9.84</td>\n",
       "      <td>608.0</td>\n",
       "    </tr>\n",
       "    <tr>\n",
       "      <th>2015-01-01</th>\n",
       "      <td>19</td>\n",
       "      <td>58.73</td>\n",
       "      <td>63.99</td>\n",
       "      <td>2.11</td>\n",
       "      <td>13.46</td>\n",
       "      <td>4.57</td>\n",
       "      <td>9.49</td>\n",
       "      <td>12.15</td>\n",
       "      <td>169.57</td>\n",
       "      <td>25.92</td>\n",
       "      <td>1.35</td>\n",
       "      <td>3.93</td>\n",
       "      <td>0.00</td>\n",
       "      <td>170.0</td>\n",
       "    </tr>\n",
       "  </tbody>\n",
       "</table>\n",
       "</div>"
      ],
      "text/plain": [
       "            City   PM2.5    PM10     NO    NO2     NOx    NH3     CO     SO2  \\\n",
       "Date                                                                           \n",
       "2015-01-01     0   25.34  137.84   0.92  18.22   17.15  10.06   0.92   27.64   \n",
       "2015-01-01     4   33.95   37.71   3.26  17.33   10.88  20.36   0.33    3.54   \n",
       "2015-01-01     8   34.20   58.70  16.30  15.39   22.68   4.59   1.17    9.20   \n",
       "2015-01-01    10  313.22  607.98  69.16  36.39  110.59  33.85  15.20    9.25   \n",
       "2015-01-01    19   58.73   63.99   2.11  13.46    4.57   9.49  12.15  169.57   \n",
       "\n",
       "                O3  Benzene  Toluene  Xylene    AQI  \n",
       "Date                                                 \n",
       "2015-01-01  133.36     0.00     0.02    0.00  138.0  \n",
       "2015-01-01   10.73     0.56     4.64    0.07   38.0  \n",
       "2015-01-01   11.35     0.17     0.00    0.00   59.0  \n",
       "2015-01-01   41.68    14.36    24.86    9.84  608.0  \n",
       "2015-01-01   25.92     1.35     3.93    0.00  170.0  "
      ]
     },
     "execution_count": 45,
     "metadata": {},
     "output_type": "execute_result"
    }
   ],
   "source": [
    "df.head(5)"
   ]
  },
  {
   "cell_type": "code",
   "execution_count": 46,
   "id": "de066072",
   "metadata": {},
   "outputs": [
    {
     "name": "stdout",
     "output_type": "stream",
     "text": [
      "<class 'pandas.core.frame.DataFrame'>\n",
      "DatetimeIndex: 29531 entries, 2015-01-01 to 2020-07-01\n",
      "Data columns (total 14 columns):\n",
      " #   Column   Non-Null Count  Dtype  \n",
      "---  ------   --------------  -----  \n",
      " 0   City     29531 non-null  int32  \n",
      " 1   PM2.5    29531 non-null  float64\n",
      " 2   PM10     29531 non-null  float64\n",
      " 3   NO       29531 non-null  float64\n",
      " 4   NO2      29531 non-null  float64\n",
      " 5   NOx      29531 non-null  float64\n",
      " 6   NH3      29531 non-null  float64\n",
      " 7   CO       29531 non-null  float64\n",
      " 8   SO2      29531 non-null  float64\n",
      " 9   O3       29531 non-null  float64\n",
      " 10  Benzene  29531 non-null  float64\n",
      " 11  Toluene  29531 non-null  float64\n",
      " 12  Xylene   29531 non-null  float64\n",
      " 13  AQI      29531 non-null  float64\n",
      "dtypes: float64(13), int32(1)\n",
      "memory usage: 3.3 MB\n"
     ]
    }
   ],
   "source": [
    "df.info()"
   ]
  },
  {
   "cell_type": "code",
   "execution_count": 47,
   "id": "364d9a3e",
   "metadata": {},
   "outputs": [
    {
     "data": {
      "text/html": [
       "<div>\n",
       "<style scoped>\n",
       "    .dataframe tbody tr th:only-of-type {\n",
       "        vertical-align: middle;\n",
       "    }\n",
       "\n",
       "    .dataframe tbody tr th {\n",
       "        vertical-align: top;\n",
       "    }\n",
       "\n",
       "    .dataframe thead th {\n",
       "        text-align: right;\n",
       "    }\n",
       "</style>\n",
       "<table border=\"1\" class=\"dataframe\">\n",
       "  <thead>\n",
       "    <tr style=\"text-align: right;\">\n",
       "      <th></th>\n",
       "      <th>AQI</th>\n",
       "    </tr>\n",
       "    <tr>\n",
       "      <th>Date</th>\n",
       "      <th></th>\n",
       "    </tr>\n",
       "  </thead>\n",
       "  <tbody>\n",
       "    <tr>\n",
       "      <th>2015-01-01</th>\n",
       "      <td>138.0</td>\n",
       "    </tr>\n",
       "    <tr>\n",
       "      <th>2015-01-01</th>\n",
       "      <td>38.0</td>\n",
       "    </tr>\n",
       "    <tr>\n",
       "      <th>2015-01-01</th>\n",
       "      <td>59.0</td>\n",
       "    </tr>\n",
       "    <tr>\n",
       "      <th>2015-01-01</th>\n",
       "      <td>608.0</td>\n",
       "    </tr>\n",
       "    <tr>\n",
       "      <th>2015-01-01</th>\n",
       "      <td>170.0</td>\n",
       "    </tr>\n",
       "    <tr>\n",
       "      <th>...</th>\n",
       "      <td>...</td>\n",
       "    </tr>\n",
       "    <tr>\n",
       "      <th>2020-07-01</th>\n",
       "      <td>58.0</td>\n",
       "    </tr>\n",
       "    <tr>\n",
       "      <th>2020-07-01</th>\n",
       "      <td>29.0</td>\n",
       "    </tr>\n",
       "    <tr>\n",
       "      <th>2020-07-01</th>\n",
       "      <td>57.0</td>\n",
       "    </tr>\n",
       "    <tr>\n",
       "      <th>2020-07-01</th>\n",
       "      <td>35.0</td>\n",
       "    </tr>\n",
       "    <tr>\n",
       "      <th>2020-07-01</th>\n",
       "      <td>66.0</td>\n",
       "    </tr>\n",
       "  </tbody>\n",
       "</table>\n",
       "<p>29531 rows × 1 columns</p>\n",
       "</div>"
      ],
      "text/plain": [
       "              AQI\n",
       "Date             \n",
       "2015-01-01  138.0\n",
       "2015-01-01   38.0\n",
       "2015-01-01   59.0\n",
       "2015-01-01  608.0\n",
       "2015-01-01  170.0\n",
       "...           ...\n",
       "2020-07-01   58.0\n",
       "2020-07-01   29.0\n",
       "2020-07-01   57.0\n",
       "2020-07-01   35.0\n",
       "2020-07-01   66.0\n",
       "\n",
       "[29531 rows x 1 columns]"
      ]
     },
     "execution_count": 47,
     "metadata": {},
     "output_type": "execute_result"
    }
   ],
   "source": [
    "dc=df.drop(df.iloc[:,0:13],axis = 1)\n",
    "dc"
   ]
  },
  {
   "cell_type": "code",
   "execution_count": 53,
   "id": "86496771",
   "metadata": {},
   "outputs": [],
   "source": [
    "df=dc.resample(rule=\"MS\").sum()"
   ]
  },
  {
   "cell_type": "code",
   "execution_count": 54,
   "id": "952dbc9c",
   "metadata": {},
   "outputs": [
    {
     "data": {
      "text/plain": [
       "[<matplotlib.lines.Line2D at 0x1c8adc6aa00>]"
      ]
     },
     "execution_count": 54,
     "metadata": {},
     "output_type": "execute_result"
    },
    {
     "data": {
      "image/png": "[encoded data removed]",
      "text/plain": [
       "<Figure size 1152x576 with 1 Axes>"
      ]
     },
     "metadata": {
      "needs_background": "light"
     },
     "output_type": "display_data"
    }
   ],
   "source": [
    "plt.figure(figsize=(16,8))\n",
    "plt.plot(df)"
   ]
  },
  {
   "cell_type": "code",
   "execution_count": 68,
   "id": "7a8274a3",
   "metadata": {},
   "outputs": [],
   "source": [
    "# Check for Stationarity\n",
    "\n",
    "from statsmodels.tsa.stattools import adfuller\n",
    "\n",
    "def adf_test(x):\n",
    "    dftest = adfuller(x, autolag='AIC')\n",
    "    dfoutput = pd.Series(dftest[0:4], index=['Test Statistic','p-value','#Lags Used','Number of Observations Used'])\n",
    "    for key,value in dftest[4].items():\n",
    "        dfoutput['Critical Value (%s)'%key] = value\n",
    "    print(dfoutput)\n",
    "    \n",
    "    if dftest[1] <= 0.05:\n",
    "        print(\"We reject the null hypothesis; it is stationary.\")\n",
    "    else:\n",
    "        print(\"We accept the null hypothesis; it is seasonal.\")"
   ]
  },
  {
   "cell_type": "code",
   "execution_count": 69,
   "id": "a9eef920",
   "metadata": {},
   "outputs": [
    {
     "name": "stdout",
     "output_type": "stream",
     "text": [
      "Test Statistic                 -1.938493\n",
      "p-value                         0.314175\n",
      "#Lags Used                      9.000000\n",
      "Number of Observations Used    57.000000\n",
      "Critical Value (1%)            -3.550670\n",
      "Critical Value (5%)            -2.913766\n",
      "Critical Value (10%)           -2.594624\n",
      "dtype: float64\n",
      "We accept the null hypothesis; it is seasonal.\n"
     ]
    }
   ],
   "source": [
    "# calling function---> statistical test to check stationarity\n",
    "adf_test(df[\"AQI\"])"
   ]
  },
  {
   "cell_type": "markdown",
   "id": "c9d5e7e0",
   "metadata": {},
   "source": [
    "## Differencing"
   ]
  },
  {
   "cell_type": "code",
   "execution_count": 88,
   "id": "fd854918",
   "metadata": {},
   "outputs": [],
   "source": [
    "df[\"First_difference\"]=df[\"AQI\"]-df[\"AQI\"].shift(1) "
   ]
  },
  {
   "cell_type": "code",
   "execution_count": 89,
   "id": "e178662a",
   "metadata": {},
   "outputs": [
    {
     "data": {
      "text/html": [
       "<div>\n",
       "<style scoped>\n",
       "    .dataframe tbody tr th:only-of-type {\n",
       "        vertical-align: middle;\n",
       "    }\n",
       "\n",
       "    .dataframe tbody tr th {\n",
       "        vertical-align: top;\n",
       "    }\n",
       "\n",
       "    .dataframe thead th {\n",
       "        text-align: right;\n",
       "    }\n",
       "</style>\n",
       "<table border=\"1\" class=\"dataframe\">\n",
       "  <thead>\n",
       "    <tr style=\"text-align: right;\">\n",
       "      <th></th>\n",
       "      <th>AQI</th>\n",
       "      <th>First difference</th>\n",
       "      <th>First_difference</th>\n",
       "    </tr>\n",
       "    <tr>\n",
       "      <th>Date</th>\n",
       "      <th></th>\n",
       "      <th></th>\n",
       "      <th></th>\n",
       "    </tr>\n",
       "  </thead>\n",
       "  <tbody>\n",
       "    <tr>\n",
       "      <th>2015-01-01</th>\n",
       "      <td>36144.0</td>\n",
       "      <td>NaN</td>\n",
       "      <td>NaN</td>\n",
       "    </tr>\n",
       "    <tr>\n",
       "      <th>2015-02-01</th>\n",
       "      <td>31833.0</td>\n",
       "      <td>NaN</td>\n",
       "      <td>-4311.0</td>\n",
       "    </tr>\n",
       "    <tr>\n",
       "      <th>2015-03-01</th>\n",
       "      <td>32751.0</td>\n",
       "      <td>NaN</td>\n",
       "      <td>918.0</td>\n",
       "    </tr>\n",
       "    <tr>\n",
       "      <th>2015-04-01</th>\n",
       "      <td>32133.0</td>\n",
       "      <td>NaN</td>\n",
       "      <td>-618.0</td>\n",
       "    </tr>\n",
       "    <tr>\n",
       "      <th>2015-05-01</th>\n",
       "      <td>32438.0</td>\n",
       "      <td>NaN</td>\n",
       "      <td>305.0</td>\n",
       "    </tr>\n",
       "    <tr>\n",
       "      <th>2015-06-01</th>\n",
       "      <td>27260.0</td>\n",
       "      <td>NaN</td>\n",
       "      <td>-5178.0</td>\n",
       "    </tr>\n",
       "    <tr>\n",
       "      <th>2015-07-01</th>\n",
       "      <td>27538.0</td>\n",
       "      <td>NaN</td>\n",
       "      <td>278.0</td>\n",
       "    </tr>\n",
       "    <tr>\n",
       "      <th>2015-08-01</th>\n",
       "      <td>26805.0</td>\n",
       "      <td>NaN</td>\n",
       "      <td>-733.0</td>\n",
       "    </tr>\n",
       "    <tr>\n",
       "      <th>2015-09-01</th>\n",
       "      <td>26472.0</td>\n",
       "      <td>NaN</td>\n",
       "      <td>-333.0</td>\n",
       "    </tr>\n",
       "    <tr>\n",
       "      <th>2015-10-01</th>\n",
       "      <td>38198.0</td>\n",
       "      <td>NaN</td>\n",
       "      <td>11726.0</td>\n",
       "    </tr>\n",
       "    <tr>\n",
       "      <th>2015-11-01</th>\n",
       "      <td>46490.0</td>\n",
       "      <td>NaN</td>\n",
       "      <td>8292.0</td>\n",
       "    </tr>\n",
       "    <tr>\n",
       "      <th>2015-12-01</th>\n",
       "      <td>52077.0</td>\n",
       "      <td>NaN</td>\n",
       "      <td>5587.0</td>\n",
       "    </tr>\n",
       "    <tr>\n",
       "      <th>2016-01-01</th>\n",
       "      <td>55459.0</td>\n",
       "      <td>19315.0</td>\n",
       "      <td>3382.0</td>\n",
       "    </tr>\n",
       "    <tr>\n",
       "      <th>2016-02-01</th>\n",
       "      <td>41455.0</td>\n",
       "      <td>9622.0</td>\n",
       "      <td>-14004.0</td>\n",
       "    </tr>\n",
       "  </tbody>\n",
       "</table>\n",
       "</div>"
      ],
      "text/plain": [
       "                AQI  First difference  First_difference\n",
       "Date                                                   \n",
       "2015-01-01  36144.0               NaN               NaN\n",
       "2015-02-01  31833.0               NaN           -4311.0\n",
       "2015-03-01  32751.0               NaN             918.0\n",
       "2015-04-01  32133.0               NaN            -618.0\n",
       "2015-05-01  32438.0               NaN             305.0\n",
       "2015-06-01  27260.0               NaN           -5178.0\n",
       "2015-07-01  27538.0               NaN             278.0\n",
       "2015-08-01  26805.0               NaN            -733.0\n",
       "2015-09-01  26472.0               NaN            -333.0\n",
       "2015-10-01  38198.0               NaN           11726.0\n",
       "2015-11-01  46490.0               NaN            8292.0\n",
       "2015-12-01  52077.0               NaN            5587.0\n",
       "2016-01-01  55459.0           19315.0            3382.0\n",
       "2016-02-01  41455.0            9622.0          -14004.0"
      ]
     },
     "execution_count": 89,
     "metadata": {},
     "output_type": "execute_result"
    }
   ],
   "source": [
    "df.head(14)"
   ]
  },
  {
   "cell_type": "code",
   "execution_count": 90,
   "id": "4c758b27",
   "metadata": {},
   "outputs": [
    {
     "name": "stdout",
     "output_type": "stream",
     "text": [
      "Test Statistic                -7.379388e+00\n",
      "p-value                        8.551878e-11\n",
      "#Lags Used                     8.000000e+00\n",
      "Number of Observations Used    5.700000e+01\n",
      "Critical Value (1%)           -3.550670e+00\n",
      "Critical Value (5%)           -2.913766e+00\n",
      "Critical Value (10%)          -2.594624e+00\n",
      "dtype: float64\n",
      "We reject the null hypothesis; it is stationary.\n"
     ]
    }
   ],
   "source": [
    "#Again, test the p-value\n",
    "adf_test(df[\"First_difference\"].dropna())"
   ]
  },
  {
   "cell_type": "code",
   "execution_count": 91,
   "id": "102f8d84",
   "metadata": {},
   "outputs": [
    {
     "data": {
      "text/plain": [
       "<AxesSubplot:xlabel='Date'>"
      ]
     },
     "execution_count": 91,
     "metadata": {},
     "output_type": "execute_result"
    },
    {
     "data": {
      "image/png": "[encoded data removed]",
      "text/plain": [
       "<Figure size 432x288 with 1 Axes>"
      ]
     },
     "metadata": {
      "needs_background": "light"
     },
     "output_type": "display_data"
    }
   ],
   "source": [
    "df[\"First_difference\"].plot()"
   ]
  },
  {
   "cell_type": "code",
   "execution_count": null,
   "id": "56255c48",
   "metadata": {},
   "outputs": [],
   "source": []
  },
  {
   "cell_type": "code",
   "execution_count": 93,
   "id": "f7caaa01",
   "metadata": {},
   "outputs": [
    {
     "data": {
      "image/png": "[encoded data removed]",
      "text/plain": [
       "<Figure size 432x288 with 1 Axes>"
      ]
     },
     "metadata": {
      "needs_background": "light"
     },
     "output_type": "display_data"
    }
   ],
   "source": [
    "from pandas.plotting import autocorrelation_plot\n",
    "autocorrelation_plot(df[\"AQI\"])\n",
    "plt.show()"
   ]
  },
  {
   "cell_type": "code",
   "execution_count": 102,
   "id": "c54bdbec",
   "metadata": {},
   "outputs": [],
   "source": [
    "from statsmodels.tsa.stattools import acf, pacf\n",
    "import statsmodels.api as sm\n",
    "\n"
   ]
  },
  {
   "cell_type": "code",
   "execution_count": 104,
   "id": "749c5389",
   "metadata": {},
   "outputs": [
    {
     "data": {
      "image/png": "[encoded data removed]",
      "text/plain": [
       "<Figure size 864x576 with 1 Axes>"
      ]
     },
     "metadata": {
      "needs_background": "light"
     },
     "output_type": "display_data"
    }
   ],
   "source": [
    "fig=plt.figure(figsize=(12,8))\n",
    "ax1=fig.add_subplot(111)\n",
    "fig=sm.graphics.tsa.plot_pacf(df[\"First_difference\"].dropna(),lags=30,ax=ax1)"
   ]
  },
  {
   "cell_type": "markdown",
   "id": "85cd3766",
   "metadata": {},
   "source": [
    "In the above, it comes down at 2, so p is 2 i.e AR=2"
   ]
  },
  {
   "cell_type": "code",
   "execution_count": 111,
   "id": "c56d9b84",
   "metadata": {},
   "outputs": [
    {
     "data": {
      "image/png": "[encoded data removed]",
      "text/plain": [
       "<Figure size 1152x432 with 1 Axes>"
      ]
     },
     "metadata": {
      "needs_background": "light"
     },
     "output_type": "display_data"
    }
   ],
   "source": [
    "fig=plt.figure(figsize=(16,6))\n",
    "ax2=fig.add_subplot(121)\n",
    "fig=sm.graphics.tsa.plot_acf(df[\"First_difference\"].dropna(),lags=30,ax=ax2)\n"
   ]
  },
  {
   "cell_type": "code",
   "execution_count": 153,
   "id": "e0a3140e",
   "metadata": {},
   "outputs": [
    {
     "data": {
      "text/html": [
       "<table class=\"simpletable\">\n",
       "<caption>SARIMAX Results</caption>\n",
       "<tr>\n",
       "  <th>Dep. Variable:</th>                  <td>y</td>               <th>  No. Observations:  </th>    <td>67</td>   \n",
       "</tr>\n",
       "<tr>\n",
       "  <th>Model:</th>           <td>SARIMAX(0, 1, 0)x(1, 1, 0, 12)</td> <th>  Log Likelihood     </th> <td>-572.993</td>\n",
       "</tr>\n",
       "<tr>\n",
       "  <th>Date:</th>                   <td>Tue, 04 Jan 2022</td>        <th>  AIC                </th> <td>1149.986</td>\n",
       "</tr>\n",
       "<tr>\n",
       "  <th>Time:</th>                       <td>05:46:36</td>            <th>  BIC                </th> <td>1153.964</td>\n",
       "</tr>\n",
       "<tr>\n",
       "  <th>Sample:</th>                         <td>0</td>               <th>  HQIC               </th> <td>1151.520</td>\n",
       "</tr>\n",
       "<tr>\n",
       "  <th></th>                              <td> - 67</td>             <th>                     </th>     <td> </td>   \n",
       "</tr>\n",
       "<tr>\n",
       "  <th>Covariance Type:</th>               <td>opg</td>              <th>                     </th>     <td> </td>   \n",
       "</tr>\n",
       "</table>\n",
       "<table class=\"simpletable\">\n",
       "<tr>\n",
       "      <td></td>        <th>coef</th>     <th>std err</th>      <th>z</th>      <th>P>|z|</th>  <th>[0.025</th>    <th>0.975]</th>  \n",
       "</tr>\n",
       "<tr>\n",
       "  <th>ar.S.L12</th> <td>   -0.3716</td> <td>    0.116</td> <td>   -3.193</td> <td> 0.001</td> <td>   -0.600</td> <td>   -0.143</td>\n",
       "</tr>\n",
       "<tr>\n",
       "  <th>sigma2</th>   <td>  9.84e+07</td> <td> 3.11e-10</td> <td> 3.16e+17</td> <td> 0.000</td> <td> 9.84e+07</td> <td> 9.84e+07</td>\n",
       "</tr>\n",
       "</table>\n",
       "<table class=\"simpletable\">\n",
       "<tr>\n",
       "  <th>Ljung-Box (L1) (Q):</th>     <td>0.37</td> <th>  Jarque-Bera (JB):  </th> <td>34.14</td>\n",
       "</tr>\n",
       "<tr>\n",
       "  <th>Prob(Q):</th>                <td>0.54</td> <th>  Prob(JB):          </th> <td>0.00</td> \n",
       "</tr>\n",
       "<tr>\n",
       "  <th>Heteroskedasticity (H):</th> <td>3.25</td> <th>  Skew:              </th> <td>-1.06</td>\n",
       "</tr>\n",
       "<tr>\n",
       "  <th>Prob(H) (two-sided):</th>    <td>0.02</td> <th>  Kurtosis:          </th> <td>6.26</td> \n",
       "</tr>\n",
       "</table><br/><br/>Warnings:<br/>[1] Covariance matrix calculated using the outer product of gradients (complex-step).<br/>[2] Covariance matrix is singular or near-singular, with condition number    inf. Standard errors may be unstable."
      ],
      "text/plain": [
       "<class 'statsmodels.iolib.summary.Summary'>\n",
       "\"\"\"\n",
       "                                     SARIMAX Results                                      \n",
       "==========================================================================================\n",
       "Dep. Variable:                                  y   No. Observations:                   67\n",
       "Model:             SARIMAX(0, 1, 0)x(1, 1, 0, 12)   Log Likelihood                -572.993\n",
       "Date:                            Tue, 04 Jan 2022   AIC                           1149.986\n",
       "Time:                                    05:46:36   BIC                           1153.964\n",
       "Sample:                                         0   HQIC                          1151.520\n",
       "                                             - 67                                         \n",
       "Covariance Type:                              opg                                         \n",
       "==============================================================================\n",
       "                 coef    std err          z      P>|z|      [0.025      0.975]\n",
       "------------------------------------------------------------------------------\n",
       "ar.S.L12      -0.3716      0.116     -3.193      0.001      -0.600      -0.143\n",
       "sigma2       9.84e+07   3.11e-10   3.16e+17      0.000    9.84e+07    9.84e+07\n",
       "===================================================================================\n",
       "Ljung-Box (L1) (Q):                   0.37   Jarque-Bera (JB):                34.14\n",
       "Prob(Q):                              0.54   Prob(JB):                         0.00\n",
       "Heteroskedasticity (H):               3.25   Skew:                            -1.06\n",
       "Prob(H) (two-sided):                  0.02   Kurtosis:                         6.26\n",
       "===================================================================================\n",
       "\n",
       "Warnings:\n",
       "[1] Covariance matrix calculated using the outer product of gradients (complex-step).\n",
       "[2] Covariance matrix is singular or near-singular, with condition number    inf. Standard errors may be unstable.\n",
       "\"\"\""
      ]
     },
     "execution_count": 153,
     "metadata": {},
     "output_type": "execute_result"
    }
   ],
   "source": [
    "auto_arima(y=df[\"AQI\"],start_p=1,start_P=1,start_q=1,start_Q=1, seasonal=True, m=12, stepwise=True).summary()"
   ]
  },
  {
   "cell_type": "code",
   "execution_count": 154,
   "id": "3f48c2c7",
   "metadata": {},
   "outputs": [],
   "source": [
    "# split it into train and test data\n",
    "train = df[\"AQI\"][:2018-12]\n",
    "test = df[\"AQI\"][2018-12:]"
   ]
  },
  {
   "cell_type": "code",
   "execution_count": 156,
   "id": "ba69ba42",
   "metadata": {},
   "outputs": [],
   "source": [
    "from statsmodels.tsa.statespace import sarimax\n"
   ]
  },
  {
   "cell_type": "code",
   "execution_count": 180,
   "id": "8b0f63e1",
   "metadata": {},
   "outputs": [
    {
     "data": {
      "text/html": [
       "<table class=\"simpletable\">\n",
       "<caption>SARIMAX Results</caption>\n",
       "<tr>\n",
       "  <th>Dep. Variable:</th>                 <td>AQI</td>              <th>  No. Observations:  </th>    <td>67</td>   \n",
       "</tr>\n",
       "<tr>\n",
       "  <th>Model:</th>           <td>SARIMAX(0, 1, 0)x(1, 1, 0, 12)</td> <th>  Log Likelihood     </th> <td>-572.993</td>\n",
       "</tr>\n",
       "<tr>\n",
       "  <th>Date:</th>                   <td>Tue, 04 Jan 2022</td>        <th>  AIC                </th> <td>1149.986</td>\n",
       "</tr>\n",
       "<tr>\n",
       "  <th>Time:</th>                       <td>11:58:17</td>            <th>  BIC                </th> <td>1153.964</td>\n",
       "</tr>\n",
       "<tr>\n",
       "  <th>Sample:</th>                    <td>01-01-2015</td>           <th>  HQIC               </th> <td>1151.520</td>\n",
       "</tr>\n",
       "<tr>\n",
       "  <th></th>                          <td>- 07-01-2020</td>          <th>                     </th>     <td> </td>   \n",
       "</tr>\n",
       "<tr>\n",
       "  <th>Covariance Type:</th>               <td>opg</td>              <th>                     </th>     <td> </td>   \n",
       "</tr>\n",
       "</table>\n",
       "<table class=\"simpletable\">\n",
       "<tr>\n",
       "      <td></td>        <th>coef</th>     <th>std err</th>      <th>z</th>      <th>P>|z|</th>  <th>[0.025</th>    <th>0.975]</th>  \n",
       "</tr>\n",
       "<tr>\n",
       "  <th>ar.S.L12</th> <td>   -0.3716</td> <td>    0.116</td> <td>   -3.193</td> <td> 0.001</td> <td>   -0.600</td> <td>   -0.143</td>\n",
       "</tr>\n",
       "<tr>\n",
       "  <th>sigma2</th>   <td>  9.84e+07</td> <td> 3.11e-10</td> <td> 3.16e+17</td> <td> 0.000</td> <td> 9.84e+07</td> <td> 9.84e+07</td>\n",
       "</tr>\n",
       "</table>\n",
       "<table class=\"simpletable\">\n",
       "<tr>\n",
       "  <th>Ljung-Box (L1) (Q):</th>     <td>0.37</td> <th>  Jarque-Bera (JB):  </th> <td>34.14</td>\n",
       "</tr>\n",
       "<tr>\n",
       "  <th>Prob(Q):</th>                <td>0.54</td> <th>  Prob(JB):          </th> <td>0.00</td> \n",
       "</tr>\n",
       "<tr>\n",
       "  <th>Heteroskedasticity (H):</th> <td>3.25</td> <th>  Skew:              </th> <td>-1.06</td>\n",
       "</tr>\n",
       "<tr>\n",
       "  <th>Prob(H) (two-sided):</th>    <td>0.02</td> <th>  Kurtosis:          </th> <td>6.26</td> \n",
       "</tr>\n",
       "</table><br/><br/>Warnings:<br/>[1] Covariance matrix calculated using the outer product of gradients (complex-step).<br/>[2] Covariance matrix is singular or near-singular, with condition number    inf. Standard errors may be unstable."
      ],
      "text/plain": [
       "<class 'statsmodels.iolib.summary.Summary'>\n",
       "\"\"\"\n",
       "                                     SARIMAX Results                                      \n",
       "==========================================================================================\n",
       "Dep. Variable:                                AQI   No. Observations:                   67\n",
       "Model:             SARIMAX(0, 1, 0)x(1, 1, 0, 12)   Log Likelihood                -572.993\n",
       "Date:                            Tue, 04 Jan 2022   AIC                           1149.986\n",
       "Time:                                    11:58:17   BIC                           1153.964\n",
       "Sample:                                01-01-2015   HQIC                          1151.520\n",
       "                                     - 07-01-2020                                         \n",
       "Covariance Type:                              opg                                         \n",
       "==============================================================================\n",
       "                 coef    std err          z      P>|z|      [0.025      0.975]\n",
       "------------------------------------------------------------------------------\n",
       "ar.S.L12      -0.3716      0.116     -3.193      0.001      -0.600      -0.143\n",
       "sigma2       9.84e+07   3.11e-10   3.16e+17      0.000    9.84e+07    9.84e+07\n",
       "===================================================================================\n",
       "Ljung-Box (L1) (Q):                   0.37   Jarque-Bera (JB):                34.14\n",
       "Prob(Q):                              0.54   Prob(JB):                         0.00\n",
       "Heteroskedasticity (H):               3.25   Skew:                            -1.06\n",
       "Prob(H) (two-sided):                  0.02   Kurtosis:                         6.26\n",
       "===================================================================================\n",
       "\n",
       "Warnings:\n",
       "[1] Covariance matrix calculated using the outer product of gradients (complex-step).\n",
       "[2] Covariance matrix is singular or near-singular, with condition number    inf. Standard errors may be unstable.\n",
       "\"\"\""
      ]
     },
     "execution_count": 180,
     "metadata": {},
     "output_type": "execute_result"
    }
   ],
   "source": [
    "model=sarimax.SARIMAX(train,order=(0,1,0),seasonal_order=(1,1,0,12),trend=\"n\")\n",
    "result=model.fit()\n",
    "result.summary()"
   ]
  },
  {
   "cell_type": "code",
   "execution_count": 181,
   "id": "85aead03",
   "metadata": {},
   "outputs": [
    {
     "data": {
      "text/plain": [
       "<AxesSubplot:xlabel='Date'>"
      ]
     },
     "execution_count": 181,
     "metadata": {},
     "output_type": "execute_result"
    },
    {
     "data": {
      "image/png": "[encoded data removed]",
      "text/plain": [
       "<Figure size 864x576 with 1 Axes>"
      ]
     },
     "metadata": {
      "needs_background": "light"
     },
     "output_type": "display_data"
    }
   ],
   "source": [
    "df[\"forecast\"]=result.predict(start=50,end=100,dynamic=True)\n",
    "df[[\"AQI\",\"forecast\"]].plot(figsize=(12,8))"
   ]
  },
  {
   "cell_type": "code",
   "execution_count": 175,
   "id": "977f5275",
   "metadata": {},
   "outputs": [],
   "source": [
    "def mean_absolute_percentage_error(y_true, y_pred): \n",
    "    y_true, y_pred = np.array(y_true), np.array(y_pred)\n",
    "    return np.mean(np.abs((y_true - y_pred) / y_true)) * 100"
   ]
  },
  {
   "cell_type": "code",
   "execution_count": null,
   "id": "d9042e5a",
   "metadata": {},
   "outputs": [],
   "source": []
  }
 ],
 "metadata": {
  "kernelspec": {
   "display_name": "Python 3 (ipykernel)",
   "language": "python",
   "name": "python3"
  },
  "language_info": {
   "codemirror_mode": {
    "name": "ipython",
    "version": 3
   },
   "file_extension": ".py",
   "mimetype": "text/x-python",
   "name": "python",
   "nbconvert_exporter": "python",
   "pygments_lexer": "ipython3",
   "version": "3.8.5"
  }
 },
 "nbformat": 4,
 "nbformat_minor": 5
}
